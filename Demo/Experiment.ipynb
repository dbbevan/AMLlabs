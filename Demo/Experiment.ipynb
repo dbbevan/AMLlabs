{
 "cells": [
  {
   "cell_type": "markdown",
   "metadata": {},
   "source": [
    "# Azure ML experiments\n",
    "<br>\n",
    "\n",
    "<img src='https://github.com/retkowsky/images/blob/master/AzureMLservicebanniere.png?raw=true'>\n",
    "\n",
    "\n",
    "Documentation : https://docs.microsoft.com/en-us/azure/machine-learning/"
   ]
  },
  {
   "cell_type": "markdown",
   "metadata": {},
   "source": [
    "## 0. Settings"
   ]
  },
  {
   "cell_type": "code",
   "execution_count": 30,
   "metadata": {
    "gather": {
     "logged": 1604047479622
    }
   },
   "outputs": [
    {
     "name": "stdout",
     "output_type": "stream",
     "text": [
      "Today is 2021-01-08 12:09:53.600813\n"
     ]
    }
   ],
   "source": [
    "import datetime\n",
    "today = datetime.datetime.now()\n",
    "print(\"Today is\", today)"
   ]
  },
  {
   "cell_type": "code",
   "execution_count": 31,
   "metadata": {},
   "outputs": [],
   "source": [
    "import scipy, matplotlib, pandas, sklearn\n",
    "import numpy as np\n",
    "import azureml.core\n",
    "from azureml.core.experiment import Experiment\n",
    "from azureml.core.workspace import Workspace\n",
    "from azureml.train.automl import AutoMLConfig\n",
    "from azureml.train.automl.run import AutoMLRun"
   ]
  },
  {
   "cell_type": "code",
   "execution_count": 32,
   "metadata": {},
   "outputs": [
    {
     "name": "stdout",
     "output_type": "stream",
     "text": [
      "You are using Python 3.6.9 |Anaconda, Inc.| (default, Jul 30 2019, 19:07:31) \n",
      "[GCC 7.3.0]\n"
     ]
    }
   ],
   "source": [
    "import sys\n",
    "print(\"You are using Python\", sys.version)"
   ]
  },
  {
   "cell_type": "code",
   "execution_count": 33,
   "metadata": {},
   "outputs": [
    {
     "name": "stdout",
     "output_type": "stream",
     "text": [
      "Releases:\n",
      "- scipy = 1.5.2\n",
      "- numpy = 1.18.5\n",
      "- matplotlib = 3.2.1\n",
      "- pandas = 0.25.3\n",
      "- sklearn = 0.22.2.post1\n",
      "- Azure ML = 1.19.0\n"
     ]
    }
   ],
   "source": [
    "print(\"Releases:\")\n",
    "print('- scipy = {}'.format(scipy.__version__))\n",
    "print('- numpy = {}'.format(np.__version__))\n",
    "print('- matplotlib = {}'.format(matplotlib.__version__))\n",
    "print('- pandas = {}'.format(pandas.__version__))\n",
    "print('- sklearn = {}'.format(sklearn.__version__))\n",
    "print(\"- Azure ML =\",azureml.core.VERSION)"
   ]
  },
  {
   "cell_type": "markdown",
   "metadata": {},
   "source": [
    "> Azure ML Release notes: https://docs.microsoft.com/en-us/azure/machine-learning/azure-machine-learning-release-notes"
   ]
  },
  {
   "cell_type": "markdown",
   "metadata": {},
   "source": [
    "## Let's connect to the Azure ML workspace"
   ]
  },
  {
   "cell_type": "code",
   "execution_count": 34,
   "metadata": {},
   "outputs": [
    {
     "name": "stdout",
     "output_type": "stream",
     "text": [
      "Azure ML Workspace name: AMLworkshop\n",
      "Azure region: westeurope\n",
      "Resource group: AMLworkshop-rg\n"
     ]
    }
   ],
   "source": [
    "from azureml.core import Workspace\n",
    "\n",
    "ws = Workspace.from_config()\n",
    "print('Azure ML Workspace name: ' + ws.name, \n",
    "      'Azure region: ' + ws.location, \n",
    "      'Resource group: ' + ws.resource_group, sep='\\n')"
   ]
  },
  {
   "cell_type": "markdown",
   "metadata": {},
   "source": [
    "## 1. Data"
   ]
  },
  {
   "cell_type": "code",
   "execution_count": 35,
   "metadata": {},
   "outputs": [],
   "source": [
    "from sklearn.datasets import load_diabetes\n",
    "from sklearn.linear_model import Ridge\n",
    "from sklearn.metrics import mean_squared_error\n",
    "from sklearn.model_selection import train_test_split\n",
    "\n",
    "import joblib"
   ]
  },
  {
   "cell_type": "code",
   "execution_count": 36,
   "metadata": {},
   "outputs": [
    {
     "name": "stdout",
     "output_type": "stream",
     "text": [
      "You are using scikit-learn 0.22.2.post1\n"
     ]
    }
   ],
   "source": [
    "# scikit-learn version\n",
    "import sklearn\n",
    "print(\"You are using scikit-learn\", sklearn.__version__)"
   ]
  },
  {
   "cell_type": "markdown",
   "metadata": {},
   "source": [
    "#### Data : DIABETES\n",
    "From Bradley Efron, Trevor Hastie, Iain Johnstone and Robert Tibshirani (2004) \"Least Angle Regression,\" Annals of Statistics (with discussion), 407-499, we have\n",
    "\n",
    "\"Ten baseline variables, age, sex, body mass index, average blood pressure, and six blood serum measurements were obtained for each of n = 442 diabetes patients, as well as the response of interest, a quantitative measure of disease progression one year after baseline.\"\n",
    "> https://www4.stat.ncsu.edu/~boos/var.select/diabetes.html"
   ]
  },
  {
   "cell_type": "code",
   "execution_count": 37,
   "metadata": {},
   "outputs": [],
   "source": [
    "X, y = load_diabetes(return_X_y = True)\n",
    "columns = ['age', 'gender', 'bmi', 'bp', 's1', 's2', 's3', 's4', 's5', 's6']"
   ]
  },
  {
   "cell_type": "code",
   "execution_count": 38,
   "metadata": {},
   "outputs": [],
   "source": [
    "# Test population in %\n",
    "testsizepct=0.30"
   ]
  },
  {
   "cell_type": "code",
   "execution_count": 39,
   "metadata": {},
   "outputs": [],
   "source": [
    "X_train, X_test, y_train, y_test = train_test_split(X, y, test_size=testsizepct, random_state=0)\n",
    "\n",
    "data = {\n",
    "    \"train\":{\"X\": X_train, \"y\": y_train},        \n",
    "    \"test\":{\"X\": X_test, \"y\": y_test}\n",
    "}"
   ]
  },
  {
   "cell_type": "code",
   "execution_count": 40,
   "metadata": {},
   "outputs": [
    {
     "name": "stdout",
     "output_type": "stream",
     "text": [
      "Training dataset = 309 observations - 69.91 %\n",
      "Test dataset = 133 observations - 30.09 %\n"
     ]
    }
   ],
   "source": [
    "nobstrain=len(data['train']['X'])\n",
    "nobstest=len(data['test']['X'])\n",
    "nobstotal=nobstrain+nobstest\n",
    "pcttrain=round(nobstrain/nobstotal*100,2)\n",
    "pcttest=round(nobstest/nobstotal*100,2)\n",
    "print (\"Training dataset =\", nobstrain, 'observations -', pcttrain, '%')\n",
    "print (\"Test dataset =\", nobstest, 'observations -', pcttest,'%')"
   ]
  },
  {
   "cell_type": "markdown",
   "metadata": {},
   "source": [
    "## 2. Let's build a model to predict Diabetes level"
   ]
  },
  {
   "cell_type": "markdown",
   "metadata": {},
   "source": [
    "We will use a **Ridge** regression.<br> \n",
    "<img src='https://github.com/retkowsky/images/blob/master/ridge.png?raw=true'>\n",
    "<br>\n",
    "\n",
    "\n"
   ]
  },
  {
   "cell_type": "markdown",
   "metadata": {},
   "source": [
    "### Creation of an Azure ML experimentation"
   ]
  },
  {
   "cell_type": "code",
   "execution_count": 41,
   "metadata": {},
   "outputs": [],
   "source": [
    "from azureml.core import experiment\n",
    "experiment = Experiment(workspace=ws, name=\"Experimentation-Diabetes\")"
   ]
  },
  {
   "cell_type": "code",
   "execution_count": 42,
   "metadata": {},
   "outputs": [],
   "source": [
    "def regridge(k):\n",
    "    \n",
    "    # 1. Starting\n",
    "    run = experiment.start_logging(snapshot_directory=None)\n",
    "    \n",
    "    print('k =', k)\n",
    "    print()    \n",
    "       \n",
    "    # 2. Logging\n",
    "    run.log('k', k) \n",
    "    run.log('Test Size', testsizepct)\n",
    "    run.log('Nobs Training', nobstrain)\n",
    "    run.log('Nobs Test', nobstest)\n",
    "    \n",
    "    print('Test Size =', testsizepct)\n",
    "    print('Numbers of obs for the Training dataset =', nobstrain)\n",
    "    print('Number of obs for the Testing dataset =', nobstest)    \n",
    "    print()\n",
    "    \n",
    "    # 3. ML model\n",
    "    regression_model = Ridge(alpha=k)\n",
    "    regression_model.fit(data['train']['X'], data['train']['y'])\n",
    "    preds = regression_model.predict(data['test']['X'])\n",
    "\n",
    "    # 4. Logging ML metrics\n",
    "    from sklearn.metrics import r2_score\n",
    "    import math\n",
    "    \n",
    "    mse = round(mean_squared_error(data['test']['y'], preds), 4)\n",
    "    rmse = round(math.sqrt(mse), 4)\n",
    "    R2 = round(r2_score(data['test']['y'], preds), 4)\n",
    "    \n",
    "    print('- RMSE =', rmse)\n",
    "    print('- MSE =', mse)\n",
    "    print('- R2 =', R2)\n",
    "    \n",
    "    run.log(\"rmse\", rmse)\n",
    "    run.log('mse', mse)\n",
    "    run.log('R2', R2)\n",
    "\n",
    "    # 5. Saving the model\n",
    "    \n",
    "    model_name = \"RegRidgeModele-k-\" + str(k) + \".pkl\"\n",
    "    filename = \"outputs/\" + model_name\n",
    "    joblib.dump(value=regression_model, filename=filename)\n",
    "    run.upload_file(name=model_name, path_or_stream=filename)\n",
    "    \n",
    "    # 6. Tags\n",
    "    run.tag(\"Langage\", \"Python\")\n",
    "    run.tag(\"Version_Python\", \"3.6.9\")\n",
    "    run.tag(\"Version_AzureML\", \"1.1.18\")\n",
    "    run.tag(\"Team\", \"DataScience France\")\n",
    "    run.tag(\"Pays\", \"France\") \n",
    "    run.tag(\"Auteur\", \"Serge\") \n",
    "    \n",
    "    # 7. Graph generation\n",
    "    %matplotlib inline\n",
    "    import matplotlib.pyplot as plt\n",
    "\n",
    "    fig = plt.figure(1)\n",
    "    idx = np.argsort(data['test']['y'])\n",
    "    plt.plot(data['test']['y'][idx],preds[idx])\n",
    "    \n",
    "    fig.savefig(\"outputs/RegRidgeGraphique-k-\"+str(k)+\".png\")\n",
    "    plt.title('Ridge', fontsize=10)\n",
    "    \n",
    "    run.log_image(name='My Graph', plot=plt) # Logging the graph into the experiment\n",
    "    \n",
    "    # 6. End\n",
    "    run.complete()"
   ]
  },
  {
   "cell_type": "markdown",
   "metadata": {},
   "source": [
    "### Let's call the Python function with different k values"
   ]
  },
  {
   "cell_type": "code",
   "execution_count": 43,
   "metadata": {},
   "outputs": [
    {
     "name": "stdout",
     "output_type": "stream",
     "text": [
      "k = 0.1\n",
      "\n",
      "Test Size = 0.3\n",
      "Numbers of obs for the Training dataset = 309\n",
      "Number of obs for the Testing dataset = 133\n",
      "\n",
      "- RMSE = 55.2271\n",
      "- MSE = 3050.0324\n",
      "- R2 = 0.4021\n"
     ]
    },
    {
     "data": {
      "image/png": "[encoded data removed]",
      "text/plain": [
       "<Figure size 432x288 with 1 Axes>"
      ]
     },
     "metadata": {
      "needs_background": "light"
     },
     "output_type": "display_data"
    }
   ],
   "source": [
    "regridge(0.1)"
   ]
  },
  {
   "cell_type": "code",
   "execution_count": 44,
   "metadata": {},
   "outputs": [
    {
     "name": "stdout",
     "output_type": "stream",
     "text": [
      "k = 0.2\n",
      "\n",
      "Test Size = 0.3\n",
      "Numbers of obs for the Training dataset = 309\n",
      "Number of obs for the Testing dataset = 133\n",
      "\n",
      "- RMSE = 55.0152\n",
      "- MSE = 3026.6677\n",
      "- R2 = 0.4067\n"
     ]
    },
    {
     "data": {
      "image/png": "[encoded data removed]",
      "text/plain": [
       "<Figure size 432x288 with 1 Axes>"
      ]
     },
     "metadata": {
      "needs_background": "light"
     },
     "output_type": "display_data"
    }
   ],
   "source": [
    "regridge(0.2)"
   ]
  },
  {
   "cell_type": "code",
   "execution_count": 45,
   "metadata": {},
   "outputs": [
    {
     "name": "stdout",
     "output_type": "stream",
     "text": [
      "k = 0.3\n",
      "\n",
      "Test Size = 0.3\n",
      "Numbers of obs for the Training dataset = 309\n",
      "Number of obs for the Testing dataset = 133\n",
      "\n",
      "- RMSE = 55.0521\n",
      "- MSE = 3030.7343\n",
      "- R2 = 0.4059\n"
     ]
    },
    {
     "data": {
      "image/png": "[encoded data removed]",
      "text/plain": [
       "<Figure size 432x288 with 1 Axes>"
      ]
     },
     "metadata": {
      "needs_background": "light"
     },
     "output_type": "display_data"
    }
   ],
   "source": [
    "regridge(0.3)"
   ]
  },
  {
   "cell_type": "markdown",
   "metadata": {},
   "source": [
    "## Let's save the best model into the model repository. All models are versioned."
   ]
  },
  {
   "cell_type": "markdown",
   "metadata": {},
   "source": [
    "Best model is for k=0.2"
   ]
  },
  {
   "cell_type": "code",
   "execution_count": 46,
   "metadata": {},
   "outputs": [],
   "source": [
    "mymodel='RegRidgeModele-k-0.2.pkl'\n",
    "k=0.2\n",
    "\n",
    "RMSE = 55.0152\n",
    "MSE = 3026.6677\n",
    "R2 = 0.4067"
   ]
  },
  {
   "cell_type": "code",
   "execution_count": 47,
   "metadata": {},
   "outputs": [
    {
     "name": "stdout",
     "output_type": "stream",
     "text": [
      "Registering model diabeteprediction\n"
     ]
    }
   ],
   "source": [
    "from azureml.core.model import Model\n",
    "\n",
    "model = Model.register(model_path=\"outputs/\"+mymodel, \n",
    "                       model_name=\"diabeteprediction\", \n",
    "                       model_framework=Model.Framework.SCIKITLEARN, \n",
    "                       model_framework_version='0.22.2',            \n",
    "                       tags={'area': 'Diabetes', \n",
    "                             'type': 'Ridge', \n",
    "                             'k':k, \n",
    "                             'MSE' : MSE, \n",
    "                             'R2' : R2,\n",
    "                             'RMSE' : RMSE,\n",
    "                             'Framework' : 'Azure ML'},\n",
    "                       description=\"My Ridge regression model for Diabetes prediction\",\n",
    "                       workspace=ws) "
   ]
  },
  {
   "cell_type": "code",
   "execution_count": 48,
   "metadata": {},
   "outputs": [
    {
     "data": {
      "text/plain": [
       "datetime.datetime(2021, 1, 8, 12, 10, 40, 346508, tzinfo=<isodate.tzinfo.Utc object at 0x7f223ef84b70>)"
      ]
     },
     "execution_count": 48,
     "metadata": {},
     "output_type": "execute_result"
    }
   ],
   "source": [
    "model.created_time"
   ]
  },
  {
   "cell_type": "code",
   "execution_count": 49,
   "metadata": {},
   "outputs": [
    {
     "data": {
      "text/plain": [
       "'diabeteprediction:4'"
      ]
     },
     "execution_count": 49,
     "metadata": {},
     "output_type": "execute_result"
    }
   ],
   "source": [
    "model.id"
   ]
  },
  {
   "cell_type": "code",
   "execution_count": 50,
   "metadata": {},
   "outputs": [
    {
     "data": {
      "text/plain": [
       "{'area': 'Diabetes',\n",
       " 'type': 'Ridge',\n",
       " 'k': '0.2',\n",
       " 'MSE': '3026.6677',\n",
       " 'R2': '0.4067',\n",
       " 'RMSE': '55.0152',\n",
       " 'Framework': 'Azure ML'}"
      ]
     },
     "execution_count": 50,
     "metadata": {},
     "output_type": "execute_result"
    }
   ],
   "source": [
    "model.tags"
   ]
  },
  {
   "cell_type": "code",
   "execution_count": 51,
   "metadata": {},
   "outputs": [
    {
     "data": {
      "text/html": [
       "<table style=\"width:100%\"><tr><th>Name</th><th>Workspace</th><th>Report Page</th><th>Docs Page</th></tr><tr><td>Experimentation-Diabetes</td><td>AMLworkshop</td><td><a href=\"https://ml.azure.com/experiments/Experimentation-Diabetes?wsid=/subscriptions/70b8f39e-8863-49f7-b6ba-34a80799550c/resourcegroups/AMLworkshop-rg/workspaces/AMLworkshop\" target=\"_blank\" rel=\"noopener\">Link to Azure Machine Learning studio</a></td><td><a href=\"https://docs.microsoft.com/en-us/python/api/azureml-core/azureml.core.experiment.Experiment?view=azure-ml-py\" target=\"_blank\" rel=\"noopener\">Link to Documentation</a></td></tr></table>"
      ],
      "text/plain": [
       "Experiment(Name: Experimentation-Diabetes,\n",
       "Workspace: AMLworkshop)"
      ]
     },
     "execution_count": 51,
     "metadata": {},
     "output_type": "execute_result"
    }
   ],
   "source": [
    "experiment"
   ]
  }
 ],
 "metadata": {
  "kernel_info": {
   "name": "python3-azureml"
  },
  "kernelspec": {
   "display_name": "Python 3.6 - AzureML",
   "language": "python",
   "name": "python3-azureml"
  },
  "language_info": {
   "codemirror_mode": {
    "name": "ipython",
    "version": 3
   },
   "file_extension": ".py",
   "mimetype": "text/x-python",
   "name": "python",
   "nbconvert_exporter": "python",
   "pygments_lexer": "ipython3",
   "version": "3.6.9"
  },
  "nteract": {
   "version": "nteract-front-end@1.0.0"
  }
 },
 "nbformat": 4,
 "nbformat_minor": 2
}
