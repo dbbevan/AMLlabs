{
 "cells": [
  {
   "cell_type": "markdown",
   "metadata": {},
   "source": [
    "# Lab2: AutoML for Classification"
   ]
  },
  {
   "cell_type": "markdown",
   "metadata": {},
   "source": [
    "<img src='https://github.com/retkowsky/images/blob/master/AzureMLservicebanniere.png?raw=true'>"
   ]
  },
  {
   "cell_type": "markdown",
   "metadata": {},
   "source": [
    "We are going to use the AutoML feature of Azure ML. \n",
    "Automated machine learning, also referred to as **automated ML or AutoML**, is the process of automating the time consuming, iterative tasks of machine learning model development. It allows data scientists, analysts, and developers to **build ML models with high scale, efficiency, and productivity all while sustaining model quality**. Automated ML is based on a breakthrough from our **Microsoft Research division**.\n",
    "\n",
    "Traditional machine learning model development is resource-intensive, requiring significant domain knowledge and time to produce and compare dozens of models. With automated machine learning, **you'll accelerate the time it takes to get production-ready ML models with great ease and efficiency**."
   ]
  },
  {
   "cell_type": "markdown",
   "metadata": {},
   "source": [
    "<img src=\"https://docs.microsoft.com/ko-kr/azure/machine-learning/service/media/how-to-automated-ml/automl-concept-diagram2.png\">"
   ]
  },
  {
   "cell_type": "markdown",
   "metadata": {},
   "source": [
    "This is a copy of the test set of the **UCI ML hand-written digits datasets** http://archive.ics.uci.edu/ml/datasets/Optical+Recognition+of+Handwritten+Digits\n",
    "\n",
    "The data set contains images of hand-written digits: 10 classes where each class refers to a digit.\n",
    "\n"
   ]
  },
  {
   "cell_type": "markdown",
   "metadata": {},
   "source": [
    "<img src=\"https://www.seewald.at/img/L/digits.gif\">\n"
   ]
  },
  {
   "cell_type": "markdown",
   "metadata": {},
   "source": [
    "### Azure AutoML documentation\n",
    "> https://docs.microsoft.com/en-us/azure/machine-learning/service/how-to-automated-ml"
   ]
  },
  {
   "cell_type": "markdown",
   "metadata": {},
   "source": [
    "## 1. Informations\n",
    "\n",
    "As part of the setup you have already created an Azure ML `Workspace` object. <br> For AutoML you will need to create an `Experiment` object, which is a named object in a `Workspace` used to run experiments."
   ]
  },
  {
   "cell_type": "code",
   "execution_count": 1,
   "metadata": {},
   "outputs": [
    {
     "data": {
      "text/plain": [
       "'3.6.9 |Anaconda, Inc.| (default, Jul 30 2019, 19:07:31) \\n[GCC 7.3.0]'"
      ]
     },
     "execution_count": 1,
     "metadata": {},
     "output_type": "execute_result"
    }
   ],
   "source": [
    "import sys\n",
    "sys.version"
   ]
  },
  {
   "cell_type": "code",
   "execution_count": 2,
   "metadata": {},
   "outputs": [
    {
     "name": "stdout",
     "output_type": "stream",
     "text": [
      "2020-12-14 14:01:00.251777\n"
     ]
    }
   ],
   "source": [
    "import datetime\n",
    "now = datetime.datetime.now()\n",
    "print(now)"
   ]
  },
  {
   "cell_type": "code",
   "execution_count": 3,
   "metadata": {},
   "outputs": [
    {
     "name": "stdout",
     "output_type": "stream",
     "text": [
      "Azure ML version is 1.18.0\n"
     ]
    }
   ],
   "source": [
    "import azureml.core\n",
    "print(\"Azure ML version is\", azureml.core.VERSION)"
   ]
  },
  {
   "cell_type": "code",
   "execution_count": 4,
   "metadata": {},
   "outputs": [],
   "source": [
    "import logging\n",
    "import os\n",
    "import random\n",
    "\n",
    "from matplotlib import pyplot as plt\n",
    "from matplotlib.pyplot import imshow\n",
    "import numpy as np\n",
    "import pandas as pd\n",
    "from sklearn import datasets\n",
    "\n",
    "import azureml.core\n",
    "from azureml.core.experiment import Experiment\n",
    "from azureml.core.workspace import Workspace\n",
    "from azureml.train.automl import AutoMLConfig\n",
    "from azureml.train.automl.run import AutoMLRun"
   ]
  },
  {
   "cell_type": "markdown",
   "metadata": {},
   "source": [
    "## 2. Experiment"
   ]
  },
  {
   "cell_type": "code",
   "execution_count": 5,
   "metadata": {},
   "outputs": [
    {
     "data": {
      "text/html": [
       "<div>\n",
       "<style scoped>\n",
       "    .dataframe tbody tr th:only-of-type {\n",
       "        vertical-align: middle;\n",
       "    }\n",
       "\n",
       "    .dataframe tbody tr th {\n",
       "        vertical-align: top;\n",
       "    }\n",
       "\n",
       "    .dataframe thead th {\n",
       "        text-align: right;\n",
       "    }\n",
       "</style>\n",
       "<table border=\"1\" class=\"dataframe\">\n",
       "  <thead>\n",
       "    <tr style=\"text-align: right;\">\n",
       "      <th></th>\n",
       "      <th></th>\n",
       "    </tr>\n",
       "  </thead>\n",
       "  <tbody>\n",
       "    <tr>\n",
       "      <th>Azure ML SDK version</th>\n",
       "      <td>1.18.0</td>\n",
       "    </tr>\n",
       "    <tr>\n",
       "      <th>Workspace Name</th>\n",
       "      <td>AMLworkshop</td>\n",
       "    </tr>\n",
       "    <tr>\n",
       "      <th>Resource Group</th>\n",
       "      <td>AMLworkshop-rg</td>\n",
       "    </tr>\n",
       "    <tr>\n",
       "      <th>Location</th>\n",
       "      <td>westeurope</td>\n",
       "    </tr>\n",
       "    <tr>\n",
       "      <th>Project Directory</th>\n",
       "      <td>./sample_projects/lab2</td>\n",
       "    </tr>\n",
       "    <tr>\n",
       "      <th>Experiment Name</th>\n",
       "      <td>Lab2-AutoML</td>\n",
       "    </tr>\n",
       "  </tbody>\n",
       "</table>\n",
       "</div>"
      ],
      "text/plain": [
       "                                            \n",
       "Azure ML SDK version  1.18.0                \n",
       "Workspace Name        AMLworkshop           \n",
       "Resource Group        AMLworkshop-rg        \n",
       "Location              westeurope            \n",
       "Project Directory     ./sample_projects/lab2\n",
       "Experiment Name       Lab2-AutoML           "
      ]
     },
     "execution_count": 5,
     "metadata": {},
     "output_type": "execute_result"
    }
   ],
   "source": [
    "ws = Workspace.from_config()\n",
    "\n",
    "experiment_name = 'Lab2-AutoML'\n",
    "\n",
    "project_folder = './sample_projects/lab2'\n",
    "\n",
    "experiment = Experiment(ws, experiment_name)\n",
    "\n",
    "output = {}\n",
    "output['Azure ML SDK version'] = azureml.core.VERSION\n",
    "output['Workspace Name'] = ws.name\n",
    "output['Resource Group'] = ws.resource_group\n",
    "output['Location'] = ws.location\n",
    "output['Project Directory'] = project_folder\n",
    "output['Experiment Name'] = experiment.name\n",
    "pd.set_option('display.max_colwidth', -1)\n",
    "pd.DataFrame(data = output, index = ['']).T"
   ]
  },
  {
   "cell_type": "markdown",
   "metadata": {},
   "source": [
    "## 3. Loading the dataset\n",
    "\n",
    "This uses scikit-learn's [load_digits](http://scikit-learn.org/stable/modules/generated/sklearn.datasets.load_digits.html) method.\n",
    "Each datapoint is a 8x8 image of a digit."
   ]
  },
  {
   "cell_type": "code",
   "execution_count": 6,
   "metadata": {},
   "outputs": [],
   "source": [
    "from sklearn import datasets\n",
    "\n",
    "digits = datasets.load_digits()\n",
    "\n",
    "# Exclude the first 100 rows from training so that they can be used for test.\n",
    "X_train = digits.data[100:,:]\n",
    "y_train = digits.target[100:]"
   ]
  },
  {
   "cell_type": "code",
   "execution_count": 7,
   "metadata": {},
   "outputs": [
    {
     "name": "stdout",
     "output_type": "stream",
     "text": [
      "Dataset Size = (1797, 64)\n"
     ]
    }
   ],
   "source": [
    "print(\"Dataset Size =\", digits.data.shape)"
   ]
  },
  {
   "cell_type": "code",
   "execution_count": 8,
   "metadata": {},
   "outputs": [],
   "source": [
    "def view(number):\n",
    "    import matplotlib.pyplot as plt \n",
    "    plt.gray() \n",
    "    plt.matshow(digits.images[number]) \n",
    "    plt.show() "
   ]
  },
  {
   "cell_type": "code",
   "execution_count": 9,
   "metadata": {},
   "outputs": [
    {
     "data": {
      "text/plain": [
       "<Figure size 432x288 with 0 Axes>"
      ]
     },
     "metadata": {},
     "output_type": "display_data"
    },
    {
     "data": {
      "image/png": "[encoded data removed]",
      "text/plain": [
       "<Figure size 288x288 with 1 Axes>"
      ]
     },
     "metadata": {
      "needs_background": "light"
     },
     "output_type": "display_data"
    }
   ],
   "source": [
    "view(0)"
   ]
  },
  {
   "cell_type": "code",
   "execution_count": 10,
   "metadata": {},
   "outputs": [
    {
     "data": {
      "text/plain": [
       "<Figure size 432x288 with 0 Axes>"
      ]
     },
     "metadata": {},
     "output_type": "display_data"
    },
    {
     "data": {
      "image/png": "[encoded data removed]",
      "text/plain": [
       "<Figure size 288x288 with 1 Axes>"
      ]
     },
     "metadata": {
      "needs_background": "light"
     },
     "output_type": "display_data"
    }
   ],
   "source": [
    "view(1)"
   ]
  },
  {
   "cell_type": "code",
   "execution_count": 11,
   "metadata": {},
   "outputs": [
    {
     "data": {
      "text/plain": [
       "<Figure size 432x288 with 0 Axes>"
      ]
     },
     "metadata": {},
     "output_type": "display_data"
    },
    {
     "data": {
      "image/png": "[encoded data removed]",
      "text/plain": [
       "<Figure size 288x288 with 1 Axes>"
      ]
     },
     "metadata": {
      "needs_background": "light"
     },
     "output_type": "display_data"
    }
   ],
   "source": [
    "view(2)"
   ]
  },
  {
   "cell_type": "code",
   "execution_count": 12,
   "metadata": {},
   "outputs": [
    {
     "data": {
      "text/plain": [
       "<Figure size 432x288 with 0 Axes>"
      ]
     },
     "metadata": {},
     "output_type": "display_data"
    },
    {
     "data": {
      "image/png": "[encoded data removed]",
      "text/plain": [
       "<Figure size 288x288 with 1 Axes>"
      ]
     },
     "metadata": {
      "needs_background": "light"
     },
     "output_type": "display_data"
    }
   ],
   "source": [
    "view(9)"
   ]
  },
  {
   "cell_type": "code",
   "execution_count": 13,
   "metadata": {},
   "outputs": [
    {
     "data": {
      "text/plain": [
       "<Figure size 432x288 with 0 Axes>"
      ]
     },
     "metadata": {},
     "output_type": "display_data"
    },
    {
     "data": {
      "image/png": "[encoded data removed]",
      "text/plain": [
       "<Figure size 288x288 with 1 Axes>"
      ]
     },
     "metadata": {
      "needs_background": "light"
     },
     "output_type": "display_data"
    }
   ],
   "source": [
    "view(4)"
   ]
  },
  {
   "cell_type": "markdown",
   "metadata": {},
   "source": [
    "## 4. AutoML configuration\n",
    "\n"
   ]
  },
  {
   "cell_type": "code",
   "execution_count": 14,
   "metadata": {},
   "outputs": [
    {
     "name": "stderr",
     "output_type": "stream",
     "text": [
      "WARNING - The AutoMLConfig parameters, X and y, will soon be deprecated. Please refer to our documentation for the latest interface: https://aka.ms/AutoMLConfig\n"
     ]
    }
   ],
   "source": [
    "automl_config = AutoMLConfig(task = 'classification', #AutoML is also available for Regression and Time series forecasting\n",
    "                             debug_log = 'automlclassif.log',\n",
    "                             primary_metric = 'AUC_weighted', #the metric I want to use to sort the models\n",
    "                             iteration_timeout_minutes = 2, #Timeout for each iteration\n",
    "                             experiment_timeout_minutes = 15, #timeout for the whole process\n",
    "                             enable_early_stopping=True, \n",
    "                             iterations = 10,           # number of max iterations\n",
    "                             n_cross_validations = 3,    # Cross validation\n",
    "                             verbosity = logging.INFO,\n",
    "                             X = X_train, \n",
    "                             y = y_train)"
   ]
  },
  {
   "cell_type": "markdown",
   "metadata": {},
   "source": [
    "## 5. AutoML\n",
    "\n",
    "Call the `submit` method on the experiment object and pass the run configuration. Execution of local runs is synchronous. Depending on the data and the number of iterations this can run for a while.\n",
    "In this example, we specify `show_output = True` to print currently running iterations to the console.\n",
    "\n",
    "`AUC_weighted` is the **metric** used."
   ]
  },
  {
   "cell_type": "code",
   "execution_count": 15,
   "metadata": {},
   "outputs": [],
   "source": [
    "#Only if you want to upgrade\n",
    "#!pip install --upgrade azureml-sdk[automl]\n",
    "#!pip install --upgrade azureml-sdk[explain,contrib]\n",
    "#!pip install interpret-community==0.14.3"
   ]
  },
  {
   "cell_type": "markdown",
   "metadata": {},
   "source": [
    "## Let's run the AutoML process in a local machine (ie your compute instance)"
   ]
  },
  {
   "cell_type": "markdown",
   "metadata": {},
   "source": [
    "> List of the available models: https://docs.microsoft.com/en-us/azure/machine-learning/how-to-configure-auto-train#supported-models"
   ]
  },
  {
   "cell_type": "code",
   "execution_count": 16,
   "metadata": {},
   "outputs": [
    {
     "name": "stdout",
     "output_type": "stream",
     "text": [
      "Running on local machine\n",
      "Parent Run ID: AutoML_a8a7acd2-7ccb-4130-b678-bf7845354aa3\n",
      "\n",
      "Current status: DatasetEvaluation. Gathering dataset statistics.\n",
      "Current status: FeaturesGeneration. Generating features for the dataset.\n",
      "Current status: DatasetFeaturization. Beginning to fit featurizers and featurize the dataset.\n",
      "Current status: DatasetFeaturizationCompleted. Completed fit featurizers and featurizing the dataset.\n",
      "Current status: DatasetCrossValidationSplit. Generating individually featurized CV splits.\n",
      "\n",
      "****************************************************************************************************\n",
      "DATA GUARDRAILS: \n",
      "\n",
      "TYPE:         Class balancing detection\n",
      "STATUS:       PASSED\n",
      "DESCRIPTION:  Your inputs were analyzed, and all classes are balanced in your training data.\n",
      "              Learn more about imbalanced data: https://aka.ms/AutomatedMLImbalancedData\n",
      "\n",
      "****************************************************************************************************\n",
      "\n",
      "TYPE:         Missing feature values imputation\n",
      "STATUS:       PASSED\n",
      "DESCRIPTION:  No feature missing values were detected in the training data.\n",
      "              Learn more about missing value imputation: https://aka.ms/AutomatedMLFeaturization\n",
      "\n",
      "****************************************************************************************************\n",
      "\n",
      "TYPE:         High cardinality feature detection\n",
      "STATUS:       PASSED\n",
      "DESCRIPTION:  Your inputs were analyzed, and no high cardinality features were detected.\n",
      "              Learn more about high cardinality feature handling: https://aka.ms/AutomatedMLFeaturization\n",
      "\n",
      "****************************************************************************************************\n",
      "Current status: ModelSelection. Beginning model selection.\n",
      "\n",
      "****************************************************************************************************\n",
      "ITERATION: The iteration being evaluated.\n",
      "PIPELINE: A summary description of the pipeline being evaluated.\n",
      "DURATION: Time taken for the current iteration.\n",
      "METRIC: The result of computing score on the fitted pipeline.\n",
      "BEST: The best observed score thus far.\n",
      "****************************************************************************************************\n",
      "\n",
      " ITERATION   PIPELINE                                       DURATION      METRIC      BEST\n",
      "         0   MaxAbsScaler LightGBM                          0:00:50       0.9992    0.9992\n",
      "         1   MaxAbsScaler XGBoostClassifier                 0:00:39       0.9992    0.9992\n",
      "         2   MinMaxScaler RandomForest                      0:00:29       0.9850    0.9992\n",
      "         3   RobustScaler ExtremeRandomTrees                0:00:29       0.9930    0.9992\n",
      "         4   MinMaxScaler RandomForest                      0:00:30       0.9955    0.9992\n",
      "         5   MinMaxScaler RandomForest                      0:00:29       0.9826    0.9992\n",
      "         6   StandardScalerWrapper RandomForest             0:00:28       0.9951    0.9992\n",
      "         7   MinMaxScaler ExtremeRandomTrees                0:00:28       0.9670    0.9992\n",
      "         8   VotingEnsemble                                 0:00:33       0.9993    0.9993\n",
      "         9   StackEnsemble                                  0:01:15       0.9989    0.9993\n",
      "****************************************************************************************************\n",
      "Current status: BestRunExplainModel. Best run model explanations started\n",
      "Current status: ModelExplanationDataSetSetup. Model explanations data setup completed\n",
      "Current status: PickSurrogateModel. Choosing LightGBM as the surrogate model for explanations\n",
      "Current status: EngineeredFeatureExplanations. Computation of engineered features started\n",
      "Current status: EngineeredFeatureExplanations. Computation of engineered features completed\n",
      "Current status: RawFeaturesExplanations. Computation of raw features started\n",
      "Current status: RawFeaturesExplanations. Computation of raw features completed\n",
      "Current status: BestRunExplainModel. Best run model explanations completed\n",
      "****************************************************************************************************\n"
     ]
    }
   ],
   "source": [
    "local_run = experiment.submit(automl_config, show_output = True)"
   ]
  },
  {
   "cell_type": "markdown",
   "metadata": {},
   "source": [
    "## 6. AutoML results"
   ]
  },
  {
   "cell_type": "markdown",
   "metadata": {},
   "source": [
    "### 6.1 Go the experiment to view the results"
   ]
  },
  {
   "cell_type": "code",
   "execution_count": 17,
   "metadata": {},
   "outputs": [
    {
     "data": {
      "text/html": [
       "<table style=\"width:100%\"><tr><th>Experiment</th><th>Id</th><th>Type</th><th>Status</th><th>Details Page</th><th>Docs Page</th></tr><tr><td>Lab2-AutoML</td><td>AutoML_a8a7acd2-7ccb-4130-b678-bf7845354aa3</td><td>automl</td><td>Completed</td><td><a href=\"https://ml.azure.com/experiments/Lab2-AutoML/runs/AutoML_a8a7acd2-7ccb-4130-b678-bf7845354aa3?wsid=/subscriptions/70b8f39e-8863-49f7-b6ba-34a80799550c/resourcegroups/AMLworkshop-rg/workspaces/AMLworkshop\" target=\"_blank\" rel=\"noopener\">Link to Azure Machine Learning studio</a></td><td><a href=\"https://docs.microsoft.com/en-us/python/api/overview/azure/ml/intro?view=azure-ml-py\" target=\"_blank\" rel=\"noopener\">Link to Documentation</a></td></tr></table>"
      ],
      "text/plain": [
       "Run(Experiment: Lab2-AutoML,\n",
       "Id: AutoML_a8a7acd2-7ccb-4130-b678-bf7845354aa3,\n",
       "Type: automl,\n",
       "Status: Completed)"
      ]
     },
     "execution_count": 17,
     "metadata": {},
     "output_type": "execute_result"
    }
   ],
   "source": [
    "local_run"
   ]
  },
  {
   "cell_type": "markdown",
   "metadata": {},
   "source": [
    "### 6.2 AutoML Widget for interactive results from the notebook"
   ]
  },
  {
   "cell_type": "code",
   "execution_count": 18,
   "metadata": {},
   "outputs": [
    {
     "data": {
      "application/vnd.jupyter.widget-view+json": {
       "model_id": "508bee63fd5245d7966639a55d14d190",
       "version_major": 2,
       "version_minor": 0
      },
      "text/plain": [
       "_AutoMLWidget(widget_settings={'childWidgetDisplay': 'popup', 'send_telemetry': False, 'log_level': 'INFO', 's…"
      ]
     },
     "metadata": {},
     "output_type": "display_data"
    },
    {
     "data": {
      "application/aml.mini.widget.v1": "{\"status\": \"Completed\", \"workbench_run_details_uri\": \"https://ml.azure.com/experiments/Lab2-AutoML/runs/AutoML_a8a7acd2-7ccb-4130-b678-bf7845354aa3?wsid=/subscriptions/70b8f39e-8863-49f7-b6ba-34a80799550c/resourcegroups/AMLworkshop-rg/workspaces/AMLworkshop\", \"run_id\": \"AutoML_a8a7acd2-7ccb-4130-b678-bf7845354aa3\", \"run_properties\": {\"run_id\": \"AutoML_a8a7acd2-7ccb-4130-b678-bf7845354aa3\", \"created_utc\": \"2020-12-14T14:01:18.857208Z\", \"properties\": {\"num_iterations\": \"10\", \"training_type\": \"TrainFull\", \"acquisition_function\": \"EI\", \"primary_metric\": \"AUC_weighted\", \"train_split\": \"0\", \"acquisition_parameter\": \"0\", \"num_cross_validation\": \"3\", \"target\": \"local\", \"AMLSettingsJsonString\": \"{\\\"path\\\":null,\\\"name\\\":\\\"Lab2-AutoML\\\",\\\"subscription_id\\\":\\\"70b8f39e-8863-49f7-b6ba-34a80799550c\\\",\\\"resource_group\\\":\\\"AMLworkshop-rg\\\",\\\"workspace_name\\\":\\\"AMLworkshop\\\",\\\"region\\\":\\\"westeurope\\\",\\\"compute_target\\\":\\\"local\\\",\\\"spark_service\\\":null,\\\"azure_service\\\":\\\"Microsoft.AzureNotebookVM\\\",\\\"_local_managed_run_id\\\":null,\\\"many_models\\\":false,\\\"pipeline_fetch_max_batch_size\\\":1,\\\"iterations\\\":10,\\\"primary_metric\\\":\\\"AUC_weighted\\\",\\\"task_type\\\":\\\"classification\\\",\\\"data_script\\\":null,\\\"validation_size\\\":0.0,\\\"n_cross_validations\\\":3,\\\"y_min\\\":null,\\\"y_max\\\":null,\\\"num_classes\\\":10,\\\"featurization\\\":\\\"auto\\\",\\\"_ignore_package_version_incompatibilities\\\":false,\\\"is_timeseries\\\":false,\\\"max_cores_per_iteration\\\":1,\\\"max_concurrent_iterations\\\":1,\\\"iteration_timeout_minutes\\\":2,\\\"mem_in_mb\\\":null,\\\"enforce_time_on_windows\\\":false,\\\"experiment_timeout_minutes\\\":15,\\\"experiment_exit_score\\\":null,\\\"whitelist_models\\\":null,\\\"blacklist_algos\\\":[\\\"TensorFlowLinearClassifier\\\",\\\"TensorFlowDNN\\\"],\\\"supported_models\\\":[\\\"RandomForest\\\",\\\"TensorFlowDNN\\\",\\\"LogisticRegression\\\",\\\"AveragedPerceptronClassifier\\\",\\\"GradientBoosting\\\",\\\"KNN\\\",\\\"SVM\\\",\\\"DecisionTree\\\",\\\"TensorFlowLinearClassifier\\\",\\\"LightGBM\\\",\\\"BernoulliNaiveBayes\\\",\\\"MultinomialNaiveBayes\\\",\\\"SGD\\\",\\\"LinearSVM\\\",\\\"XGBoostClassifier\\\",\\\"ExtremeRandomTrees\\\"],\\\"auto_blacklist\\\":true,\\\"blacklist_samples_reached\\\":false,\\\"exclude_nan_labels\\\":true,\\\"verbosity\\\":20,\\\"_debug_log\\\":\\\"automlclassif.log\\\",\\\"show_warnings\\\":false,\\\"model_explainability\\\":true,\\\"service_url\\\":null,\\\"sdk_url\\\":null,\\\"sdk_packages\\\":null,\\\"enable_onnx_compatible_models\\\":false,\\\"enable_split_onnx_featurizer_estimator_models\\\":false,\\\"vm_type\\\":null,\\\"telemetry_verbosity\\\":20,\\\"send_telemetry\\\":true,\\\"enable_dnn\\\":false,\\\"scenario\\\":\\\"SDK-1.13.0\\\",\\\"environment_label\\\":null,\\\"force_text_dnn\\\":false,\\\"enable_feature_sweeping\\\":true,\\\"enable_early_stopping\\\":true,\\\"early_stopping_n_iters\\\":10,\\\"metrics\\\":null,\\\"enable_ensembling\\\":true,\\\"enable_stack_ensembling\\\":true,\\\"ensemble_iterations\\\":10,\\\"enable_tf\\\":false,\\\"enable_subsampling\\\":false,\\\"subsample_seed\\\":null,\\\"enable_nimbusml\\\":false,\\\"enable_streaming\\\":false,\\\"force_streaming\\\":false,\\\"track_child_runs\\\":true,\\\"allowed_private_models\\\":[],\\\"label_column_name\\\":null,\\\"weight_column_name\\\":null,\\\"cv_split_column_names\\\":null,\\\"enable_local_managed\\\":false,\\\"cost_mode\\\":1,\\\"lag_length\\\":0,\\\"metric_operation\\\":\\\"maximize\\\",\\\"preprocess\\\":true}\", \"DataPrepJsonString\": null, \"EnableSubsampling\": \"False\", \"runTemplate\": \"AutoML\", \"azureml.runsource\": \"automl\", \"display_task_type\": \"classification\", \"dependencies_versions\": \"{\\\"azureml-widgets\\\": \\\"1.18.0\\\", \\\"azureml-train\\\": \\\"1.18.0\\\", \\\"azureml-train-restclients-hyperdrive\\\": \\\"1.18.0\\\", \\\"azureml-train-core\\\": \\\"1.18.0\\\", \\\"azureml-train-automl\\\": \\\"1.18.0\\\", \\\"azureml-train-automl-runtime\\\": \\\"1.18.0\\\", \\\"azureml-train-automl-client\\\": \\\"1.18.0\\\", \\\"azureml-tensorboard\\\": \\\"1.18.0\\\", \\\"azureml-telemetry\\\": \\\"1.18.0\\\", \\\"azureml-sdk\\\": \\\"1.18.0\\\", \\\"azureml-samples\\\": \\\"0+unknown\\\", \\\"azureml-pipeline\\\": \\\"1.18.0\\\", \\\"azureml-pipeline-steps\\\": \\\"1.18.0\\\", \\\"azureml-pipeline-core\\\": \\\"1.18.0\\\", \\\"azureml-opendatasets\\\": \\\"1.18.0\\\", \\\"azureml-model-management-sdk\\\": \\\"1.0.1b6.post1\\\", \\\"azureml-mlflow\\\": \\\"1.18.0\\\", \\\"azureml-interpret\\\": \\\"1.18.0\\\", \\\"azureml-explain-model\\\": \\\"1.18.0\\\", \\\"azureml-defaults\\\": \\\"1.18.0\\\", \\\"azureml-dataset-runtime\\\": \\\"1.18.0\\\", \\\"azureml-dataprep\\\": \\\"2.4.2\\\", \\\"azureml-dataprep-rslex\\\": \\\"1.2.2\\\", \\\"azureml-dataprep-native\\\": \\\"24.0.0\\\", \\\"azureml-datadrift\\\": \\\"1.18.0\\\", \\\"azureml-core\\\": \\\"1.18.0\\\", \\\"azureml-contrib-services\\\": \\\"1.18.0\\\", \\\"azureml-contrib-server\\\": \\\"1.18.0\\\", \\\"azureml-contrib-reinforcementlearning\\\": \\\"1.18.0\\\", \\\"azureml-contrib-pipeline-steps\\\": \\\"1.18.0\\\", \\\"azureml-contrib-notebook\\\": \\\"1.18.0\\\", \\\"azureml-contrib-interpret\\\": \\\"1.18.0\\\", \\\"azureml-contrib-gbdt\\\": \\\"1.18.0\\\", \\\"azureml-contrib-fairness\\\": \\\"1.18.0\\\", \\\"azureml-contrib-dataset\\\": \\\"1.18.0\\\", \\\"azureml-cli-common\\\": \\\"1.18.0\\\", \\\"azureml-automl-runtime\\\": \\\"1.18.0\\\", \\\"azureml-automl-core\\\": \\\"1.18.0\\\", \\\"azureml-accel-models\\\": \\\"1.18.0\\\"}\", \"_aml_system_scenario_identification\": \"Local.Parent\", \"ClientSdkVersion\": \"1.18.0\", \"ClientType\": \"SDK\", \"environment_cpu_name\": \"AzureML-AutoML\", \"environment_cpu_version\": \"49\", \"environment_gpu_name\": \"AzureML-AutoML-GPU\", \"environment_gpu_version\": \"37\", \"root_attribution\": \"automl\", \"attribution\": \"AutoML\", \"Orchestrator\": \"AutoML\", \"_azureml.ComputeTargetType\": \"local\", \"ProblemInfoJsonString\": \"{\\\"dataset_num_categorical\\\": 0, \\\"is_sparse\\\": false, \\\"subsampling\\\": false, \\\"dataset_classes\\\": 10, \\\"dataset_features\\\": 61, \\\"dataset_samples\\\": 1697, \\\"single_frequency_class_detected\\\": false}\", \"feature_skus\": \"automatedml_sdk_guardrails\"}, \"tags\": {\"model_explain_run\": \"best_run\", \"best_score\": \"0.9992651620611631\", \"best_pipeline\": \"VotingEnsemble\", \"automl_best_child_run_id\": \"AutoML_a8a7acd2-7ccb-4130-b678-bf7845354aa3_8\", \"model_explain_best_run_child_id\": \"AutoML_a8a7acd2-7ccb-4130-b678-bf7845354aa3_8\"}, \"end_time_utc\": \"2020-12-14T14:08:14.274856Z\", \"status\": \"Completed\", \"log_files\": {}, \"log_groups\": [], \"run_duration\": \"0:06:55\"}, \"child_runs\": [{\"run_id\": \"AutoML_a8a7acd2-7ccb-4130-b678-bf7845354aa3_0\", \"run_number\": 123, \"metric\": null, \"status\": \"Completed\", \"run_type\": null, \"training_percent\": \"100\", \"start_time\": \"2020-12-14T14:01:46.517696Z\", \"end_time\": \"2020-12-14T14:02:36.958995Z\", \"created_time\": \"2020-12-14T14:01:46.23433Z\", \"created_time_dt\": \"2020-12-14T14:01:46.23433Z\", \"duration\": \"0:00:50\", \"iteration\": \"0\", \"goal\": \"AUC_weighted_max\", \"run_name\": \"MaxAbsScaler, LightGBM\", \"run_properties\": \"copy=True\", \"primary_metric\": 0.99919404, \"best_metric\": 0.99919404}, {\"run_id\": \"AutoML_a8a7acd2-7ccb-4130-b678-bf7845354aa3_1\", \"run_number\": 124, \"metric\": null, \"status\": \"Completed\", \"run_type\": null, \"training_percent\": \"100\", \"start_time\": \"2020-12-14T14:02:37.800275Z\", \"end_time\": \"2020-12-14T14:03:16.75649Z\", \"created_time\": \"2020-12-14T14:02:37.553673Z\", \"created_time_dt\": \"2020-12-14T14:02:37.553673Z\", \"duration\": \"0:00:39\", \"iteration\": \"1\", \"goal\": \"AUC_weighted_max\", \"run_name\": \"MaxAbsScaler, XGBoostClassifier\", \"run_properties\": \"copy=True\", \"primary_metric\": 0.99915093, \"best_metric\": 0.99919404}, {\"run_id\": \"AutoML_a8a7acd2-7ccb-4130-b678-bf7845354aa3_2\", \"run_number\": 125, \"metric\": null, \"status\": \"Completed\", \"run_type\": null, \"training_percent\": \"100\", \"start_time\": \"2020-12-14T14:03:17.661272Z\", \"end_time\": \"2020-12-14T14:03:47.543102Z\", \"created_time\": \"2020-12-14T14:03:17.508117Z\", \"created_time_dt\": \"2020-12-14T14:03:17.508117Z\", \"duration\": \"0:00:30\", \"iteration\": \"2\", \"goal\": \"AUC_weighted_max\", \"run_name\": \"MinMaxScaler, RandomForest\", \"run_properties\": \"copy=True, feature_range=(0, 1\", \"primary_metric\": 0.98503878, \"best_metric\": 0.99919404}, {\"run_id\": \"AutoML_a8a7acd2-7ccb-4130-b678-bf7845354aa3_3\", \"run_number\": 126, \"metric\": null, \"status\": \"Completed\", \"run_type\": null, \"training_percent\": \"100\", \"start_time\": \"2020-12-14T14:03:49.180016Z\", \"end_time\": \"2020-12-14T14:04:18.558915Z\", \"created_time\": \"2020-12-14T14:03:49.02585Z\", \"created_time_dt\": \"2020-12-14T14:03:49.02585Z\", \"duration\": \"0:00:29\", \"iteration\": \"3\", \"goal\": \"AUC_weighted_max\", \"run_name\": \"RobustScaler, ExtremeRandomTrees\", \"run_properties\": \"copy=True, quantile_range=[10, 90], with_centering=False,\\n             with_scaling=False\", \"primary_metric\": 0.99302623, \"best_metric\": 0.99919404}, {\"run_id\": \"AutoML_a8a7acd2-7ccb-4130-b678-bf7845354aa3_4\", \"run_number\": 127, \"metric\": null, \"status\": \"Completed\", \"run_type\": null, \"training_percent\": \"100\", \"start_time\": \"2020-12-14T14:04:20.136292Z\", \"end_time\": \"2020-12-14T14:04:50.707894Z\", \"created_time\": \"2020-12-14T14:04:20.009168Z\", \"created_time_dt\": \"2020-12-14T14:04:20.009168Z\", \"duration\": \"0:00:30\", \"iteration\": \"4\", \"goal\": \"AUC_weighted_max\", \"run_name\": \"MinMaxScaler, RandomForest\", \"run_properties\": \"copy=True, feature_range=(0, 1\", \"primary_metric\": 0.99546339, \"best_metric\": 0.99919404}, {\"run_id\": \"AutoML_a8a7acd2-7ccb-4130-b678-bf7845354aa3_5\", \"run_number\": 128, \"metric\": null, \"status\": \"Completed\", \"run_type\": null, \"training_percent\": \"100\", \"start_time\": \"2020-12-14T14:04:52.23162Z\", \"end_time\": \"2020-12-14T14:05:22.063345Z\", \"created_time\": \"2020-12-14T14:04:52.121218Z\", \"created_time_dt\": \"2020-12-14T14:04:52.121218Z\", \"duration\": \"0:00:29\", \"iteration\": \"5\", \"goal\": \"AUC_weighted_max\", \"run_name\": \"MinMaxScaler, RandomForest\", \"run_properties\": \"copy=True, feature_range=(0, 1\", \"primary_metric\": 0.98255466, \"best_metric\": 0.99919404}, {\"run_id\": \"AutoML_a8a7acd2-7ccb-4130-b678-bf7845354aa3_6\", \"run_number\": 129, \"metric\": null, \"status\": \"Completed\", \"run_type\": null, \"training_percent\": \"100\", \"start_time\": \"2020-12-14T14:05:23.769897Z\", \"end_time\": \"2020-12-14T14:05:52.492979Z\", \"created_time\": \"2020-12-14T14:05:23.581797Z\", \"created_time_dt\": \"2020-12-14T14:05:23.581797Z\", \"duration\": \"0:00:28\", \"iteration\": \"6\", \"goal\": \"AUC_weighted_max\", \"run_name\": \"StandardScalerWrapper, RandomForest\", \"run_properties\": \"<azureml.automl.runtime.shared.model_wrappers.StandardScalerWrapper object at 0x7f46c452b2e8\", \"primary_metric\": 0.9951332, \"best_metric\": 0.99919404}, {\"run_id\": \"AutoML_a8a7acd2-7ccb-4130-b678-bf7845354aa3_7\", \"run_number\": 130, \"metric\": null, \"status\": \"Completed\", \"run_type\": null, \"training_percent\": \"100\", \"start_time\": \"2020-12-14T14:05:54.022679Z\", \"end_time\": \"2020-12-14T14:06:22.356176Z\", \"created_time\": \"2020-12-14T14:05:53.906307Z\", \"created_time_dt\": \"2020-12-14T14:05:53.906307Z\", \"duration\": \"0:00:28\", \"iteration\": \"7\", \"goal\": \"AUC_weighted_max\", \"run_name\": \"MinMaxScaler, ExtremeRandomTrees\", \"run_properties\": \"copy=True, feature_range=(0, 1\", \"primary_metric\": 0.96696001, \"best_metric\": 0.99919404}, {\"run_id\": \"AutoML_a8a7acd2-7ccb-4130-b678-bf7845354aa3_8\", \"run_number\": 131, \"metric\": null, \"status\": \"Completed\", \"run_type\": null, \"training_percent\": \"100\", \"start_time\": \"2020-12-14T14:06:22.794487Z\", \"end_time\": \"2020-12-14T14:06:55.875351Z\", \"created_time\": \"2020-12-14T14:06:22.657216Z\", \"created_time_dt\": \"2020-12-14T14:06:22.657216Z\", \"duration\": \"0:00:33\", \"iteration\": \"8\", \"goal\": \"AUC_weighted_max\", \"run_name\": \"VotingEnsemble\", \"run_properties\": \"classification_labels=None,\\n                              estimators=[('0',\\n                                           Pipeline(memory=None,\\n                                                    steps=[('maxabsscaler',\\n                                                            MaxAbsScaler(copy=True\", \"primary_metric\": 0.99926516, \"best_metric\": 0.99926516}, {\"run_id\": \"AutoML_a8a7acd2-7ccb-4130-b678-bf7845354aa3_9\", \"run_number\": 132, \"metric\": null, \"status\": \"Completed\", \"run_type\": null, \"training_percent\": \"100\", \"start_time\": \"2020-12-14T14:06:56.287641Z\", \"end_time\": \"2020-12-14T14:08:11.71043Z\", \"created_time\": \"2020-12-14T14:06:56.17666Z\", \"created_time_dt\": \"2020-12-14T14:06:56.17666Z\", \"duration\": \"0:01:15\", \"iteration\": \"9\", \"goal\": \"AUC_weighted_max\", \"run_name\": \"StackEnsemble\", \"run_properties\": \"base_learners=[('0',\\n                                        Pipeline(memory=None,\\n                                                 steps=[('maxabsscaler',\\n                                                         MaxAbsScaler(copy=True\", \"primary_metric\": 0.99887448, \"best_metric\": 0.99926516}], \"children_metrics\": {\"categories\": [0], \"series\": {\"log_loss\": [{\"categories\": [\"0\", \"1\", \"2\", \"3\", \"4\", \"5\", \"6\", \"7\", \"8\", \"9\"], \"mode\": \"markers\", \"name\": \"log_loss\", \"stepped\": false, \"type\": \"scatter\", \"data\": [0.11264348157133698, 0.1342876872993016, 0.8253697931234013, 1.0684374132025578, 0.6551211987258464, 0.94060530384606, 0.5580443765703961, 1.120984749768661, 0.24268999854197956, 0.1665239440715496]}, {\"categories\": [\"0\", \"1\", \"2\", \"3\", \"4\", \"5\", \"6\", \"7\", \"8\", \"9\"], \"mode\": \"lines\", \"name\": \"log_loss_min\", \"stepped\": true, \"type\": \"scatter\", \"data\": [0.11264348157133698, 0.11264348157133698, 0.11264348157133698, 0.11264348157133698, 0.11264348157133698, 0.11264348157133698, 0.11264348157133698, 0.11264348157133698, 0.11264348157133698, 0.11264348157133698]}], \"precision_score_weighted\": [{\"categories\": [\"0\", \"1\", \"2\", \"3\", \"4\", \"5\", \"6\", \"7\", \"8\", \"9\"], \"mode\": \"markers\", \"name\": \"precision_score_weighted\", \"stepped\": false, \"type\": \"scatter\", \"data\": [0.9643887974423323, 0.9621190907630258, 0.8638205492502191, 0.920843241724333, 0.9311656576751535, 0.846423427496704, 0.9312901567137836, 0.793222095208614, 0.9655422203157228, 0.9661185961889504]}, {\"categories\": [\"0\", \"1\", \"2\", \"3\", \"4\", \"5\", \"6\", \"7\", \"8\", \"9\"], \"mode\": \"lines\", \"name\": \"precision_score_weighted_max\", \"stepped\": true, \"type\": \"scatter\", \"data\": [0.9643887974423323, 0.9643887974423323, 0.9643887974423323, 0.9643887974423323, 0.9643887974423323, 0.9643887974423323, 0.9643887974423323, 0.9643887974423323, 0.9655422203157228, 0.9661185961889504]}], \"precision_score_micro\": [{\"categories\": [\"0\", \"1\", \"2\", \"3\", \"4\", \"5\", \"6\", \"7\", \"8\", \"9\"], \"mode\": \"markers\", \"name\": \"precision_score_micro\", \"stepped\": false, \"type\": \"scatter\", \"data\": [0.9628839759425456, 0.9605251362873553, 0.8597465003074934, 0.9175031531108956, 0.9286969573782794, 0.8403056172279726, 0.9298800254333573, 0.7760676277140206, 0.9640618322440768, 0.9646497180441331]}, {\"categories\": [\"0\", \"1\", \"2\", \"3\", \"4\", \"5\", \"6\", \"7\", \"8\", \"9\"], \"mode\": \"lines\", \"name\": \"precision_score_micro_max\", \"stepped\": true, \"type\": \"scatter\", \"data\": [0.9628839759425456, 0.9628839759425456, 0.9628839759425456, 0.9628839759425456, 0.9628839759425456, 0.9628839759425456, 0.9628839759425456, 0.9628839759425456, 0.9640618322440768, 0.9646497180441331]}], \"f1_score_micro\": [{\"categories\": [\"0\", \"1\", \"2\", \"3\", \"4\", \"5\", \"6\", \"7\", \"8\", \"9\"], \"mode\": \"markers\", \"name\": \"f1_score_micro\", \"stepped\": false, \"type\": \"scatter\", \"data\": [0.9628839759425456, 0.9605251362873553, 0.8597465003074934, 0.9175031531108956, 0.9286969573782794, 0.8403056172279726, 0.9298800254333573, 0.7760676277140207, 0.9640618322440768, 0.9646497180441331]}, {\"categories\": [\"0\", \"1\", \"2\", \"3\", \"4\", \"5\", \"6\", \"7\", \"8\", \"9\"], \"mode\": \"lines\", \"name\": \"f1_score_micro_max\", \"stepped\": true, \"type\": \"scatter\", \"data\": [0.9628839759425456, 0.9628839759425456, 0.9628839759425456, 0.9628839759425456, 0.9628839759425456, 0.9628839759425456, 0.9628839759425456, 0.9628839759425456, 0.9640618322440768, 0.9646497180441331]}], \"average_precision_score_micro\": [{\"categories\": [\"0\", \"1\", \"2\", \"3\", \"4\", \"5\", \"6\", \"7\", \"8\", \"9\"], \"mode\": \"markers\", \"name\": \"average_precision_score_micro\", \"stepped\": false, \"type\": \"scatter\", \"data\": [0.9944002366191053, 0.9938193767064769, 0.9310169276019741, 0.9603407546695392, 0.9757429379099735, 0.9106538602917965, 0.9757368599445589, 0.8403759253453758, 0.995034409614909, 0.9926818704387731]}, {\"categories\": [\"0\", \"1\", \"2\", \"3\", \"4\", \"5\", \"6\", \"7\", \"8\", \"9\"], \"mode\": \"lines\", \"name\": \"average_precision_score_micro_max\", \"stepped\": true, \"type\": \"scatter\", \"data\": [0.9944002366191053, 0.9944002366191053, 0.9944002366191053, 0.9944002366191053, 0.9944002366191053, 0.9944002366191053, 0.9944002366191053, 0.9944002366191053, 0.995034409614909, 0.995034409614909]}], \"accuracy\": [{\"categories\": [\"0\", \"1\", \"2\", \"3\", \"4\", \"5\", \"6\", \"7\", \"8\", \"9\"], \"mode\": \"markers\", \"name\": \"accuracy\", \"stepped\": false, \"type\": \"scatter\", \"data\": [0.9628839759425456, 0.9605251362873553, 0.8597465003074934, 0.9175031531108956, 0.9286969573782794, 0.8403056172279726, 0.9298800254333573, 0.7760676277140206, 0.9640618322440768, 0.9646497180441331]}, {\"categories\": [\"0\", \"1\", \"2\", \"3\", \"4\", \"5\", \"6\", \"7\", \"8\", \"9\"], \"mode\": \"lines\", \"name\": \"accuracy_max\", \"stepped\": true, \"type\": \"scatter\", \"data\": [0.9628839759425456, 0.9628839759425456, 0.9628839759425456, 0.9628839759425456, 0.9628839759425456, 0.9628839759425456, 0.9628839759425456, 0.9628839759425456, 0.9640618322440768, 0.9646497180441331]}], \"recall_score_macro\": [{\"categories\": [\"0\", \"1\", \"2\", \"3\", \"4\", \"5\", \"6\", \"7\", \"8\", \"9\"], \"mode\": \"markers\", \"name\": \"recall_score_macro\", \"stepped\": false, \"type\": \"scatter\", \"data\": [0.9633000881733736, 0.9609461219451969, 0.8622830108784258, 0.9186571409525067, 0.9285124243636537, 0.8422712352053895, 0.9302656842392297, 0.776978185477962, 0.9644125659982171, 0.9651122675312519]}, {\"categories\": [\"0\", \"1\", \"2\", \"3\", \"4\", \"5\", \"6\", \"7\", \"8\", \"9\"], \"mode\": \"lines\", \"name\": \"recall_score_macro_max\", \"stepped\": true, \"type\": \"scatter\", \"data\": [0.9633000881733736, 0.9633000881733736, 0.9633000881733736, 0.9633000881733736, 0.9633000881733736, 0.9633000881733736, 0.9633000881733736, 0.9633000881733736, 0.9644125659982171, 0.9651122675312519]}], \"recall_score_weighted\": [{\"categories\": [\"0\", \"1\", \"2\", \"3\", \"4\", \"5\", \"6\", \"7\", \"8\", \"9\"], \"mode\": \"markers\", \"name\": \"recall_score_weighted\", \"stepped\": false, \"type\": \"scatter\", \"data\": [0.9628839759425456, 0.9605251362873553, 0.8597465003074934, 0.9175031531108956, 0.9286969573782794, 0.8403056172279726, 0.9298800254333573, 0.7760676277140206, 0.9640618322440768, 0.9646497180441331]}, {\"categories\": [\"0\", \"1\", \"2\", \"3\", \"4\", \"5\", \"6\", \"7\", \"8\", \"9\"], \"mode\": \"lines\", \"name\": \"recall_score_weighted_max\", \"stepped\": true, \"type\": \"scatter\", \"data\": [0.9628839759425456, 0.9628839759425456, 0.9628839759425456, 0.9628839759425456, 0.9628839759425456, 0.9628839759425456, 0.9628839759425456, 0.9628839759425456, 0.9640618322440768, 0.9646497180441331]}], \"matthews_correlation\": [{\"categories\": [\"0\", \"1\", \"2\", \"3\", \"4\", \"5\", \"6\", \"7\", \"8\", \"9\"], \"mode\": \"markers\", \"name\": \"matthews_correlation\", \"stepped\": false, \"type\": \"scatter\", \"data\": [0.9588531516939129, 0.9562257668672043, 0.8448978705052954, 0.9088030049763286, 0.9209113468004583, 0.8233489163415894, 0.9221216517166657, 0.755599568112355, 0.9601512882417044, 0.9608028820300857]}, {\"categories\": [\"0\", \"1\", \"2\", \"3\", \"4\", \"5\", \"6\", \"7\", \"8\", \"9\"], \"mode\": \"lines\", \"name\": \"matthews_correlation_max\", \"stepped\": true, \"type\": \"scatter\", \"data\": [0.9588531516939129, 0.9588531516939129, 0.9588531516939129, 0.9588531516939129, 0.9588531516939129, 0.9588531516939129, 0.9588531516939129, 0.9588531516939129, 0.9601512882417044, 0.9608028820300857]}], \"f1_score_weighted\": [{\"categories\": [\"0\", \"1\", \"2\", \"3\", \"4\", \"5\", \"6\", \"7\", \"8\", \"9\"], \"mode\": \"markers\", \"name\": \"f1_score_weighted\", \"stepped\": false, \"type\": \"scatter\", \"data\": [0.9629897652902043, 0.9607122386657801, 0.857777590807236, 0.9164627521734007, 0.9288835961600674, 0.8391213815151158, 0.9300469639757947, 0.7517610229164977, 0.9642126316369418, 0.9648153171986102]}, {\"categories\": [\"0\", \"1\", \"2\", \"3\", \"4\", \"5\", \"6\", \"7\", \"8\", \"9\"], \"mode\": \"lines\", \"name\": \"f1_score_weighted_max\", \"stepped\": true, \"type\": \"scatter\", \"data\": [0.9629897652902043, 0.9629897652902043, 0.9629897652902043, 0.9629897652902043, 0.9629897652902043, 0.9629897652902043, 0.9629897652902043, 0.9629897652902043, 0.9642126316369418, 0.9648153171986102]}], \"balanced_accuracy\": [{\"categories\": [\"0\", \"1\", \"2\", \"3\", \"4\", \"5\", \"6\", \"7\", \"8\", \"9\"], \"mode\": \"markers\", \"name\": \"balanced_accuracy\", \"stepped\": false, \"type\": \"scatter\", \"data\": [0.9633000881733736, 0.9609461219451969, 0.8622830108784258, 0.9186571409525067, 0.9285124243636537, 0.8422712352053895, 0.9302656842392297, 0.776978185477962, 0.9644125659982171, 0.9651122675312519]}, {\"categories\": [\"0\", \"1\", \"2\", \"3\", \"4\", \"5\", \"6\", \"7\", \"8\", \"9\"], \"mode\": \"lines\", \"name\": \"balanced_accuracy_max\", \"stepped\": true, \"type\": \"scatter\", \"data\": [0.9633000881733736, 0.9633000881733736, 0.9633000881733736, 0.9633000881733736, 0.9633000881733736, 0.9633000881733736, 0.9633000881733736, 0.9633000881733736, 0.9644125659982171, 0.9651122675312519]}], \"norm_macro_recall\": [{\"categories\": [\"0\", \"1\", \"2\", \"3\", \"4\", \"5\", \"6\", \"7\", \"8\", \"9\"], \"mode\": \"markers\", \"name\": \"norm_macro_recall\", \"stepped\": false, \"type\": \"scatter\", \"data\": [0.9592223201926373, 0.95660680216133, 0.8469811231982508, 0.9096190455027852, 0.9205693604040596, 0.8247458168948771, 0.9225174269324775, 0.7521979838644023, 0.9604584066646856, 0.9612358528125021]}, {\"categories\": [\"0\", \"1\", \"2\", \"3\", \"4\", \"5\", \"6\", \"7\", \"8\", \"9\"], \"mode\": \"lines\", \"name\": \"norm_macro_recall_max\", \"stepped\": true, \"type\": \"scatter\", \"data\": [0.9592223201926373, 0.9592223201926373, 0.9592223201926373, 0.9592223201926373, 0.9592223201926373, 0.9592223201926373, 0.9592223201926373, 0.9592223201926373, 0.9604584066646856, 0.9612358528125021]}], \"weighted_accuracy\": [{\"categories\": [\"0\", \"1\", \"2\", \"3\", \"4\", \"5\", \"6\", \"7\", \"8\", \"9\"], \"mode\": \"markers\", \"name\": \"weighted_accuracy\", \"stepped\": false, \"type\": \"scatter\", \"data\": [0.9624157429451962, 0.9600002216335907, 0.8570976750659466, 0.9162918199805404, 0.9288322285120008, 0.8382945210801919, 0.9294659421977661, 0.7750889329129961, 0.9636466137285234, 0.9641033844733183]}, {\"categories\": [\"0\", \"1\", \"2\", \"3\", \"4\", \"5\", \"6\", \"7\", \"8\", \"9\"], \"mode\": \"lines\", \"name\": \"weighted_accuracy_max\", \"stepped\": true, \"type\": \"scatter\", \"data\": [0.9624157429451962, 0.9624157429451962, 0.9624157429451962, 0.9624157429451962, 0.9624157429451962, 0.9624157429451962, 0.9624157429451962, 0.9624157429451962, 0.9636466137285234, 0.9641033844733183]}], \"f1_score_macro\": [{\"categories\": [\"0\", \"1\", \"2\", \"3\", \"4\", \"5\", \"6\", \"7\", \"8\", \"9\"], \"mode\": \"markers\", \"name\": \"f1_score_macro\", \"stepped\": false, \"type\": \"scatter\", \"data\": [0.9630586267844569, 0.9605393679245454, 0.8596264614323291, 0.9164697566472543, 0.9287976936788169, 0.8383529320668833, 0.9295560365490246, 0.7514862540522292, 0.9643070187001982, 0.9648475699047148]}, {\"categories\": [\"0\", \"1\", \"2\", \"3\", \"4\", \"5\", \"6\", \"7\", \"8\", \"9\"], \"mode\": \"lines\", \"name\": \"f1_score_macro_max\", \"stepped\": true, \"type\": \"scatter\", \"data\": [0.9630586267844569, 0.9630586267844569, 0.9630586267844569, 0.9630586267844569, 0.9630586267844569, 0.9630586267844569, 0.9630586267844569, 0.9630586267844569, 0.9643070187001982, 0.9648475699047148]}], \"precision_score_macro\": [{\"categories\": [\"0\", \"1\", \"2\", \"3\", \"4\", \"5\", \"6\", \"7\", \"8\", \"9\"], \"mode\": \"markers\", \"name\": \"precision_score_macro\", \"stepped\": false, \"type\": \"scatter\", \"data\": [0.9640830453384751, 0.9613595438298086, 0.8646036320671341, 0.919711660843685, 0.9312513923566828, 0.8426762574804184, 0.9299380006040653, 0.7910574537141111, 0.9653605827539274, 0.965725194778391]}, {\"categories\": [\"0\", \"1\", \"2\", \"3\", \"4\", \"5\", \"6\", \"7\", \"8\", \"9\"], \"mode\": \"lines\", \"name\": \"precision_score_macro_max\", \"stepped\": true, \"type\": \"scatter\", \"data\": [0.9640830453384751, 0.9640830453384751, 0.9640830453384751, 0.9640830453384751, 0.9640830453384751, 0.9640830453384751, 0.9640830453384751, 0.9640830453384751, 0.9653605827539274, 0.965725194778391]}], \"recall_score_micro\": [{\"categories\": [\"0\", \"1\", \"2\", \"3\", \"4\", \"5\", \"6\", \"7\", \"8\", \"9\"], \"mode\": \"markers\", \"name\": \"recall_score_micro\", \"stepped\": false, \"type\": \"scatter\", \"data\": [0.9628839759425456, 0.9605251362873553, 0.8597465003074934, 0.9175031531108956, 0.9286969573782794, 0.8403056172279726, 0.9298800254333573, 0.7760676277140206, 0.9640618322440768, 0.9646497180441331]}, {\"categories\": [\"0\", \"1\", \"2\", \"3\", \"4\", \"5\", \"6\", \"7\", \"8\", \"9\"], \"mode\": \"lines\", \"name\": \"recall_score_micro_max\", \"stepped\": true, \"type\": \"scatter\", \"data\": [0.9628839759425456, 0.9628839759425456, 0.9628839759425456, 0.9628839759425456, 0.9628839759425456, 0.9628839759425456, 0.9628839759425456, 0.9628839759425456, 0.9640618322440768, 0.9646497180441331]}], \"AUC_micro\": [{\"categories\": [\"0\", \"1\", \"2\", \"3\", \"4\", \"5\", \"6\", \"7\", \"8\", \"9\"], \"mode\": \"markers\", \"name\": \"AUC_micro\", \"stepped\": false, \"type\": \"scatter\", \"data\": [0.9991625925212827, 0.9991268520936541, 0.9866321868883231, 0.9931483640117073, 0.9960288278486589, 0.9829353986070553, 0.995458638180566, 0.9673511709576216, 0.9992539478071206, 0.9985121665040412]}, {\"categories\": [\"0\", \"1\", \"2\", \"3\", \"4\", \"5\", \"6\", \"7\", \"8\", \"9\"], \"mode\": \"lines\", \"name\": \"AUC_micro_max\", \"stepped\": true, \"type\": \"scatter\", \"data\": [0.9991625925212827, 0.9991625925212827, 0.9991625925212827, 0.9991625925212827, 0.9991625925212827, 0.9991625925212827, 0.9991625925212827, 0.9991625925212827, 0.9992539478071206, 0.9992539478071206]}], \"average_precision_score_weighted\": [{\"categories\": [\"0\", \"1\", \"2\", \"3\", \"4\", \"5\", \"6\", \"7\", \"8\", \"9\"], \"mode\": \"markers\", \"name\": \"average_precision_score_weighted\", \"stepped\": false, \"type\": \"scatter\", \"data\": [0.9947431665432841, 0.9940092587807604, 0.9255008719524582, 0.9610354475390204, 0.9739949469754898, 0.9116260969548388, 0.9732027232880731, 0.8529884144525347, 0.9952797406126982, 0.9944976034779498]}, {\"categories\": [\"0\", \"1\", \"2\", \"3\", \"4\", \"5\", \"6\", \"7\", \"8\", \"9\"], \"mode\": \"lines\", \"name\": \"average_precision_score_weighted_max\", \"stepped\": true, \"type\": \"scatter\", \"data\": [0.9947431665432841, 0.9947431665432841, 0.9947431665432841, 0.9947431665432841, 0.9947431665432841, 0.9947431665432841, 0.9947431665432841, 0.9947431665432841, 0.9952797406126982, 0.9952797406126982]}], \"AUC_macro\": [{\"categories\": [\"0\", \"1\", \"2\", \"3\", \"4\", \"5\", \"6\", \"7\", \"8\", \"9\"], \"mode\": \"markers\", \"name\": \"AUC_macro\", \"stepped\": false, \"type\": \"scatter\", \"data\": [0.9992289225554636, 0.9991689809164891, 0.9851866696716215, 0.9930764631250645, 0.9954413160616861, 0.9829283535159347, 0.9951589536733185, 0.9667514762632995, 0.9992793963011941, 0.9989394306350338]}, {\"categories\": [\"0\", \"1\", \"2\", \"3\", \"4\", \"5\", \"6\", \"7\", \"8\", \"9\"], \"mode\": \"lines\", \"name\": \"AUC_macro_max\", \"stepped\": true, \"type\": \"scatter\", \"data\": [0.9992289225554636, 0.9992289225554636, 0.9992289225554636, 0.9992289225554636, 0.9992289225554636, 0.9992289225554636, 0.9992289225554636, 0.9992289225554636, 0.9992793963011941, 0.9992793963011941]}], \"average_precision_score_macro\": [{\"categories\": [\"0\", \"1\", \"2\", \"3\", \"4\", \"5\", \"6\", \"7\", \"8\", \"9\"], \"mode\": \"markers\", \"name\": \"average_precision_score_macro\", \"stepped\": false, \"type\": \"scatter\", \"data\": [0.994792988333756, 0.9939933758616979, 0.9260861359987919, 0.9608331020999062, 0.9737272605426669, 0.9117448209593405, 0.9728695816296021, 0.8513653124889874, 0.9952762022235265, 0.9946001251648408]}, {\"categories\": [\"0\", \"1\", \"2\", \"3\", \"4\", \"5\", \"6\", \"7\", \"8\", \"9\"], \"mode\": \"lines\", \"name\": \"average_precision_score_macro_max\", \"stepped\": true, \"type\": \"scatter\", \"data\": [0.994792988333756, 0.994792988333756, 0.994792988333756, 0.994792988333756, 0.994792988333756, 0.994792988333756, 0.994792988333756, 0.994792988333756, 0.9952762022235265, 0.9952762022235265]}], \"AUC_weighted\": [{\"categories\": [\"0\", \"1\", \"2\", \"3\", \"4\", \"5\", \"6\", \"7\", \"8\", \"9\"], \"mode\": \"markers\", \"name\": \"AUC_weighted\", \"stepped\": false, \"type\": \"scatter\", \"data\": [0.9991940367053402, 0.9991509279404523, 0.9850387773308666, 0.9930262336950758, 0.9954633945253133, 0.9825546573968748, 0.9951331995876398, 0.9669600051221391, 0.9992651620611631, 0.9988744754880323]}, {\"categories\": [\"0\", \"1\", \"2\", \"3\", \"4\", \"5\", \"6\", \"7\", \"8\", \"9\"], \"mode\": \"lines\", \"name\": \"AUC_weighted_max\", \"stepped\": true, \"type\": \"scatter\", \"data\": [0.9991940367053402, 0.9991940367053402, 0.9991940367053402, 0.9991940367053402, 0.9991940367053402, 0.9991940367053402, 0.9991940367053402, 0.9991940367053402, 0.9992651620611631, 0.9992651620611631]}]}, \"metricName\": null, \"primaryMetricName\": \"AUC_weighted\", \"showLegend\": false}, \"run_metrics\": [{\"name\": \"experiment_status\", \"run_id\": \"AutoML_a8a7acd2-7ccb-4130-b678-bf7845354aa3\", \"categories\": [0, 1, 2, 3, 4, 5, 6, 7, 8, 9, 10, 11, 12, 13], \"series\": [{\"data\": [\"DatasetEvaluation\", \"FeaturesGeneration\", \"DatasetFeaturization\", \"DatasetFeaturizationCompleted\", \"DatasetCrossValidationSplit\", \"ModelSelection\", \"BestRunExplainModel\", \"ModelExplanationDataSetSetup\", \"PickSurrogateModel\", \"EngineeredFeatureExplanations\", \"EngineeredFeatureExplanations\", \"RawFeaturesExplanations\", \"RawFeaturesExplanations\", \"BestRunExplainModel\"]}]}, {\"name\": \"experiment_status_description\", \"run_id\": \"AutoML_a8a7acd2-7ccb-4130-b678-bf7845354aa3\", \"categories\": [0, 1, 2, 3, 4, 5, 6, 7, 8, 9, 10, 11, 12, 13], \"series\": [{\"data\": [\"Gathering dataset statistics.\", \"Generating features for the dataset.\", \"Beginning to fit featurizers and featurize the dataset.\", \"Completed fit featurizers and featurizing the dataset.\", \"Generating individually featurized CV splits.\", \"Beginning model selection.\", \"Best run model explanations started\", \"Model explanations data setup completed\", \"Choosing LightGBM as the surrogate model for explanations\", \"Computation of engineered features started\", \"Computation of engineered features completed\", \"Computation of raw features started\", \"Computation of raw features completed\", \"Best run model explanations completed\"]}]}, {\"name\": \"log_loss\", \"run_id\": \"AutoML_a8a7acd2-7ccb-4130-b678-bf7845354aa3\", \"categories\": [0], \"series\": [{\"data\": [0.24268999854197956]}]}, {\"name\": \"precision_score_weighted\", \"run_id\": \"AutoML_a8a7acd2-7ccb-4130-b678-bf7845354aa3\", \"categories\": [0], \"series\": [{\"data\": [0.9655422203157228]}]}, {\"name\": \"precision_score_micro\", \"run_id\": \"AutoML_a8a7acd2-7ccb-4130-b678-bf7845354aa3\", \"categories\": [0], \"series\": [{\"data\": [0.9640618322440768]}]}, {\"name\": \"f1_score_micro\", \"run_id\": \"AutoML_a8a7acd2-7ccb-4130-b678-bf7845354aa3\", \"categories\": [0], \"series\": [{\"data\": [0.9640618322440768]}]}, {\"name\": \"average_precision_score_micro\", \"run_id\": \"AutoML_a8a7acd2-7ccb-4130-b678-bf7845354aa3\", \"categories\": [0], \"series\": [{\"data\": [0.995034409614909]}]}, {\"name\": \"accuracy\", \"run_id\": \"AutoML_a8a7acd2-7ccb-4130-b678-bf7845354aa3\", \"categories\": [0], \"series\": [{\"data\": [0.9640618322440768]}]}, {\"name\": \"recall_score_macro\", \"run_id\": \"AutoML_a8a7acd2-7ccb-4130-b678-bf7845354aa3\", \"categories\": [0], \"series\": [{\"data\": [0.9644125659982171]}]}, {\"name\": \"recall_score_weighted\", \"run_id\": \"AutoML_a8a7acd2-7ccb-4130-b678-bf7845354aa3\", \"categories\": [0], \"series\": [{\"data\": [0.9640618322440768]}]}, {\"name\": \"matthews_correlation\", \"run_id\": \"AutoML_a8a7acd2-7ccb-4130-b678-bf7845354aa3\", \"categories\": [0], \"series\": [{\"data\": [0.9601512882417044]}]}, {\"name\": \"f1_score_weighted\", \"run_id\": \"AutoML_a8a7acd2-7ccb-4130-b678-bf7845354aa3\", \"categories\": [0], \"series\": [{\"data\": [0.9642126316369418]}]}, {\"name\": \"balanced_accuracy\", \"run_id\": \"AutoML_a8a7acd2-7ccb-4130-b678-bf7845354aa3\", \"categories\": [0], \"series\": [{\"data\": [0.9644125659982171]}]}, {\"name\": \"norm_macro_recall\", \"run_id\": \"AutoML_a8a7acd2-7ccb-4130-b678-bf7845354aa3\", \"categories\": [0], \"series\": [{\"data\": [0.9604584066646856]}]}, {\"name\": \"weighted_accuracy\", \"run_id\": \"AutoML_a8a7acd2-7ccb-4130-b678-bf7845354aa3\", \"categories\": [0], \"series\": [{\"data\": [0.9636466137285234]}]}, {\"name\": \"f1_score_macro\", \"run_id\": \"AutoML_a8a7acd2-7ccb-4130-b678-bf7845354aa3\", \"categories\": [0], \"series\": [{\"data\": [0.9643070187001982]}]}, {\"name\": \"precision_score_macro\", \"run_id\": \"AutoML_a8a7acd2-7ccb-4130-b678-bf7845354aa3\", \"categories\": [0], \"series\": [{\"data\": [0.9653605827539274]}]}, {\"name\": \"recall_score_micro\", \"run_id\": \"AutoML_a8a7acd2-7ccb-4130-b678-bf7845354aa3\", \"categories\": [0], \"series\": [{\"data\": [0.9640618322440768]}]}, {\"name\": \"AUC_micro\", \"run_id\": \"AutoML_a8a7acd2-7ccb-4130-b678-bf7845354aa3\", \"categories\": [0], \"series\": [{\"data\": [0.9992539478071206]}]}, {\"name\": \"average_precision_score_weighted\", \"run_id\": \"AutoML_a8a7acd2-7ccb-4130-b678-bf7845354aa3\", \"categories\": [0], \"series\": [{\"data\": [0.9952797406126982]}]}, {\"name\": \"AUC_macro\", \"run_id\": \"AutoML_a8a7acd2-7ccb-4130-b678-bf7845354aa3\", \"categories\": [0], \"series\": [{\"data\": [0.9992793963011941]}]}, {\"name\": \"average_precision_score_macro\", \"run_id\": \"AutoML_a8a7acd2-7ccb-4130-b678-bf7845354aa3\", \"categories\": [0], \"series\": [{\"data\": [0.9952762022235265]}]}, {\"name\": \"AUC_weighted\", \"run_id\": \"AutoML_a8a7acd2-7ccb-4130-b678-bf7845354aa3\", \"categories\": [0], \"series\": [{\"data\": [0.9992651620611631]}]}], \"run_logs\": \"\\nRun is completed.\", \"graph\": {}, \"widget_settings\": {\"childWidgetDisplay\": \"popup\", \"send_telemetry\": false, \"log_level\": \"INFO\", \"sdk_version\": \"1.18.0\"}, \"loading\": false}"
     },
     "metadata": {},
     "output_type": "display_data"
    }
   ],
   "source": [
    "from azureml.widgets import RunDetails\n",
    "RunDetails(local_run).show() "
   ]
  },
  {
   "cell_type": "markdown",
   "metadata": {},
   "source": [
    "### 6.3 Metrics for each iteration of the AutoML process"
   ]
  },
  {
   "cell_type": "code",
   "execution_count": 19,
   "metadata": {},
   "outputs": [
    {
     "data": {
      "text/html": [
       "<div>\n",
       "<style scoped>\n",
       "    .dataframe tbody tr th:only-of-type {\n",
       "        vertical-align: middle;\n",
       "    }\n",
       "\n",
       "    .dataframe tbody tr th {\n",
       "        vertical-align: top;\n",
       "    }\n",
       "\n",
       "    .dataframe thead th {\n",
       "        text-align: right;\n",
       "    }\n",
       "</style>\n",
       "<table border=\"1\" class=\"dataframe\">\n",
       "  <thead>\n",
       "    <tr style=\"text-align: right;\">\n",
       "      <th></th>\n",
       "      <th>0</th>\n",
       "      <th>1</th>\n",
       "      <th>2</th>\n",
       "      <th>3</th>\n",
       "      <th>4</th>\n",
       "      <th>5</th>\n",
       "      <th>6</th>\n",
       "      <th>7</th>\n",
       "      <th>8</th>\n",
       "      <th>9</th>\n",
       "    </tr>\n",
       "  </thead>\n",
       "  <tbody>\n",
       "    <tr>\n",
       "      <th>log_loss</th>\n",
       "      <td>0.11</td>\n",
       "      <td>0.13</td>\n",
       "      <td>0.83</td>\n",
       "      <td>1.07</td>\n",
       "      <td>0.66</td>\n",
       "      <td>0.94</td>\n",
       "      <td>0.56</td>\n",
       "      <td>1.12</td>\n",
       "      <td>0.24</td>\n",
       "      <td>0.17</td>\n",
       "    </tr>\n",
       "    <tr>\n",
       "      <th>precision_score_weighted</th>\n",
       "      <td>0.96</td>\n",
       "      <td>0.96</td>\n",
       "      <td>0.86</td>\n",
       "      <td>0.92</td>\n",
       "      <td>0.93</td>\n",
       "      <td>0.85</td>\n",
       "      <td>0.93</td>\n",
       "      <td>0.79</td>\n",
       "      <td>0.97</td>\n",
       "      <td>0.97</td>\n",
       "    </tr>\n",
       "    <tr>\n",
       "      <th>precision_score_micro</th>\n",
       "      <td>0.96</td>\n",
       "      <td>0.96</td>\n",
       "      <td>0.86</td>\n",
       "      <td>0.92</td>\n",
       "      <td>0.93</td>\n",
       "      <td>0.84</td>\n",
       "      <td>0.93</td>\n",
       "      <td>0.78</td>\n",
       "      <td>0.96</td>\n",
       "      <td>0.96</td>\n",
       "    </tr>\n",
       "    <tr>\n",
       "      <th>f1_score_micro</th>\n",
       "      <td>0.96</td>\n",
       "      <td>0.96</td>\n",
       "      <td>0.86</td>\n",
       "      <td>0.92</td>\n",
       "      <td>0.93</td>\n",
       "      <td>0.84</td>\n",
       "      <td>0.93</td>\n",
       "      <td>0.78</td>\n",
       "      <td>0.96</td>\n",
       "      <td>0.96</td>\n",
       "    </tr>\n",
       "    <tr>\n",
       "      <th>average_precision_score_micro</th>\n",
       "      <td>0.99</td>\n",
       "      <td>0.99</td>\n",
       "      <td>0.93</td>\n",
       "      <td>0.96</td>\n",
       "      <td>0.98</td>\n",
       "      <td>0.91</td>\n",
       "      <td>0.98</td>\n",
       "      <td>0.84</td>\n",
       "      <td>1.00</td>\n",
       "      <td>0.99</td>\n",
       "    </tr>\n",
       "    <tr>\n",
       "      <th>accuracy</th>\n",
       "      <td>0.96</td>\n",
       "      <td>0.96</td>\n",
       "      <td>0.86</td>\n",
       "      <td>0.92</td>\n",
       "      <td>0.93</td>\n",
       "      <td>0.84</td>\n",
       "      <td>0.93</td>\n",
       "      <td>0.78</td>\n",
       "      <td>0.96</td>\n",
       "      <td>0.96</td>\n",
       "    </tr>\n",
       "    <tr>\n",
       "      <th>recall_score_macro</th>\n",
       "      <td>0.96</td>\n",
       "      <td>0.96</td>\n",
       "      <td>0.86</td>\n",
       "      <td>0.92</td>\n",
       "      <td>0.93</td>\n",
       "      <td>0.84</td>\n",
       "      <td>0.93</td>\n",
       "      <td>0.78</td>\n",
       "      <td>0.96</td>\n",
       "      <td>0.97</td>\n",
       "    </tr>\n",
       "    <tr>\n",
       "      <th>recall_score_weighted</th>\n",
       "      <td>0.96</td>\n",
       "      <td>0.96</td>\n",
       "      <td>0.86</td>\n",
       "      <td>0.92</td>\n",
       "      <td>0.93</td>\n",
       "      <td>0.84</td>\n",
       "      <td>0.93</td>\n",
       "      <td>0.78</td>\n",
       "      <td>0.96</td>\n",
       "      <td>0.96</td>\n",
       "    </tr>\n",
       "    <tr>\n",
       "      <th>matthews_correlation</th>\n",
       "      <td>0.96</td>\n",
       "      <td>0.96</td>\n",
       "      <td>0.84</td>\n",
       "      <td>0.91</td>\n",
       "      <td>0.92</td>\n",
       "      <td>0.82</td>\n",
       "      <td>0.92</td>\n",
       "      <td>0.76</td>\n",
       "      <td>0.96</td>\n",
       "      <td>0.96</td>\n",
       "    </tr>\n",
       "    <tr>\n",
       "      <th>f1_score_weighted</th>\n",
       "      <td>0.96</td>\n",
       "      <td>0.96</td>\n",
       "      <td>0.86</td>\n",
       "      <td>0.92</td>\n",
       "      <td>0.93</td>\n",
       "      <td>0.84</td>\n",
       "      <td>0.93</td>\n",
       "      <td>0.75</td>\n",
       "      <td>0.96</td>\n",
       "      <td>0.96</td>\n",
       "    </tr>\n",
       "    <tr>\n",
       "      <th>balanced_accuracy</th>\n",
       "      <td>0.96</td>\n",
       "      <td>0.96</td>\n",
       "      <td>0.86</td>\n",
       "      <td>0.92</td>\n",
       "      <td>0.93</td>\n",
       "      <td>0.84</td>\n",
       "      <td>0.93</td>\n",
       "      <td>0.78</td>\n",
       "      <td>0.96</td>\n",
       "      <td>0.97</td>\n",
       "    </tr>\n",
       "    <tr>\n",
       "      <th>norm_macro_recall</th>\n",
       "      <td>0.96</td>\n",
       "      <td>0.96</td>\n",
       "      <td>0.85</td>\n",
       "      <td>0.91</td>\n",
       "      <td>0.92</td>\n",
       "      <td>0.82</td>\n",
       "      <td>0.92</td>\n",
       "      <td>0.75</td>\n",
       "      <td>0.96</td>\n",
       "      <td>0.96</td>\n",
       "    </tr>\n",
       "    <tr>\n",
       "      <th>weighted_accuracy</th>\n",
       "      <td>0.96</td>\n",
       "      <td>0.96</td>\n",
       "      <td>0.86</td>\n",
       "      <td>0.92</td>\n",
       "      <td>0.93</td>\n",
       "      <td>0.84</td>\n",
       "      <td>0.93</td>\n",
       "      <td>0.78</td>\n",
       "      <td>0.96</td>\n",
       "      <td>0.96</td>\n",
       "    </tr>\n",
       "    <tr>\n",
       "      <th>f1_score_macro</th>\n",
       "      <td>0.96</td>\n",
       "      <td>0.96</td>\n",
       "      <td>0.86</td>\n",
       "      <td>0.92</td>\n",
       "      <td>0.93</td>\n",
       "      <td>0.84</td>\n",
       "      <td>0.93</td>\n",
       "      <td>0.75</td>\n",
       "      <td>0.96</td>\n",
       "      <td>0.96</td>\n",
       "    </tr>\n",
       "    <tr>\n",
       "      <th>precision_score_macro</th>\n",
       "      <td>0.96</td>\n",
       "      <td>0.96</td>\n",
       "      <td>0.86</td>\n",
       "      <td>0.92</td>\n",
       "      <td>0.93</td>\n",
       "      <td>0.84</td>\n",
       "      <td>0.93</td>\n",
       "      <td>0.79</td>\n",
       "      <td>0.97</td>\n",
       "      <td>0.97</td>\n",
       "    </tr>\n",
       "    <tr>\n",
       "      <th>recall_score_micro</th>\n",
       "      <td>0.96</td>\n",
       "      <td>0.96</td>\n",
       "      <td>0.86</td>\n",
       "      <td>0.92</td>\n",
       "      <td>0.93</td>\n",
       "      <td>0.84</td>\n",
       "      <td>0.93</td>\n",
       "      <td>0.78</td>\n",
       "      <td>0.96</td>\n",
       "      <td>0.96</td>\n",
       "    </tr>\n",
       "    <tr>\n",
       "      <th>AUC_micro</th>\n",
       "      <td>1.00</td>\n",
       "      <td>1.00</td>\n",
       "      <td>0.99</td>\n",
       "      <td>0.99</td>\n",
       "      <td>1.00</td>\n",
       "      <td>0.98</td>\n",
       "      <td>1.00</td>\n",
       "      <td>0.97</td>\n",
       "      <td>1.00</td>\n",
       "      <td>1.00</td>\n",
       "    </tr>\n",
       "    <tr>\n",
       "      <th>average_precision_score_weighted</th>\n",
       "      <td>0.99</td>\n",
       "      <td>0.99</td>\n",
       "      <td>0.93</td>\n",
       "      <td>0.96</td>\n",
       "      <td>0.97</td>\n",
       "      <td>0.91</td>\n",
       "      <td>0.97</td>\n",
       "      <td>0.85</td>\n",
       "      <td>1.00</td>\n",
       "      <td>0.99</td>\n",
       "    </tr>\n",
       "    <tr>\n",
       "      <th>AUC_macro</th>\n",
       "      <td>1.00</td>\n",
       "      <td>1.00</td>\n",
       "      <td>0.99</td>\n",
       "      <td>0.99</td>\n",
       "      <td>1.00</td>\n",
       "      <td>0.98</td>\n",
       "      <td>1.00</td>\n",
       "      <td>0.97</td>\n",
       "      <td>1.00</td>\n",
       "      <td>1.00</td>\n",
       "    </tr>\n",
       "    <tr>\n",
       "      <th>average_precision_score_macro</th>\n",
       "      <td>0.99</td>\n",
       "      <td>0.99</td>\n",
       "      <td>0.93</td>\n",
       "      <td>0.96</td>\n",
       "      <td>0.97</td>\n",
       "      <td>0.91</td>\n",
       "      <td>0.97</td>\n",
       "      <td>0.85</td>\n",
       "      <td>1.00</td>\n",
       "      <td>0.99</td>\n",
       "    </tr>\n",
       "    <tr>\n",
       "      <th>AUC_weighted</th>\n",
       "      <td>1.00</td>\n",
       "      <td>1.00</td>\n",
       "      <td>0.99</td>\n",
       "      <td>0.99</td>\n",
       "      <td>1.00</td>\n",
       "      <td>0.98</td>\n",
       "      <td>1.00</td>\n",
       "      <td>0.97</td>\n",
       "      <td>1.00</td>\n",
       "      <td>1.00</td>\n",
       "    </tr>\n",
       "  </tbody>\n",
       "</table>\n",
       "</div>"
      ],
      "text/plain": [
       "                                    0    1    2    3    4    5    6    7    8  \\\n",
       "log_loss                         0.11 0.13 0.83 1.07 0.66 0.94 0.56 1.12 0.24   \n",
       "precision_score_weighted         0.96 0.96 0.86 0.92 0.93 0.85 0.93 0.79 0.97   \n",
       "precision_score_micro            0.96 0.96 0.86 0.92 0.93 0.84 0.93 0.78 0.96   \n",
       "f1_score_micro                   0.96 0.96 0.86 0.92 0.93 0.84 0.93 0.78 0.96   \n",
       "average_precision_score_micro    0.99 0.99 0.93 0.96 0.98 0.91 0.98 0.84 1.00   \n",
       "accuracy                         0.96 0.96 0.86 0.92 0.93 0.84 0.93 0.78 0.96   \n",
       "recall_score_macro               0.96 0.96 0.86 0.92 0.93 0.84 0.93 0.78 0.96   \n",
       "recall_score_weighted            0.96 0.96 0.86 0.92 0.93 0.84 0.93 0.78 0.96   \n",
       "matthews_correlation             0.96 0.96 0.84 0.91 0.92 0.82 0.92 0.76 0.96   \n",
       "f1_score_weighted                0.96 0.96 0.86 0.92 0.93 0.84 0.93 0.75 0.96   \n",
       "balanced_accuracy                0.96 0.96 0.86 0.92 0.93 0.84 0.93 0.78 0.96   \n",
       "norm_macro_recall                0.96 0.96 0.85 0.91 0.92 0.82 0.92 0.75 0.96   \n",
       "weighted_accuracy                0.96 0.96 0.86 0.92 0.93 0.84 0.93 0.78 0.96   \n",
       "f1_score_macro                   0.96 0.96 0.86 0.92 0.93 0.84 0.93 0.75 0.96   \n",
       "precision_score_macro            0.96 0.96 0.86 0.92 0.93 0.84 0.93 0.79 0.97   \n",
       "recall_score_micro               0.96 0.96 0.86 0.92 0.93 0.84 0.93 0.78 0.96   \n",
       "AUC_micro                        1.00 1.00 0.99 0.99 1.00 0.98 1.00 0.97 1.00   \n",
       "average_precision_score_weighted 0.99 0.99 0.93 0.96 0.97 0.91 0.97 0.85 1.00   \n",
       "AUC_macro                        1.00 1.00 0.99 0.99 1.00 0.98 1.00 0.97 1.00   \n",
       "average_precision_score_macro    0.99 0.99 0.93 0.96 0.97 0.91 0.97 0.85 1.00   \n",
       "AUC_weighted                     1.00 1.00 0.99 0.99 1.00 0.98 1.00 0.97 1.00   \n",
       "\n",
       "                                    9  \n",
       "log_loss                         0.17  \n",
       "precision_score_weighted         0.97  \n",
       "precision_score_micro            0.96  \n",
       "f1_score_micro                   0.96  \n",
       "average_precision_score_micro    0.99  \n",
       "accuracy                         0.96  \n",
       "recall_score_macro               0.97  \n",
       "recall_score_weighted            0.96  \n",
       "matthews_correlation             0.96  \n",
       "f1_score_weighted                0.96  \n",
       "balanced_accuracy                0.97  \n",
       "norm_macro_recall                0.96  \n",
       "weighted_accuracy                0.96  \n",
       "f1_score_macro                   0.96  \n",
       "precision_score_macro            0.97  \n",
       "recall_score_micro               0.96  \n",
       "AUC_micro                        1.00  \n",
       "average_precision_score_weighted 0.99  \n",
       "AUC_macro                        1.00  \n",
       "average_precision_score_macro    0.99  \n",
       "AUC_weighted                     1.00  "
      ]
     },
     "execution_count": 19,
     "metadata": {},
     "output_type": "execute_result"
    }
   ],
   "source": [
    "children = list(local_run.get_children())\n",
    "metricslist = {}\n",
    "for run in children:\n",
    "    properties = run.get_properties()\n",
    "    metrics = {k: v for k, v in run.get_metrics().items() if isinstance(v, float)}\n",
    "    metricslist[int(properties['iteration'])] = metrics\n",
    "\n",
    "rundata = pd.DataFrame(metricslist).sort_index(1)\n",
    "rundata"
   ]
  },
  {
   "cell_type": "markdown",
   "metadata": {},
   "source": [
    "## 7. We want to retrieve the best model"
   ]
  },
  {
   "cell_type": "code",
   "execution_count": 20,
   "metadata": {},
   "outputs": [
    {
     "name": "stdout",
     "output_type": "stream",
     "text": [
      "Best AutoML run = Run(Experiment: Lab2-AutoML,\n",
      "Id: AutoML_a8a7acd2-7ccb-4130-b678-bf7845354aa3_8,\n",
      "Type: None,\n",
      "Status: Completed)\n"
     ]
    }
   ],
   "source": [
    "best_run, fitted_model = local_run.get_output()\n",
    "print(\"Best AutoML run =\", best_run)"
   ]
  },
  {
   "cell_type": "code",
   "execution_count": 21,
   "metadata": {},
   "outputs": [
    {
     "name": "stdout",
     "output_type": "stream",
     "text": [
      "Pipeline(memory=None,\n",
      "         steps=[('datatransformer',\n",
      "                 DataTransformer(enable_dnn=None, enable_feature_sweeping=None,\n",
      "                                 feature_sweeping_config=None,\n",
      "                                 feature_sweeping_timeout=None,\n",
      "                                 featurization_config=None, force_text_dnn=None,\n",
      "                                 is_cross_validation=None,\n",
      "                                 is_onnx_compatible=None, logger=None,\n",
      "                                 observer=None, task=None, working_dir=None)),\n",
      "                ('prefittedsoftvotingclassifier',...\n",
      "                                                                                                  max_leaf_nodes=None,\n",
      "                                                                                                  max_samples=None,\n",
      "                                                                                                  min_impurity_decrease=0.0,\n",
      "                                                                                                  min_impurity_split=None,\n",
      "                                                                                                  min_samples_leaf=0.01,\n",
      "                                                                                                  min_samples_split=0.10368421052631578,\n",
      "                                                                                                  min_weight_fraction_leaf=0.0,\n",
      "                                                                                                  n_estimators=50,\n",
      "                                                                                                  n_jobs=1,\n",
      "                                                                                                  oob_score=False,\n",
      "                                                                                                  random_state=None,\n",
      "                                                                                                  verbose=0,\n",
      "                                                                                                  warm_start=False))],\n",
      "                                                                     verbose=False))],\n",
      "                                               flatten_transform=None,\n",
      "                                               weights=[0.6, 0.1, 0.1, 0.1,\n",
      "                                                        0.1]))],\n",
      "         verbose=False)\n"
     ]
    }
   ],
   "source": [
    "print(fitted_model)"
   ]
  },
  {
   "cell_type": "code",
   "execution_count": 22,
   "metadata": {},
   "outputs": [
    {
     "data": {
      "text/plain": [
       "<bound method Pipeline.get_params of Pipeline(memory=None,\n",
       "         steps=[('datatransformer',\n",
       "                 DataTransformer(enable_dnn=None, enable_feature_sweeping=None,\n",
       "                                 feature_sweeping_config=None,\n",
       "                                 feature_sweeping_timeout=None,\n",
       "                                 featurization_config=None, force_text_dnn=None,\n",
       "                                 is_cross_validation=None,\n",
       "                                 is_onnx_compatible=None, logger=None,\n",
       "                                 observer=None, task=None, working_dir=None)),\n",
       "                ('prefittedsoftvotingclassifier',...\n",
       "                                                                                                  max_leaf_nodes=None,\n",
       "                                                                                                  max_samples=None,\n",
       "                                                                                                  min_impurity_decrease=0.0,\n",
       "                                                                                                  min_impurity_split=None,\n",
       "                                                                                                  min_samples_leaf=0.01,\n",
       "                                                                                                  min_samples_split=0.10368421052631578,\n",
       "                                                                                                  min_weight_fraction_leaf=0.0,\n",
       "                                                                                                  n_estimators=50,\n",
       "                                                                                                  n_jobs=1,\n",
       "                                                                                                  oob_score=False,\n",
       "                                                                                                  random_state=None,\n",
       "                                                                                                  verbose=0,\n",
       "                                                                                                  warm_start=False))],\n",
       "                                                                     verbose=False))],\n",
       "                                               flatten_transform=None,\n",
       "                                               weights=[0.6, 0.1, 0.1, 0.1,\n",
       "                                                        0.1]))],\n",
       "         verbose=False)>"
      ]
     },
     "execution_count": 22,
     "metadata": {},
     "output_type": "execute_result"
    }
   ],
   "source": [
    "fitted_model.get_params"
   ]
  },
  {
   "cell_type": "code",
   "execution_count": 23,
   "metadata": {},
   "outputs": [
    {
     "data": {
      "text/html": [
       "[('datatransformer', DataTransformer(enable_dnn=None, enable_feature_sweeping=None,\n",
       "                feature_sweeping_config=None, feature_sweeping_timeout=None,\n",
       "                featurization_config=None, force_text_dnn=None,\n",
       "                is_cross_validation=None, is_onnx_compatible=None, logger=None,\n",
       "                observer=None, task=None, working_dir=None)), ('prefittedsoftvotingclassifier', PreFittedSoftVotingClassifier(classification_labels=None,\n",
       "                              estimators=[('0',\n",
       "                                           Pipeline(memory=None,\n",
       "                                                    steps=[('maxabsscaler',\n",
       "                                                            MaxAbsScaler(copy=True)),\n",
       "                                                           ('lightgbmclassifier',\n",
       "                                                            LightGBMClassifier(boosting_type='gbdt',\n",
       "                                                                               class_weight=None,\n",
       "                                                                               colsample_bytree=1.0,\n",
       "                                                                               importance_type='split',\n",
       "                                                                               learning_rate=0.1,\n",
       "                                                                               max_depth=-1,\n",
       "                                                                               min_child_samples=20,\n",
       "                                                                               min_child_weight=0.001,\n",
       "                                                                               min_spl...\n",
       "                                                                                 max_features='log2',\n",
       "                                                                                 max_leaf_nodes=None,\n",
       "                                                                                 max_samples=None,\n",
       "                                                                                 min_impurity_decrease=0.0,\n",
       "                                                                                 min_impurity_split=None,\n",
       "                                                                                 min_samples_leaf=0.01,\n",
       "                                                                                 min_samples_split=0.10368421052631578,\n",
       "                                                                                 min_weight_fraction_leaf=0.0,\n",
       "                                                                                 n_estimators=50,\n",
       "                                                                                 n_jobs=1,\n",
       "                                                                                 oob_score=False,\n",
       "                                                                                 random_state=None,\n",
       "                                                                                 verbose=0,\n",
       "                                                                                 warm_start=False))],\n",
       "                                                    verbose=False))],\n",
       "                              flatten_transform=None,\n",
       "                              weights=[0.6, 0.1, 0.1, 0.1, 0.1]))]"
      ],
      "text/plain": [
       "[('datatransformer',\n",
       "  DataTransformer(enable_dnn=None, enable_feature_sweeping=None,\n",
       "                  feature_sweeping_config=None, feature_sweeping_timeout=None,\n",
       "                  featurization_config=None, force_text_dnn=None,\n",
       "                  is_cross_validation=None, is_onnx_compatible=None, logger=None,\n",
       "                  observer=None, task=None, working_dir=None)),\n",
       " ('prefittedsoftvotingclassifier',\n",
       "  PreFittedSoftVotingClassifier(classification_labels=None,\n",
       "                                estimators=[('0',\n",
       "                                             Pipeline(memory=None,\n",
       "                                                      steps=[('maxabsscaler',\n",
       "                                                              MaxAbsScaler(copy=True)),\n",
       "                                                             ('lightgbmclassifier',\n",
       "                                                              LightGBMClassifier(boosting_type='gbdt',\n",
       "                                                                                 class_weight=None,\n",
       "                                                                                 colsample_bytree=1.0,\n",
       "                                                                                 importance_type='split',\n",
       "                                                                                 learning_rate=0.1,\n",
       "                                                                                 max_depth=-1,\n",
       "                                                                                 min_child_samples=20,\n",
       "                                                                                 min_child_weight=0.001,\n",
       "                                                                                 min_spl...\n",
       "                                                                                   max_features='log2',\n",
       "                                                                                   max_leaf_nodes=None,\n",
       "                                                                                   max_samples=None,\n",
       "                                                                                   min_impurity_decrease=0.0,\n",
       "                                                                                   min_impurity_split=None,\n",
       "                                                                                   min_samples_leaf=0.01,\n",
       "                                                                                   min_samples_split=0.10368421052631578,\n",
       "                                                                                   min_weight_fraction_leaf=0.0,\n",
       "                                                                                   n_estimators=50,\n",
       "                                                                                   n_jobs=1,\n",
       "                                                                                   oob_score=False,\n",
       "                                                                                   random_state=None,\n",
       "                                                                                   verbose=0,\n",
       "                                                                                   warm_start=False))],\n",
       "                                                      verbose=False))],\n",
       "                                flatten_transform=None,\n",
       "                                weights=[0.6, 0.1, 0.1, 0.1, 0.1]))]"
      ]
     },
     "execution_count": 23,
     "metadata": {},
     "output_type": "execute_result"
    }
   ],
   "source": [
    "fitted_model.steps"
   ]
  },
  {
   "cell_type": "code",
   "execution_count": 24,
   "metadata": {},
   "outputs": [
    {
     "name": "stdout",
     "output_type": "stream",
     "text": [
      "Metrics of the best model:\n",
      "\n",
      "- log_loss = 0.24268999854197956\n",
      "- precision_score_weighted = 0.9655422203157228\n",
      "- precision_score_micro = 0.9640618322440768\n",
      "- f1_score_micro = 0.9640618322440768\n",
      "- average_precision_score_micro = 0.995034409614909\n",
      "- accuracy = 0.9640618322440768\n",
      "- recall_score_macro = 0.9644125659982171\n",
      "- recall_score_weighted = 0.9640618322440768\n",
      "- matthews_correlation = 0.9601512882417044\n",
      "- f1_score_weighted = 0.9642126316369418\n",
      "- balanced_accuracy = 0.9644125659982171\n",
      "- norm_macro_recall = 0.9604584066646856\n",
      "- weighted_accuracy = 0.9636466137285234\n",
      "- f1_score_macro = 0.9643070187001982\n",
      "- precision_score_macro = 0.9653605827539274\n",
      "- recall_score_micro = 0.9640618322440768\n",
      "- AUC_micro = 0.9992539478071206\n",
      "- average_precision_score_weighted = 0.9952797406126982\n",
      "- AUC_macro = 0.9992793963011941\n",
      "- average_precision_score_macro = 0.9952762022235265\n",
      "- AUC_weighted = 0.9992651620611631\n",
      "- confusion_matrix = aml://artifactId/ExperimentRun/dcid.AutoML_a8a7acd2-7ccb-4130-b678-bf7845354aa3_8/confusion_matrix\n",
      "- accuracy_table = aml://artifactId/ExperimentRun/dcid.AutoML_a8a7acd2-7ccb-4130-b678-bf7845354aa3_8/accuracy_table\n"
     ]
    }
   ],
   "source": [
    "print(\"Metrics of the best model:\")\n",
    "print()\n",
    "best_run_metrics = best_run.get_metrics()\n",
    "for metric_name in best_run_metrics:\n",
    "    metric = best_run_metrics[metric_name]\n",
    "    print('-', metric_name, '=', metric)"
   ]
  },
  {
   "cell_type": "markdown",
   "metadata": {},
   "source": [
    "### 7.1 You can change the metric. Let's use now the F1 Score for example."
   ]
  },
  {
   "cell_type": "code",
   "execution_count": 25,
   "metadata": {},
   "outputs": [
    {
     "name": "stdout",
     "output_type": "stream",
     "text": [
      "Best model :\n",
      "\n",
      "Best Run = Run(Experiment: Lab2-AutoML,\n",
      "Id: AutoML_a8a7acd2-7ccb-4130-b678-bf7845354aa3_9,\n",
      "Type: None,\n",
      "Status: Completed)\n",
      "\n",
      "Pipeline(memory=None,\n",
      "         steps=[('datatransformer',\n",
      "                 DataTransformer(enable_dnn=None, enable_feature_sweeping=None,\n",
      "                                 feature_sweeping_config=None,\n",
      "                                 feature_sweeping_timeout=None,\n",
      "                                 featurization_config=None, force_text_dnn=None,\n",
      "                                 is_cross_validation=None,\n",
      "                                 is_onnx_compatible=None, logger=None,\n",
      "                                 observer=None, task=None, working_dir=None)),\n",
      "                ('stackensembleclassifier',\n",
      "                 StackE...\n",
      "                                         meta_learner=LogisticRegressionCV(Cs=10,\n",
      "                                                                           class_weight=None,\n",
      "                                                                           cv=None,\n",
      "                                                                           dual=False,\n",
      "                                                                           fit_intercept=True,\n",
      "                                                                           intercept_scaling=1.0,\n",
      "                                                                           l1_ratios=None,\n",
      "                                                                           max_iter=100,\n",
      "                                                                           multi_class='auto',\n",
      "                                                                           n_jobs=None,\n",
      "                                                                           penalty='l2',\n",
      "                                                                           random_state=None,\n",
      "                                                                           refit=True,\n",
      "                                                                           scoring=<azureml.automl.runtime.stack_ensemble_base.Scorer object at 0x7f46c4167a20>,\n",
      "                                                                           solver='lbfgs',\n",
      "                                                                           tol=0.0001,\n",
      "                                                                           verbose=0),\n",
      "                                         training_cv_folds=5))],\n",
      "         verbose=False)\n"
     ]
    }
   ],
   "source": [
    "lookup_metric = \"f1_score_weighted\"\n",
    "best_run, fitted_model = local_run.get_output(metric = lookup_metric)\n",
    "print(\"Best model :\")\n",
    "print()\n",
    "print('Best Run =', best_run)\n",
    "print()\n",
    "print(fitted_model)"
   ]
  },
  {
   "cell_type": "markdown",
   "metadata": {},
   "source": [
    "### We can take as well a specific iteration:"
   ]
  },
  {
   "cell_type": "code",
   "execution_count": 26,
   "metadata": {},
   "outputs": [
    {
     "name": "stdout",
     "output_type": "stream",
     "text": [
      "Model 3  iteration :\n",
      "Run(Experiment: Lab2-AutoML,\n",
      "Id: AutoML_a8a7acd2-7ccb-4130-b678-bf7845354aa3_3,\n",
      "Type: None,\n",
      "Status: Completed)\n",
      "\n",
      "Pipeline(memory=None,\n",
      "         steps=[('datatransformer',\n",
      "                 DataTransformer(enable_dnn=None, enable_feature_sweeping=None,\n",
      "                                 feature_sweeping_config=None,\n",
      "                                 feature_sweeping_timeout=None,\n",
      "                                 featurization_config=None, force_text_dnn=None,\n",
      "                                 is_cross_validation=None,\n",
      "                                 is_onnx_compatible=None, logger=None,\n",
      "                                 observer=None, task=None, working_dir=None)),\n",
      "                ('RobustScaler',\n",
      "                 RobustScaler(copy...\n",
      "                                      class_weight=None, criterion='entropy',\n",
      "                                      max_depth=None, max_features='log2',\n",
      "                                      max_leaf_nodes=None, max_samples=None,\n",
      "                                      min_impurity_decrease=0.0,\n",
      "                                      min_impurity_split=None,\n",
      "                                      min_samples_leaf=0.01,\n",
      "                                      min_samples_split=0.10368421052631578,\n",
      "                                      min_weight_fraction_leaf=0.0,\n",
      "                                      n_estimators=50, n_jobs=1,\n",
      "                                      oob_score=False, random_state=None,\n",
      "                                      verbose=0, warm_start=False))],\n",
      "         verbose=False)\n"
     ]
    }
   ],
   "source": [
    "iteration = 3\n",
    "\n",
    "my_run, my_model = local_run.get_output(iteration = iteration)\n",
    "print(\"Model\",iteration,\" iteration :\")\n",
    "print(my_run)\n",
    "print()\n",
    "print(my_model)"
   ]
  },
  {
   "cell_type": "markdown",
   "metadata": {},
   "source": [
    "## 8. Testing the model\n",
    "\n",
    "### 8.1 Loading some test images"
   ]
  },
  {
   "cell_type": "code",
   "execution_count": 27,
   "metadata": {},
   "outputs": [],
   "source": [
    "digits = datasets.load_digits()\n",
    "X_test = digits.data[:10, :]\n",
    "y_test = digits.target[:10]\n",
    "images = digits.images[:10]"
   ]
  },
  {
   "cell_type": "markdown",
   "metadata": {},
   "source": [
    "### 8.2 Test\n",
    "We will try to predict 2 digits and see how our model works."
   ]
  },
  {
   "cell_type": "code",
   "execution_count": 28,
   "metadata": {},
   "outputs": [
    {
     "name": "stdout",
     "output_type": "stream",
     "text": [
      "4\n"
     ]
    },
    {
     "data": {
      "image/png": "[encoded data removed]",
      "text/plain": [
       "<Figure size 216x216 with 1 Axes>"
      ]
     },
     "metadata": {
      "needs_background": "light"
     },
     "output_type": "display_data"
    },
    {
     "name": "stdout",
     "output_type": "stream",
     "text": [
      "0\n"
     ]
    },
    {
     "data": {
      "image/png": "[encoded data removed]",
      "text/plain": [
       "<Figure size 216x216 with 1 Axes>"
      ]
     },
     "metadata": {
      "needs_background": "light"
     },
     "output_type": "display_data"
    }
   ],
   "source": [
    "# Randomly select digits and test.\n",
    "for index in np.random.choice(len(y_test), 2, replace = False):\n",
    "    print(index)\n",
    "    predicted = fitted_model.predict(X_test[index:index + 1])[0]\n",
    "    label = y_test[index]\n",
    "    title = \"Label = %d  Esimation = %d \" % (label, predicted)\n",
    "    fig = plt.figure(1, figsize = (3,3))\n",
    "    ax1 = fig.add_axes((0,0,.8,.8))\n",
    "    ax1.set_title(title)\n",
    "    plt.imshow(images[index], cmap = plt.cm.gray_r, interpolation = 'nearest')\n",
    "    plt.show()"
   ]
  },
  {
   "cell_type": "markdown",
   "metadata": {},
   "source": [
    "## 9. Let's save the best model into the Azure ML models repository"
   ]
  },
  {
   "cell_type": "code",
   "execution_count": 29,
   "metadata": {},
   "outputs": [
    {
     "name": "stdout",
     "output_type": "stream",
     "text": [
      "Run(Experiment: Lab2-AutoML,\n",
      "Id: AutoML_a8a7acd2-7ccb-4130-b678-bf7845354aa3_8,\n",
      "Type: None,\n",
      "Status: Completed)\n",
      "\n",
      "Pipeline(memory=None,\n",
      "         steps=[('datatransformer',\n",
      "                 DataTransformer(enable_dnn=None, enable_feature_sweeping=None,\n",
      "                                 feature_sweeping_config=None,\n",
      "                                 feature_sweeping_timeout=None,\n",
      "                                 featurization_config=None, force_text_dnn=None,\n",
      "                                 is_cross_validation=None,\n",
      "                                 is_onnx_compatible=None, logger=None,\n",
      "                                 observer=None, task=None, working_dir=None)),\n",
      "                ('prefittedsoftvotingclassifier',...\n",
      "                                                                                                  max_leaf_nodes=None,\n",
      "                                                                                                  max_samples=None,\n",
      "                                                                                                  min_impurity_decrease=0.0,\n",
      "                                                                                                  min_impurity_split=None,\n",
      "                                                                                                  min_samples_leaf=0.01,\n",
      "                                                                                                  min_samples_split=0.10368421052631578,\n",
      "                                                                                                  min_weight_fraction_leaf=0.0,\n",
      "                                                                                                  n_estimators=50,\n",
      "                                                                                                  n_jobs=1,\n",
      "                                                                                                  oob_score=False,\n",
      "                                                                                                  random_state=None,\n",
      "                                                                                                  verbose=0,\n",
      "                                                                                                  warm_start=False))],\n",
      "                                                                     verbose=False))],\n",
      "                                               flatten_transform=None,\n",
      "                                               weights=[0.6, 0.1, 0.1, 0.1,\n",
      "                                                        0.1]))],\n",
      "         verbose=False)\n",
      "\n",
      "Metrics:\n",
      "log_loss = 0.24268999854197956\n",
      "precision_score_weighted = 0.9655422203157228\n",
      "precision_score_micro = 0.9640618322440768\n",
      "f1_score_micro = 0.9640618322440768\n",
      "average_precision_score_micro = 0.995034409614909\n",
      "accuracy = 0.9640618322440768\n",
      "recall_score_macro = 0.9644125659982171\n",
      "recall_score_weighted = 0.9640618322440768\n",
      "matthews_correlation = 0.9601512882417044\n",
      "f1_score_weighted = 0.9642126316369418\n",
      "balanced_accuracy = 0.9644125659982171\n",
      "norm_macro_recall = 0.9604584066646856\n",
      "weighted_accuracy = 0.9636466137285234\n",
      "f1_score_macro = 0.9643070187001982\n",
      "precision_score_macro = 0.9653605827539274\n",
      "recall_score_micro = 0.9640618322440768\n",
      "AUC_micro = 0.9992539478071206\n",
      "average_precision_score_weighted = 0.9952797406126982\n",
      "AUC_macro = 0.9992793963011941\n",
      "average_precision_score_macro = 0.9952762022235265\n",
      "AUC_weighted = 0.9992651620611631\n",
      "confusion_matrix = aml://artifactId/ExperimentRun/dcid.AutoML_a8a7acd2-7ccb-4130-b678-bf7845354aa3_8/confusion_matrix\n",
      "accuracy_table = aml://artifactId/ExperimentRun/dcid.AutoML_a8a7acd2-7ccb-4130-b678-bf7845354aa3_8/accuracy_table\n"
     ]
    }
   ],
   "source": [
    "best_run, fitted_model = local_run.get_output()\n",
    "print(best_run)\n",
    "print()\n",
    "print(fitted_model)\n",
    "print()\n",
    "print(\"Metrics:\")\n",
    "best_run_metrics = best_run.get_metrics()\n",
    "for metric_name in best_run_metrics:\n",
    "    metric = best_run_metrics[metric_name]\n",
    "    print(metric_name, '=', metric)"
   ]
  },
  {
   "cell_type": "code",
   "execution_count": 30,
   "metadata": {},
   "outputs": [
    {
     "name": "stdout",
     "output_type": "stream",
     "text": [
      "datatransformer\n",
      "prefittedsoftvotingclassifier\n"
     ]
    }
   ],
   "source": [
    "for step in fitted_model.named_steps:\n",
    "    print(step)"
   ]
  },
  {
   "cell_type": "code",
   "execution_count": 31,
   "metadata": {},
   "outputs": [
    {
     "data": {
      "text/plain": [
       "Model(workspace=Workspace.create(name='AMLworkshop', subscription_id='70b8f39e-8863-49f7-b6ba-34a80799550c', resource_group='AMLworkshop-rg'), name=mybestmodel, id=mybestmodel:12, version=12, tags={'Training context': 'Azure Auto ML'}, properties={'AUC': '0.9992651620611631', 'Accuracy': '0.9640618322440768'})"
      ]
     },
     "execution_count": 31,
     "metadata": {},
     "output_type": "execute_result"
    }
   ],
   "source": [
    "from azureml.core import Model\n",
    "\n",
    "best_run.register_model(model_path='outputs/model.pkl', model_name='mybestmodel',\n",
    "                        tags={'Training context':'Azure Auto ML'},\n",
    "                        properties={'AUC': best_run_metrics['AUC_weighted'], 'Accuracy': best_run_metrics['accuracy']})"
   ]
  },
  {
   "cell_type": "markdown",
   "metadata": {},
   "source": [
    "> You can see the model in the **Model** section of Azure ML Studio"
   ]
  },
  {
   "cell_type": "code",
   "execution_count": 32,
   "metadata": {},
   "outputs": [
    {
     "data": {
      "text/html": [
       "<table style=\"width:100%\"><tr><th>Name</th><th>Workspace</th><th>Report Page</th><th>Docs Page</th></tr><tr><td>Lab2-AutoML</td><td>AMLworkshop</td><td><a href=\"https://ml.azure.com/experiments/Lab2-AutoML?wsid=/subscriptions/70b8f39e-8863-49f7-b6ba-34a80799550c/resourcegroups/AMLworkshop-rg/workspaces/AMLworkshop\" target=\"_blank\" rel=\"noopener\">Link to Azure Machine Learning studio</a></td><td><a href=\"https://docs.microsoft.com/en-us/python/api/azureml-core/azureml.core.experiment.Experiment?view=azure-ml-py\" target=\"_blank\" rel=\"noopener\">Link to Documentation</a></td></tr></table>"
      ],
      "text/plain": [
       "Experiment(Name: Lab2-AutoML,\n",
       "Workspace: AMLworkshop)"
      ]
     },
     "execution_count": 32,
     "metadata": {},
     "output_type": "execute_result"
    }
   ],
   "source": [
    "experiment"
   ]
  },
  {
   "cell_type": "markdown",
   "metadata": {},
   "source": [
    "### We can have a list of all the models:"
   ]
  },
  {
   "cell_type": "code",
   "execution_count": 33,
   "metadata": {},
   "outputs": [
    {
     "name": "stdout",
     "output_type": "stream",
     "text": [
      "mybestmodel - version = 12\n",
      "\t Training context : Azure Auto ML\n",
      "\t AUC : 0.9992651620611631\n",
      "\t Accuracy : 0.9640618322440768\n",
      "\n",
      "\n",
      "mnist-prs - version = 5\n",
      "\t pretrained : mnist\n",
      "\n",
      "\n",
      "sklearn_mnist - version = 18\n",
      "\t data : Mnist\n",
      "\t model : Classification\n",
      "\t source : PKL file\n",
      "\n",
      "\n",
      "IBM_attrition_explainer - version = 13\n",
      "\n",
      "\n",
      "local_deploy_model - version = 13\n",
      "\n",
      "\n",
      "DiabetesRidge - version = 20\n",
      "\t area : Diabetes\n",
      "\t type : Ridge\n",
      "\t k : 0.2\n",
      "\t MSE : 3026.6677\n",
      "\t R2 : 0.4067\n",
      "\t RMSE : 55.0152\n",
      "\t Framework : Azure ML SDK\n",
      "\n",
      "\n",
      "TensorFlow - version = 12\n",
      "\t Framework : TensorFlow\n",
      "\t Hyperdrive : Yes\n",
      "\t GPU : Yes\n",
      "\n",
      "\n",
      "mybestmodel - version = 11\n",
      "\t Training context : Azure Auto ML\n",
      "\t AUC : 0.9992595123176834\n",
      "\t Accuracy : 0.9652386461948987\n",
      "\n",
      "\n",
      "mnist-prs - version = 4\n",
      "\t pretrained : mnist\n",
      "\n",
      "\n",
      "sklearn_mnist - version = 17\n",
      "\t data : Mnist\n",
      "\t model : Classification\n",
      "\t source : PKL file\n",
      "\n",
      "\n",
      "DiabetesRidge - version = 19\n",
      "\t area : Diabetes\n",
      "\t type : Ridge\n",
      "\t k : 0.2\n",
      "\t MSE : 3026.6677\n",
      "\t R2 : 0.4067\n",
      "\t RMSE : 55.0152\n",
      "\t Framework : Azure ML SDK\n",
      "\n",
      "\n",
      "IBM_attrition_explainer - version = 12\n",
      "\n",
      "\n",
      "local_deploy_model - version = 12\n",
      "\n",
      "\n",
      "ModeleLCL - version = 1\n",
      "\t area : Diabetes\n",
      "\t type : Ridge\n",
      "\t k : 0.2\n",
      "\t MSE : 3026.6677\n",
      "\t R2 : 0.4067\n",
      "\t RMSE : 55.0152\n",
      "\t Framework : Azure ML SDK\n",
      "\n",
      "\n",
      "DiabetesRidge - version = 18\n",
      "\t area : Diabetes\n",
      "\t type : Ridge\n",
      "\t k : 0.2\n",
      "\t MSE : 3026.6677\n",
      "\t R2 : 0.4067\n",
      "\t RMSE : 55.0152\n",
      "\t Framework : Azure ML SDK\n",
      "\n",
      "\n",
      "TensorFlow - version = 11\n",
      "\t Framework : TensorFlow\n",
      "\t Hyperdrive : Yes\n",
      "\t GPU : Yes\n",
      "\n",
      "\n",
      "mybestmodel - version = 10\n",
      "\t Training context : Azure Auto ML\n",
      "\t AUC : 0.9992812274755843\n",
      "\t Accuracy : 0.9652386461948987\n",
      "\n",
      "\n",
      "monmodeleaml - version = 2\n",
      "\t type : classification\n",
      "\t framework : scikit\n",
      "\t description : démonstration\n",
      "\t run_id : demoaml_1607501759_750e2085\n",
      "\n",
      "\n",
      "sklearn_mnist - version = 16\n",
      "\t data : Mnist\n",
      "\t model : Classification\n",
      "\t source : PKL file\n",
      "\n",
      "\n",
      "DiabetesRidge - version = 17\n",
      "\t area : Diabetes\n",
      "\t type : Ridge\n",
      "\t k : 0.2\n",
      "\t MSE : 3026.6677\n",
      "\t R2 : 0.4067\n",
      "\t RMSE : 55.0152\n",
      "\t Framework : Azure ML SDK\n",
      "\n",
      "\n",
      "IBM_attrition_explainer - version = 11\n",
      "\n",
      "\n",
      "local_deploy_model - version = 11\n",
      "\n",
      "\n",
      "sklearn_mnist - version = 15\n",
      "\t data : Mnist\n",
      "\t model : Classification\n",
      "\t source : PKL file\n",
      "\n",
      "\n",
      "TensorFlow - version = 10\n",
      "\t Framework : TensorFlow\n",
      "\t Hyperdrive : Yes\n",
      "\t GPU : Yes\n",
      "\n",
      "\n",
      "monmodeleaml - version = 1\n",
      "\t type : classification\n",
      "\t framework : scikit\n",
      "\t description : démonstration\n",
      "\t run_id : demoaml_1607426471_534b14b1\n",
      "\n",
      "\n",
      "DiabetesRidge - version = 16\n",
      "\t area : Diabetes\n",
      "\t type : Ridge\n",
      "\t k : 0.2\n",
      "\t MSE : 3026.6677\n",
      "\t R2 : 0.4067\n",
      "\t RMSE : 55.0152\n",
      "\t Framework : Azure ML SDK\n",
      "\n",
      "\n",
      "DiabetesRidge - version = 15\n",
      "\t area : Diabetes\n",
      "\t type : Ridge\n",
      "\t k : 0.2\n",
      "\t MSE : 3026.6677\n",
      "\t R2 : 0.4067\n",
      "\t RMSE : 55.0152\n",
      "\t Framework : Azure ML SDK\n",
      "\n",
      "\n",
      "mnist-prs - version = 3\n",
      "\t pretrained : mnist\n",
      "\n",
      "\n",
      "TensorFlow - version = 9\n",
      "\t Framework : TensorFlow\n",
      "\t Hyperdrive : Yes\n",
      "\t GPU : Yes\n",
      "\n",
      "\n",
      "mybestmodel - version = 9\n",
      "\t Training context : Azure Auto ML\n",
      "\t AUC : 0.9997378926654571\n",
      "\t Accuracy : 0.9799660193668762\n",
      "\n",
      "\n",
      "sklearn_mnist - version = 14\n",
      "\t data : Mnist\n",
      "\t model : Classification\n",
      "\t source : PKL file\n",
      "\n",
      "\n",
      "DiabetesRidge - version = 14\n",
      "\t area : Diabetes\n",
      "\t type : Ridge\n",
      "\t k : 0.2\n",
      "\t MSE : 3026.6677\n",
      "\t R2 : 0.4067\n",
      "\t RMSE : 55.0152\n",
      "\t Framework : Azure ML SDK\n",
      "\n",
      "\n",
      "IBM_attrition_explainer - version = 10\n",
      "\n",
      "\n",
      "local_deploy_model - version = 10\n",
      "\n",
      "\n",
      "sklearn_mnist - version = 13\n",
      "\t data : Mnist\n",
      "\t model : Classification\n",
      "\t source : PKL file\n",
      "\n",
      "\n",
      "sklearn_mnist - version = 12\n",
      "\t data : Mnist\n",
      "\t model : Classification\n",
      "\t source : PKL file\n",
      "\n",
      "\n",
      "amlstudio-priceprediction - version = 1\n",
      "\t CreatedByAMLStudio : true\n",
      "\n",
      "\n",
      "AutoML0f03795b68 - version = 1\n",
      "\n",
      "\n",
      "DiabetesRidge - version = 13\n",
      "\t area : Diabetes\n",
      "\t type : Ridge\n",
      "\t k : 0.2\n",
      "\t MSE : 3026.6677\n",
      "\t R2 : 0.4067\n",
      "\t RMSE : 55.0152\n",
      "\t Databricks : Yes\n",
      "\t Framework : Azure ML SDK from Azure Databricks\n",
      "\n",
      "\n",
      "diabetes - version = 5\n",
      "\t model_uri : runs:/d01620a367fa4301b46f77dbda5c120b/model\n",
      "\t python_version : 3.7.6\n",
      "\n",
      "\n",
      "diabetes - version = 4\n",
      "\t model_uri : runs:/d01620a367fa4301b46f77dbda5c120b/model\n",
      "\t python_version : 3.7.6\n",
      "\n",
      "\n",
      "AutoML6aa32d9468 - version = 1\n",
      "\n",
      "\n",
      "TensorFlow - version = 8\n",
      "\t Framework : TensorFlow\n",
      "\t Hyperdrive : Yes\n",
      "\t GPU : Yes\n",
      "\n",
      "\n",
      "mnist-prs - version = 2\n",
      "\t pretrained : mnist\n",
      "\n",
      "\n",
      "diabetes - version = 3\n",
      "\t model_uri : runs:/56e7033102d444da919dbe0e9d88a80a/model\n",
      "\t python_version : 3.7.6\n",
      "\n",
      "\n",
      "DiabetesRidge - version = 12\n",
      "\t area : Diabetes\n",
      "\t type : Ridge\n",
      "\t k : 0.2\n",
      "\t MSE : 3026.6677\n",
      "\t R2 : 0.4067\n",
      "\t RMSE : 55.0152\n",
      "\t Databricks : Yes\n",
      "\t Framework : Azure ML SDK from Azure Databricks\n",
      "\n",
      "\n",
      "mybestmodel - version = 8\n",
      "\t Training context : Azure Auto ML\n",
      "\t AUC : 0.9997309856594733\n",
      "\t Accuracy : 0.9799660193668762\n",
      "\n",
      "\n",
      "sklearn_mnist - version = 11\n",
      "\t data : Mnist\n",
      "\t model : Classification\n",
      "\t source : PKL file\n",
      "\n",
      "\n",
      "IBM_attrition_explainer - version = 9\n",
      "\n",
      "\n",
      "local_deploy_model - version = 9\n",
      "\n",
      "\n",
      "DiabetesRidge - version = 11\n",
      "\t area : Diabetes\n",
      "\t type : Ridge\n",
      "\t k : 0.2\n",
      "\t MSE : 3026.6677\n",
      "\t R2 : 0.4067\n",
      "\t RMSE : 55.0152\n",
      "\t Framework : Azure ML SDK\n",
      "\n",
      "\n",
      "amlstudio-diabetesdesignermode - version = 1\n",
      "\t CreatedByAMLStudio : true\n",
      "\n",
      "\n",
      "AutoML7851a7fe571 - version = 1\n",
      "\n",
      "\n",
      "mnist-prs - version = 1\n",
      "\t pretrained : mnist\n",
      "\n",
      "\n",
      "DiabetesRidge - version = 10\n",
      "\t area : Diabetes\n",
      "\t type : Ridge\n",
      "\t k : 0.2\n",
      "\t MSE : 3026.6677\n",
      "\t R2 : 0.4067\n",
      "\t RMSE : 55.0152\n",
      "\t Databricks : Yes\n",
      "\t Framework : Azure ML SDK from Azure Databricks\n",
      "\n",
      "\n",
      "DiabetesRidge - version = 9\n",
      "\t area : Diabetes\n",
      "\t type : Ridge\n",
      "\t k : 0.2\n",
      "\t MSE : 3026.6677\n",
      "\t R2 : 0.4067\n",
      "\t RMSE : 55.0152\n",
      "\t Framework : Azure ML SDK from Azure Databricks\n",
      "\n",
      "\n",
      "AutoML082de648913 - version = 2\n",
      "\n",
      "\n",
      "AutoML082de648913 - version = 1\n",
      "\n",
      "\n",
      "IBM_attrition_explainer - version = 8\n",
      "\n",
      "\n",
      "local_deploy_model - version = 8\n",
      "\n",
      "\n",
      "diabetes - version = 2\n",
      "\t model_uri : runs:/1d4995e9a7aa4989a2dea7a8b8a57c72/model\n",
      "\t python_version : 3.7.6\n",
      "\n",
      "\n",
      "diabetes - version = 1\n",
      "\t model_uri : runs:/1d4995e9a7aa4989a2dea7a8b8a57c72/model\n",
      "\t python_version : 3.7.6\n",
      "\n",
      "\n",
      "TensorFlow - version = 7\n",
      "\t Framework : TensorFlow\n",
      "\t Hyperdrive : Yes\n",
      "\t GPU : Yes\n",
      "\n",
      "\n",
      "sklearn_mnist - version = 10\n",
      "\t data : Mnist\n",
      "\t model : Classification\n",
      "\t source : PKL file\n",
      "\n",
      "\n",
      "mybestmodel - version = 7\n",
      "\t Training context : Azure Auto ML\n",
      "\t AUC : 0.9997239870692644\n",
      "\t Accuracy : 0.9805559898683511\n",
      "\n",
      "\n",
      "IBM_attrition_explainer - version = 7\n",
      "\n",
      "\n",
      "local_deploy_model - version = 7\n",
      "\n",
      "\n",
      "DiabetesRidge - version = 8\n",
      "\t area : Diabetes\n",
      "\t type : Ridge\n",
      "\t k : 0.2\n",
      "\t MSE : 3026.6677\n",
      "\t R2 : 0.4067\n",
      "\t RMSE : 55.0152\n",
      "\t Framework : Azure ML SDK\n",
      "\n",
      "\n",
      "TensorFlow - version = 6\n",
      "\t Framework : TensorFlow\n",
      "\t Hyperdrive : Yes\n",
      "\t GPU : Yes\n",
      "\n",
      "\n",
      "sklearn_mnist - version = 9\n",
      "\t data : mnist\n",
      "\t model : classification\n",
      "\t source : pkl file\n",
      "\n",
      "\n",
      "mybestmodel - version = 6\n",
      "\t Training context : Azure Auto ML\n",
      "\t AUC : 0.9997118074788833\n",
      "\t Accuracy : 0.9805580745697697\n",
      "\n",
      "\n",
      "IBM_attrition_explainer - version = 6\n",
      "\n",
      "\n",
      "local_deploy_model - version = 6\n",
      "\n",
      "\n",
      "DiabetesRidge - version = 7\n",
      "\t area : Diabetes\n",
      "\t type : Ridge\n",
      "\t k : 0.2\n",
      "\t MSE : 3026.667734128127\n",
      "\t R2 : 0.4067092393506434\n",
      "\t RMSE : 55.015159130262695\n",
      "\t Framework : Azure ML SDK\n",
      "\n",
      "\n",
      "TensorFlow - version = 5\n",
      "\t Framework : TensorFlow\n",
      "\t Hyperdrive : Yes\n",
      "\t GPU : Yes\n",
      "\n",
      "\n",
      "sklearn_mnist - version = 8\n",
      "\t data : mnist\n",
      "\t model : classification\n",
      "\t source : pkl file\n",
      "\n",
      "\n",
      "IBM_attrition_explainer - version = 5\n",
      "\n",
      "\n",
      "local_deploy_model - version = 5\n",
      "\n",
      "\n",
      "mybestmodel - version = 5\n",
      "\t Training context : Azure Auto ML\n",
      "\t AUC : 0.9997252693782249\n",
      "\t Accuracy : 0.9799660193668762\n",
      "\n",
      "\n",
      "DiabetesRidge - version = 6\n",
      "\t area : Diabetes\n",
      "\t type : Ridge\n",
      "\t k : 0.2\n",
      "\t MSE : 3026.667734128127\n",
      "\t R2 : 0.4067092393506434\n",
      "\t RMSE : 55.015159130262695\n",
      "\t Framework : Azure ML SDK\n",
      "\n",
      "\n",
      "TensorFlow - version = 4\n",
      "\t Framework : TensorFlow\n",
      "\t Hyperdrive : Yes\n",
      "\t GPU : Yes\n",
      "\n",
      "\n",
      "sklearn_mnist - version = 7\n",
      "\t data : mnist\n",
      "\t model : classification\n",
      "\t source : pkl file\n",
      "\n",
      "\n",
      "sklearn_mnist - version = 6\n",
      "\t data : mnist\n",
      "\t model : classification\n",
      "\n",
      "\n",
      "IBM_attrition_explainer - version = 4\n",
      "\n",
      "\n",
      "local_deploy_model - version = 4\n",
      "\n",
      "\n",
      "mybestmodel - version = 4\n",
      "\t Training context : Azure Auto ML\n",
      "\t AUC : 0.9997215892949766\n",
      "\t Accuracy : 0.9793770912161106\n",
      "\n",
      "\n",
      "DiabetesRidge - version = 5\n",
      "\t area : Diabetes\n",
      "\t type : Ridge\n",
      "\t k : 0.2\n",
      "\t MSE : 3026.667734128127\n",
      "\t R2 : 0.4067092393506434\n",
      "\t RMSE : 55.015159130262695\n",
      "\t Framework : Azure ML SDK\n",
      "\n",
      "\n",
      "TensorFlow - version = 3\n",
      "\t Framework : TensorFlow\n",
      "\t Hyperdrive : Yes\n",
      "\t GPU : Yes\n",
      "\n",
      "\n",
      "sklearn_mnist - version = 5\n",
      "\t data : mnist\n",
      "\t model : classification\n",
      "\n",
      "\n",
      "sklearn_mnist - version = 4\n",
      "\t data : mnist\n",
      "\t model : classification\n",
      "\n",
      "\n",
      "mybestmodel - version = 3\n",
      "\t Training context : Azure Auto ML\n",
      "\t AUC : 0.9997274913300952\n",
      "\t Accuracy : 0.9793770912161106\n",
      "\n",
      "\n",
      "IBM_attrition_explainer - version = 3\n",
      "\n",
      "\n",
      "local_deploy_model - version = 3\n",
      "\n",
      "\n",
      "DiabetesRidge - version = 4\n",
      "\t area : Diabetes\n",
      "\t type : Ridge\n",
      "\t k : 0.2\n",
      "\t MSE : 3026.667734128127\n",
      "\t R2 : 0.4067092393506434\n",
      "\t RMSE : 55.015159130262695\n",
      "\t Framework : Azure ML SDK\n",
      "\n",
      "\n",
      "TensorFlow - version = 2\n",
      "\t Framework : TensorFlow\n",
      "\t Hyperdrive : Yes\n",
      "\t GPU : Yes\n",
      "\n",
      "\n",
      "sklearn_mnist - version = 3\n",
      "\t data : mnist\n",
      "\t model : classification\n",
      "\n",
      "\n",
      "mybestmodel - version = 2\n",
      "\t Training context : Azure Auto ML\n",
      "\t AUC : 0.9997274913194641\n",
      "\t Accuracy : 0.9793770912161106\n",
      "\n",
      "\n",
      "IBM_attrition_explainer - version = 2\n",
      "\n",
      "\n",
      "local_deploy_model - version = 2\n",
      "\n",
      "\n",
      "DiabetesRidge - version = 3\n",
      "\t area : Diabetes\n",
      "\t type : Ridge\n",
      "\t k : 0.2\n",
      "\t MSE : 3026.667734128127\n",
      "\t R2 : 0.4067092393506434\n",
      "\t RMSE : 55.015159130262695\n",
      "\t Framework : Azure ML SDK\n",
      "\n",
      "\n",
      "DiabetesRidge - version = 2\n",
      "\t area : Diabetes\n",
      "\t type : Ridge\n",
      "\t k : 0.2\n",
      "\t MSE : 3026.667734128127\n",
      "\t R2 : 0.4067092393506434\n",
      "\t RMSE : 55.015159130262695\n",
      "\t Framework : Azure ML SDK\n",
      "\n",
      "\n",
      "sklearn_mnist - version = 2\n",
      "\t data : mnist\n",
      "\t model : classification\n",
      "\n",
      "\n",
      "TensorFlow - version = 1\n",
      "\t Framework : TensorFlow\n",
      "\t Hyperdrive : Yes\n",
      "\t GPU : Yes\n",
      "\n",
      "\n",
      "mnistMLmodel - version = 1\n",
      "\t Source : ONNX\n",
      "\n",
      "\n",
      "IBM_attrition_explainer - version = 1\n",
      "\n",
      "\n",
      "local_deploy_model - version = 1\n",
      "\n",
      "\n",
      "mybestmodel - version = 1\n",
      "\t Training context : Azure Auto ML\n",
      "\t AUC : 0.9997251323905743\n",
      "\t Accuracy : 0.9799660193668762\n",
      "\n",
      "\n",
      "DiabetesRidge - version = 1\n",
      "\t area : Diabetes\n",
      "\t type : Ridge\n",
      "\t k : 0.2\n",
      "\t MSE : 3026.667734128127\n",
      "\t R2 : 0.4067092393506434\n",
      "\t RMSE : 55.015159130262695\n",
      "\t Framework : Azure ML SDK\n",
      "\n",
      "\n"
     ]
    }
   ],
   "source": [
    "# List of all the models from the Azure ML workspace\n",
    "for model in Model.list(ws):\n",
    "    print(model.name, '- version =', model.version)\n",
    "    for tag_name in model.tags:\n",
    "        tag = model.tags[tag_name]\n",
    "        print ('\\t',tag_name, ':', tag)\n",
    "    for prop_name in model.properties:\n",
    "        prop = model.properties[prop_name]\n",
    "        print ('\\t',prop_name, ':', prop)\n",
    "    print('\\n')"
   ]
  },
  {
   "cell_type": "markdown",
   "metadata": {},
   "source": [
    "> You can open now the **Lab3 notebook**."
   ]
  },
  {
   "cell_type": "markdown",
   "metadata": {},
   "source": [
    "<img src=\"https://github.com/retkowsky/images/blob/master/Powered-by-MS-Azure-logo-v2.png?raw=true\" height=\"300\" width=\"300\">"
   ]
  }
 ],
 "metadata": {
  "authors": [
   {
    "name": "savitam"
   }
  ],
  "kernelspec": {
   "display_name": "Python 3.6 - AzureML",
   "language": "python",
   "name": "python3-azureml"
  },
  "language_info": {
   "codemirror_mode": {
    "name": "ipython",
    "version": 3
   },
   "file_extension": ".py",
   "mimetype": "text/x-python",
   "name": "python",
   "nbconvert_exporter": "python",
   "pygments_lexer": "ipython3",
   "version": "3.6.9"
  }
 },
 "nbformat": 4,
 "nbformat_minor": 2
}
