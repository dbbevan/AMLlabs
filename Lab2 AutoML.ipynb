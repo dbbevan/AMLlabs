{
 "cells": [
  {
   "cell_type": "markdown",
   "metadata": {},
   "source": [
    "# Lab2: AutoML for Classification"
   ]
  },
  {
   "cell_type": "markdown",
   "metadata": {},
   "source": [
    "<img src='https://github.com/retkowsky/images/blob/master/AzureMLservicebanniere.png?raw=true'>"
   ]
  },
  {
   "cell_type": "markdown",
   "metadata": {},
   "source": [
    "We are going to use the AutoML feature of Azure ML. \n",
    "Automated machine learning, also referred to as **automated ML or AutoML**, is the process of automating the time consuming, iterative tasks of machine learning model development. It allows data scientists, analysts, and developers to **build ML models with high scale, efficiency, and productivity all while sustaining model quality**. Automated ML is based on a breakthrough from our **Microsoft Research division**.\n",
    "\n",
    "Traditional machine learning model development is resource-intensive, requiring significant domain knowledge and time to produce and compare dozens of models. With automated machine learning, **you'll accelerate the time it takes to get production-ready ML models with great ease and efficiency**."
   ]
  },
  {
   "cell_type": "markdown",
   "metadata": {},
   "source": [
    "<img src=\"https://docs.microsoft.com/ko-kr/azure/machine-learning/service/media/how-to-automated-ml/automl-concept-diagram2.png\">"
   ]
  },
  {
   "cell_type": "markdown",
   "metadata": {},
   "source": [
    "This is a copy of the test set of the **UCI ML hand-written digits datasets** http://archive.ics.uci.edu/ml/datasets/Optical+Recognition+of+Handwritten+Digits\n",
    "\n",
    "The data set contains images of hand-written digits: 10 classes where each class refers to a digit.\n",
    "\n"
   ]
  },
  {
   "cell_type": "markdown",
   "metadata": {},
   "source": [
    "<img src=\"https://www.seewald.at/img/L/digits.gif\">\n"
   ]
  },
  {
   "cell_type": "markdown",
   "metadata": {},
   "source": [
    "### Azure AutoML documentation\n",
    "> https://docs.microsoft.com/en-us/azure/machine-learning/service/how-to-automated-ml"
   ]
  },
  {
   "cell_type": "markdown",
   "metadata": {},
   "source": [
    "## 1. Informations\n",
    "\n",
    "As part of the setup you have already created an Azure ML `Workspace` object. <br> For AutoML you will need to create an `Experiment` object, which is a named object in a `Workspace` used to run experiments."
   ]
  },
  {
   "cell_type": "code",
   "execution_count": 37,
   "metadata": {},
   "outputs": [
    {
     "data": {
      "text/plain": [
       "'3.6.9 |Anaconda, Inc.| (default, Jul 30 2019, 19:07:31) \\n[GCC 7.3.0]'"
      ]
     },
     "execution_count": 37,
     "metadata": {},
     "output_type": "execute_result"
    }
   ],
   "source": [
    "import sys\n",
    "sys.version"
   ]
  },
  {
   "cell_type": "code",
   "execution_count": 38,
   "metadata": {},
   "outputs": [
    {
     "name": "stdout",
     "output_type": "stream",
     "text": [
      "2021-01-08 10:56:55.812964\n"
     ]
    }
   ],
   "source": [
    "import datetime\n",
    "now = datetime.datetime.now()\n",
    "print(now)"
   ]
  },
  {
   "cell_type": "code",
   "execution_count": 39,
   "metadata": {},
   "outputs": [
    {
     "name": "stdout",
     "output_type": "stream",
     "text": [
      "Azure ML version is 1.19.0\n"
     ]
    }
   ],
   "source": [
    "import azureml.core\n",
    "print(\"Azure ML version is\", azureml.core.VERSION)"
   ]
  },
  {
   "cell_type": "code",
   "execution_count": 40,
   "metadata": {},
   "outputs": [],
   "source": [
    "import logging\n",
    "import os\n",
    "import random\n",
    "\n",
    "from matplotlib import pyplot as plt\n",
    "from matplotlib.pyplot import imshow\n",
    "import numpy as np\n",
    "import pandas as pd\n",
    "from sklearn import datasets\n",
    "\n",
    "import azureml.core\n",
    "from azureml.core.experiment import Experiment\n",
    "from azureml.core.workspace import Workspace\n",
    "from azureml.train.automl import AutoMLConfig\n",
    "from azureml.train.automl.run import AutoMLRun"
   ]
  },
  {
   "cell_type": "markdown",
   "metadata": {},
   "source": [
    "## 2. Experiment"
   ]
  },
  {
   "cell_type": "code",
   "execution_count": 41,
   "metadata": {},
   "outputs": [],
   "source": [
    "ws = Workspace.from_config()\n",
    "\n",
    "experiment_name = 'Lab2-AutoML'\n",
    "\n",
    "project_folder = './sample_projects/lab2'\n",
    "\n",
    "experiment = Experiment(ws, experiment_name)"
   ]
  },
  {
   "cell_type": "code",
   "execution_count": 42,
   "metadata": {},
   "outputs": [
    {
     "data": {
      "text/html": [
       "<div>\n",
       "<style scoped>\n",
       "    .dataframe tbody tr th:only-of-type {\n",
       "        vertical-align: middle;\n",
       "    }\n",
       "\n",
       "    .dataframe tbody tr th {\n",
       "        vertical-align: top;\n",
       "    }\n",
       "\n",
       "    .dataframe thead th {\n",
       "        text-align: right;\n",
       "    }\n",
       "</style>\n",
       "<table border=\"1\" class=\"dataframe\">\n",
       "  <thead>\n",
       "    <tr style=\"text-align: right;\">\n",
       "      <th></th>\n",
       "      <th></th>\n",
       "    </tr>\n",
       "  </thead>\n",
       "  <tbody>\n",
       "    <tr>\n",
       "      <th>Azure ML SDK version</th>\n",
       "      <td>1.19.0</td>\n",
       "    </tr>\n",
       "    <tr>\n",
       "      <th>Workspace Name</th>\n",
       "      <td>AMLworkshop</td>\n",
       "    </tr>\n",
       "    <tr>\n",
       "      <th>Resource Group</th>\n",
       "      <td>AMLworkshop-rg</td>\n",
       "    </tr>\n",
       "    <tr>\n",
       "      <th>Location</th>\n",
       "      <td>westeurope</td>\n",
       "    </tr>\n",
       "    <tr>\n",
       "      <th>Project Directory</th>\n",
       "      <td>./sample_projects/lab2</td>\n",
       "    </tr>\n",
       "    <tr>\n",
       "      <th>Experiment Name</th>\n",
       "      <td>Lab2-AutoML</td>\n",
       "    </tr>\n",
       "  </tbody>\n",
       "</table>\n",
       "</div>"
      ],
      "text/plain": [
       "                                            \n",
       "Azure ML SDK version  1.19.0                \n",
       "Workspace Name        AMLworkshop           \n",
       "Resource Group        AMLworkshop-rg        \n",
       "Location              westeurope            \n",
       "Project Directory     ./sample_projects/lab2\n",
       "Experiment Name       Lab2-AutoML           "
      ]
     },
     "execution_count": 42,
     "metadata": {},
     "output_type": "execute_result"
    }
   ],
   "source": [
    "output = {}\n",
    "output['Azure ML SDK version'] = azureml.core.VERSION\n",
    "output['Workspace Name'] = ws.name\n",
    "output['Resource Group'] = ws.resource_group\n",
    "output['Location'] = ws.location\n",
    "output['Project Directory'] = project_folder\n",
    "output['Experiment Name'] = experiment.name\n",
    "pd.set_option('display.max_colwidth', -1)\n",
    "pd.DataFrame(data = output, index = ['']).T"
   ]
  },
  {
   "cell_type": "markdown",
   "metadata": {},
   "source": [
    "## 3. Loading the dataset\n",
    "\n",
    "This uses scikit-learn's [load_digits](http://scikit-learn.org/stable/modules/generated/sklearn.datasets.load_digits.html) method.\n",
    "Each datapoint is a 8x8 image of a digit."
   ]
  },
  {
   "cell_type": "code",
   "execution_count": 43,
   "metadata": {},
   "outputs": [],
   "source": [
    "from sklearn import datasets\n",
    "\n",
    "digits = datasets.load_digits()\n",
    "\n",
    "# Exclude the first 100 rows from training so that they can be used for test.\n",
    "X_train = digits.data[100:,:]\n",
    "y_train = digits.target[100:]"
   ]
  },
  {
   "cell_type": "code",
   "execution_count": 44,
   "metadata": {},
   "outputs": [
    {
     "name": "stdout",
     "output_type": "stream",
     "text": [
      "Dataset Size = (1797, 64)\n"
     ]
    }
   ],
   "source": [
    "print(\"Dataset Size =\", digits.data.shape)"
   ]
  },
  {
   "cell_type": "code",
   "execution_count": 45,
   "metadata": {},
   "outputs": [],
   "source": [
    "def view(number):\n",
    "    import matplotlib.pyplot as plt \n",
    "    plt.gray() \n",
    "    plt.matshow(digits.images[number]) \n",
    "    plt.show() "
   ]
  },
  {
   "cell_type": "code",
   "execution_count": 46,
   "metadata": {},
   "outputs": [
    {
     "data": {
      "text/plain": [
       "<Figure size 432x288 with 0 Axes>"
      ]
     },
     "metadata": {},
     "output_type": "display_data"
    },
    {
     "data": {
      "image/png": "[encoded data removed]",
      "text/plain": [
       "<Figure size 288x288 with 1 Axes>"
      ]
     },
     "metadata": {
      "needs_background": "light"
     },
     "output_type": "display_data"
    }
   ],
   "source": [
    "view(0)"
   ]
  },
  {
   "cell_type": "code",
   "execution_count": 47,
   "metadata": {},
   "outputs": [
    {
     "data": {
      "text/plain": [
       "<Figure size 432x288 with 0 Axes>"
      ]
     },
     "metadata": {},
     "output_type": "display_data"
    },
    {
     "data": {
      "image/png": "[encoded data removed]",
      "text/plain": [
       "<Figure size 288x288 with 1 Axes>"
      ]
     },
     "metadata": {
      "needs_background": "light"
     },
     "output_type": "display_data"
    }
   ],
   "source": [
    "view(1)"
   ]
  },
  {
   "cell_type": "code",
   "execution_count": 48,
   "metadata": {},
   "outputs": [
    {
     "data": {
      "text/plain": [
       "<Figure size 432x288 with 0 Axes>"
      ]
     },
     "metadata": {},
     "output_type": "display_data"
    },
    {
     "data": {
      "image/png": "[encoded data removed]",
      "text/plain": [
       "<Figure size 288x288 with 1 Axes>"
      ]
     },
     "metadata": {
      "needs_background": "light"
     },
     "output_type": "display_data"
    }
   ],
   "source": [
    "view(2)"
   ]
  },
  {
   "cell_type": "code",
   "execution_count": 49,
   "metadata": {},
   "outputs": [
    {
     "data": {
      "text/plain": [
       "<Figure size 432x288 with 0 Axes>"
      ]
     },
     "metadata": {},
     "output_type": "display_data"
    },
    {
     "data": {
      "image/png": "[encoded data removed]",
      "text/plain": [
       "<Figure size 288x288 with 1 Axes>"
      ]
     },
     "metadata": {
      "needs_background": "light"
     },
     "output_type": "display_data"
    }
   ],
   "source": [
    "view(9)"
   ]
  },
  {
   "cell_type": "code",
   "execution_count": 50,
   "metadata": {},
   "outputs": [
    {
     "data": {
      "text/plain": [
       "<Figure size 432x288 with 0 Axes>"
      ]
     },
     "metadata": {},
     "output_type": "display_data"
    },
    {
     "data": {
      "image/png": "[encoded data removed]",
      "text/plain": [
       "<Figure size 288x288 with 1 Axes>"
      ]
     },
     "metadata": {
      "needs_background": "light"
     },
     "output_type": "display_data"
    }
   ],
   "source": [
    "view(4)"
   ]
  },
  {
   "cell_type": "markdown",
   "metadata": {},
   "source": [
    "## 4. AutoML configuration\n",
    "\n"
   ]
  },
  {
   "cell_type": "code",
   "execution_count": 51,
   "metadata": {},
   "outputs": [
    {
     "name": "stderr",
     "output_type": "stream",
     "text": [
      "WARNING:root:The AutoMLConfig parameters, X and y, will soon be deprecated. Please refer to our documentation for the latest interface: https://aka.ms/AutoMLConfig\n"
     ]
    }
   ],
   "source": [
    "automl_config = AutoMLConfig(task = 'classification', #AutoML is also available for Regression and Time series forecasting\n",
    "                             debug_log = 'lab2automl.log',\n",
    "                             primary_metric = 'AUC_weighted', #the metric I want to use to sort the models\n",
    "                             iteration_timeout_minutes = 2, #Timeout for each iteration\n",
    "                             experiment_timeout_minutes = 15, #timeout for the whole process\n",
    "                             enable_early_stopping=True, \n",
    "                             iterations = 10,           # number of max iterations\n",
    "                             n_cross_validations = 3,    # Cross validation\n",
    "                             verbosity = logging.INFO,\n",
    "                             enable_voting_ensemble=False, # No Voting model\n",
    "                             enable_stack_ensemble=False, # No Stack model\n",
    "                             X = X_train, \n",
    "                             y = y_train)"
   ]
  },
  {
   "cell_type": "markdown",
   "metadata": {},
   "source": [
    "## 5. AutoML\n",
    "\n",
    "Call the `submit` method on the experiment object and pass the run configuration. Execution of local runs is synchronous. Depending on the data and the number of iterations this can run for a while.\n",
    "In this example, we specify `show_output = True` to print currently running iterations to the console.\n",
    "\n",
    "`AUC_weighted` is the **metric** used."
   ]
  },
  {
   "cell_type": "code",
   "execution_count": 52,
   "metadata": {},
   "outputs": [],
   "source": [
    "#Only if you want to upgrade\n",
    "#!pip install --upgrade certifi==2020.11.8"
   ]
  },
  {
   "cell_type": "markdown",
   "metadata": {},
   "source": [
    "## Let's run the AutoML process in a local machine (ie your compute instance)"
   ]
  },
  {
   "cell_type": "markdown",
   "metadata": {},
   "source": [
    "> List of the available models: https://docs.microsoft.com/en-us/azure/machine-learning/how-to-configure-auto-train#supported-models"
   ]
  },
  {
   "cell_type": "code",
   "execution_count": 53,
   "metadata": {},
   "outputs": [
    {
     "name": "stdout",
     "output_type": "stream",
     "text": [
      "No run_configuration provided, running on local with default configuration\n",
      "Running on local machine\n",
      "Parent Run ID: AutoML_bc759f61-36cf-48ec-9771-9cda172112fe\n",
      "\n",
      "Current status: DatasetEvaluation. Gathering dataset statistics.\n",
      "Current status: FeaturesGeneration. Generating features for the dataset.\n",
      "Current status: DatasetFeaturization. Beginning to fit featurizers and featurize the dataset.\n",
      "Current status: DatasetFeaturizationCompleted. Completed fit featurizers and featurizing the dataset.\n",
      "Current status: DatasetCrossValidationSplit. Generating individually featurized CV splits.\n",
      "\n",
      "****************************************************************************************************\n",
      "DATA GUARDRAILS: \n",
      "\n",
      "TYPE:         Class balancing detection\n",
      "STATUS:       PASSED\n",
      "DESCRIPTION:  Your inputs were analyzed, and all classes are balanced in your training data.\n",
      "              Learn more about imbalanced data: https://aka.ms/AutomatedMLImbalancedData\n",
      "\n",
      "****************************************************************************************************\n",
      "\n",
      "TYPE:         Missing feature values imputation\n",
      "STATUS:       PASSED\n",
      "DESCRIPTION:  No feature missing values were detected in the training data.\n",
      "              Learn more about missing value imputation: https://aka.ms/AutomatedMLFeaturization\n",
      "\n",
      "****************************************************************************************************\n",
      "\n",
      "TYPE:         High cardinality feature detection\n",
      "STATUS:       PASSED\n",
      "DESCRIPTION:  Your inputs were analyzed, and no high cardinality features were detected.\n",
      "              Learn more about high cardinality feature handling: https://aka.ms/AutomatedMLFeaturization\n",
      "\n",
      "****************************************************************************************************\n",
      "Current status: ModelSelection. Beginning model selection.\n",
      "\n",
      "****************************************************************************************************\n",
      "ITERATION: The iteration being evaluated.\n",
      "PIPELINE: A summary description of the pipeline being evaluated.\n",
      "DURATION: Time taken for the current iteration.\n",
      "METRIC: The result of computing score on the fitted pipeline.\n",
      "BEST: The best observed score thus far.\n",
      "****************************************************************************************************\n",
      "\n",
      " ITERATION   PIPELINE                                       DURATION      METRIC      BEST\n",
      "         0   MaxAbsScaler LightGBM                          0:00:38       0.9992    0.9992\n",
      "         1   MaxAbsScaler XGBoostClassifier                 0:00:35       0.9991    0.9992\n",
      "         2   MinMaxScaler RandomForest                      0:00:26       0.9867    0.9992\n",
      "         3   RobustScaler ExtremeRandomTrees                0:00:27       0.9932    0.9992\n",
      "         4   MinMaxScaler RandomForest                      0:00:32       0.9958    0.9992\n",
      "         5   MinMaxScaler RandomForest                      0:00:32       0.9792    0.9992\n",
      "         6   StandardScalerWrapper RandomForest             0:00:27       0.9946    0.9992\n",
      "         7   MinMaxScaler ExtremeRandomTrees                0:00:27       0.9673    0.9992\n",
      "         8   MinMaxScaler ExtremeRandomTrees                0:00:27       0.9919    0.9992\n",
      "         9   SparseNormalizer KNN                           0:00:28       0.9988    0.9992\n",
      "****************************************************************************************************\n",
      "Current status: BestRunExplainModel. Best run model explanations started\n",
      "Current status: ModelExplanationDataSetSetup. Model explanations data setup completed\n",
      "Current status: PickSurrogateModel. Choosing LightGBM as the surrogate model for explanations\n",
      "Current status: EngineeredFeatureExplanations. Computation of engineered features started\n",
      "Current status: EngineeredFeatureExplanations. Computation of engineered features completed\n",
      "Current status: RawFeaturesExplanations. Computation of raw features started\n",
      "Current status: RawFeaturesExplanations. Computation of raw features completed\n",
      "Current status: BestRunExplainModel. Best run model explanations completed\n",
      "****************************************************************************************************\n"
     ]
    }
   ],
   "source": [
    "local_run = experiment.submit(automl_config, show_output = True)"
   ]
  },
  {
   "cell_type": "markdown",
   "metadata": {},
   "source": [
    "## 6. AutoML results"
   ]
  },
  {
   "cell_type": "markdown",
   "metadata": {},
   "source": [
    "### 6.1 Go the experiment to view the results"
   ]
  },
  {
   "cell_type": "code",
   "execution_count": 54,
   "metadata": {},
   "outputs": [
    {
     "data": {
      "text/html": [
       "<table style=\"width:100%\"><tr><th>Experiment</th><th>Id</th><th>Type</th><th>Status</th><th>Details Page</th><th>Docs Page</th></tr><tr><td>Lab2-AutoML</td><td>AutoML_bc759f61-36cf-48ec-9771-9cda172112fe</td><td>automl</td><td>Completed</td><td><a href=\"https://ml.azure.com/experiments/Lab2-AutoML/runs/AutoML_bc759f61-36cf-48ec-9771-9cda172112fe?wsid=/subscriptions/70b8f39e-8863-49f7-b6ba-34a80799550c/resourcegroups/AMLworkshop-rg/workspaces/AMLworkshop\" target=\"_blank\" rel=\"noopener\">Link to Azure Machine Learning studio</a></td><td><a href=\"https://docs.microsoft.com/en-us/python/api/overview/azure/ml/intro?view=azure-ml-py\" target=\"_blank\" rel=\"noopener\">Link to Documentation</a></td></tr></table>"
      ],
      "text/plain": [
       "Run(Experiment: Lab2-AutoML,\n",
       "Id: AutoML_bc759f61-36cf-48ec-9771-9cda172112fe,\n",
       "Type: automl,\n",
       "Status: Completed)"
      ]
     },
     "execution_count": 54,
     "metadata": {},
     "output_type": "execute_result"
    }
   ],
   "source": [
    "local_run"
   ]
  },
  {
   "cell_type": "code",
   "execution_count": 55,
   "metadata": {},
   "outputs": [
    {
     "data": {
      "text/plain": [
       "{'num_iterations': '10',\n",
       " 'training_type': 'TrainFull',\n",
       " 'acquisition_function': 'EI',\n",
       " 'primary_metric': 'AUC_weighted',\n",
       " 'train_split': '0',\n",
       " 'acquisition_parameter': '0',\n",
       " 'num_cross_validation': '3',\n",
       " 'target': 'local',\n",
       " 'AMLSettingsJsonString': '{\"path\":null,\"name\":\"Lab2-AutoML\",\"subscription_id\":\"70b8f39e-8863-49f7-b6ba-34a80799550c\",\"resource_group\":\"AMLworkshop-rg\",\"workspace_name\":\"AMLworkshop\",\"region\":\"westeurope\",\"compute_target\":\"local\",\"spark_service\":null,\"azure_service\":\"Microsoft.AzureNotebookVM\",\"many_models\":false,\"pipeline_fetch_max_batch_size\":1,\"iterations\":10,\"primary_metric\":\"AUC_weighted\",\"task_type\":\"classification\",\"data_script\":null,\"validation_size\":0.0,\"n_cross_validations\":3,\"y_min\":null,\"y_max\":null,\"num_classes\":10,\"featurization\":\"auto\",\"_ignore_package_version_incompatibilities\":false,\"is_timeseries\":false,\"max_cores_per_iteration\":1,\"max_concurrent_iterations\":1,\"iteration_timeout_minutes\":2,\"mem_in_mb\":null,\"enforce_time_on_windows\":false,\"experiment_timeout_minutes\":15,\"experiment_exit_score\":null,\"whitelist_models\":null,\"blacklist_algos\":[\"TensorFlowLinearClassifier\",\"TensorFlowDNN\"],\"supported_models\":[\"LogisticRegression\",\"TensorFlowDNN\",\"BernoulliNaiveBayes\",\"KNN\",\"AveragedPerceptronClassifier\",\"LinearSVM\",\"TensorFlowLinearClassifier\",\"LightGBM\",\"SVM\",\"DecisionTree\",\"ExtremeRandomTrees\",\"MultinomialNaiveBayes\",\"XGBoostClassifier\",\"RandomForest\",\"GradientBoosting\",\"SGD\"],\"auto_blacklist\":true,\"blacklist_samples_reached\":false,\"exclude_nan_labels\":true,\"verbosity\":20,\"_debug_log\":\"lab2automl.log\",\"show_warnings\":false,\"model_explainability\":true,\"service_url\":null,\"sdk_url\":null,\"sdk_packages\":null,\"enable_onnx_compatible_models\":false,\"enable_split_onnx_featurizer_estimator_models\":false,\"vm_type\":null,\"telemetry_verbosity\":20,\"send_telemetry\":true,\"enable_dnn\":false,\"scenario\":\"SDK-1.13.0\",\"environment_label\":null,\"force_text_dnn\":false,\"enable_feature_sweeping\":true,\"enable_early_stopping\":true,\"early_stopping_n_iters\":10,\"metrics\":null,\"enable_ensembling\":false,\"enable_stack_ensembling\":false,\"ensemble_iterations\":10,\"enable_tf\":false,\"enable_subsampling\":false,\"subsample_seed\":null,\"enable_nimbusml\":false,\"enable_streaming\":false,\"force_streaming\":false,\"track_child_runs\":true,\"allowed_private_models\":[],\"label_column_name\":null,\"weight_column_name\":null,\"cv_split_column_names\":null,\"enable_local_managed\":false,\"_local_managed_run_id\":null,\"cost_mode\":1,\"lag_length\":0,\"metric_operation\":\"maximize\",\"preprocess\":true}',\n",
       " 'DataPrepJsonString': None,\n",
       " 'EnableSubsampling': 'False',\n",
       " 'runTemplate': 'AutoML',\n",
       " 'azureml.runsource': 'automl',\n",
       " 'display_task_type': 'classification',\n",
       " 'dependencies_versions': '{\"azureml-widgets\": \"1.19.0\", \"azureml-train\": \"1.19.0\", \"azureml-train-restclients-hyperdrive\": \"1.19.0\", \"azureml-train-core\": \"1.19.0\", \"azureml-train-automl\": \"1.19.0\", \"azureml-train-automl-runtime\": \"1.19.0\", \"azureml-train-automl-client\": \"1.19.0\", \"azureml-tensorboard\": \"1.19.0\", \"azureml-telemetry\": \"1.19.0\", \"azureml-sdk\": \"1.19.0\", \"azureml-samples\": \"0+unknown\", \"azureml-pipeline\": \"1.19.0\", \"azureml-pipeline-steps\": \"1.19.0\", \"azureml-pipeline-core\": \"1.19.0\", \"azureml-opendatasets\": \"1.19.0\", \"azureml-model-management-sdk\": \"1.0.1b6.post1\", \"azureml-mlflow\": \"1.19.0\", \"azureml-interpret\": \"1.19.0\", \"azureml-explain-model\": \"1.19.0\", \"azureml-defaults\": \"1.19.0\", \"azureml-dataset-runtime\": \"1.19.0\", \"azureml-dataprep\": \"2.6.1\", \"azureml-dataprep-rslex\": \"1.4.0\", \"azureml-dataprep-native\": \"26.0.0\", \"azureml-datadrift\": \"1.19.0\", \"azureml-core\": \"1.19.0\", \"azureml-contrib-services\": \"1.19.0\", \"azureml-contrib-server\": \"1.19.0\", \"azureml-contrib-reinforcementlearning\": \"1.19.0\", \"azureml-contrib-pipeline-steps\": \"1.19.0\", \"azureml-contrib-notebook\": \"1.19.0\", \"azureml-contrib-interpret\": \"1.19.0\", \"azureml-contrib-gbdt\": \"1.19.0\", \"azureml-contrib-fairness\": \"1.19.0\", \"azureml-contrib-dataset\": \"1.19.0\", \"azureml-cli-common\": \"1.19.0\", \"azureml-automl-runtime\": \"1.19.0\", \"azureml-automl-core\": \"1.19.0\", \"azureml-accel-models\": \"1.19.0\"}',\n",
       " '_aml_system_scenario_identification': 'Local.Parent',\n",
       " 'ClientSdkVersion': '1.19.0',\n",
       " 'ClientType': 'SDK',\n",
       " 'environment_cpu_name': 'AzureML-AutoML',\n",
       " 'environment_cpu_label': 'prod',\n",
       " 'environment_gpu_name': 'AzureML-AutoML-GPU',\n",
       " 'environment_gpu_label': 'prod',\n",
       " 'root_attribution': 'automl',\n",
       " 'attribution': 'AutoML',\n",
       " 'Orchestrator': 'AutoML',\n",
       " '_azureml.ComputeTargetType': 'local',\n",
       " 'ProblemInfoJsonString': '{\"dataset_num_categorical\": 0, \"is_sparse\": false, \"subsampling\": false, \"dataset_classes\": 10, \"dataset_features\": 61, \"dataset_samples\": 1697, \"single_frequency_class_detected\": false}',\n",
       " 'feature_skus': 'automatedml_sdk_guardrails'}"
      ]
     },
     "execution_count": 55,
     "metadata": {},
     "output_type": "execute_result"
    }
   ],
   "source": [
    "local_run.properties"
   ]
  },
  {
   "cell_type": "markdown",
   "metadata": {},
   "source": [
    "### 6.2 AutoML Widget for interactive results from the notebook"
   ]
  },
  {
   "cell_type": "code",
   "execution_count": 56,
   "metadata": {},
   "outputs": [
    {
     "data": {
      "application/vnd.jupyter.widget-view+json": {
       "model_id": "3e205b773b7b43bf81a9ddced42ba8db",
       "version_major": 2,
       "version_minor": 0
      },
      "text/plain": [
       "_AutoMLWidget(widget_settings={'childWidgetDisplay': 'popup', 'send_telemetry': False, 'log_level': 'INFO', 's…"
      ]
     },
     "metadata": {},
     "output_type": "display_data"
    },
    {
     "data": {
      "application/aml.mini.widget.v1": "{\"status\": \"Completed\", \"workbench_run_details_uri\": \"https://ml.azure.com/experiments/Lab2-AutoML/runs/AutoML_bc759f61-36cf-48ec-9771-9cda172112fe?wsid=/subscriptions/70b8f39e-8863-49f7-b6ba-34a80799550c/resourcegroups/AMLworkshop-rg/workspaces/AMLworkshop\", \"run_id\": \"AutoML_bc759f61-36cf-48ec-9771-9cda172112fe\", \"run_properties\": {\"run_id\": \"AutoML_bc759f61-36cf-48ec-9771-9cda172112fe\", \"created_utc\": \"2021-01-08T10:57:28.465957Z\", \"properties\": {\"num_iterations\": \"10\", \"training_type\": \"TrainFull\", \"acquisition_function\": \"EI\", \"primary_metric\": \"AUC_weighted\", \"train_split\": \"0\", \"acquisition_parameter\": \"0\", \"num_cross_validation\": \"3\", \"target\": \"local\", \"AMLSettingsJsonString\": \"{\\\"path\\\":null,\\\"name\\\":\\\"Lab2-AutoML\\\",\\\"subscription_id\\\":\\\"70b8f39e-8863-49f7-b6ba-34a80799550c\\\",\\\"resource_group\\\":\\\"AMLworkshop-rg\\\",\\\"workspace_name\\\":\\\"AMLworkshop\\\",\\\"region\\\":\\\"westeurope\\\",\\\"compute_target\\\":\\\"local\\\",\\\"spark_service\\\":null,\\\"azure_service\\\":\\\"Microsoft.AzureNotebookVM\\\",\\\"many_models\\\":false,\\\"pipeline_fetch_max_batch_size\\\":1,\\\"iterations\\\":10,\\\"primary_metric\\\":\\\"AUC_weighted\\\",\\\"task_type\\\":\\\"classification\\\",\\\"data_script\\\":null,\\\"validation_size\\\":0.0,\\\"n_cross_validations\\\":3,\\\"y_min\\\":null,\\\"y_max\\\":null,\\\"num_classes\\\":10,\\\"featurization\\\":\\\"auto\\\",\\\"_ignore_package_version_incompatibilities\\\":false,\\\"is_timeseries\\\":false,\\\"max_cores_per_iteration\\\":1,\\\"max_concurrent_iterations\\\":1,\\\"iteration_timeout_minutes\\\":2,\\\"mem_in_mb\\\":null,\\\"enforce_time_on_windows\\\":false,\\\"experiment_timeout_minutes\\\":15,\\\"experiment_exit_score\\\":null,\\\"whitelist_models\\\":null,\\\"blacklist_algos\\\":[\\\"TensorFlowLinearClassifier\\\",\\\"TensorFlowDNN\\\"],\\\"supported_models\\\":[\\\"LogisticRegression\\\",\\\"TensorFlowDNN\\\",\\\"BernoulliNaiveBayes\\\",\\\"KNN\\\",\\\"AveragedPerceptronClassifier\\\",\\\"LinearSVM\\\",\\\"TensorFlowLinearClassifier\\\",\\\"LightGBM\\\",\\\"SVM\\\",\\\"DecisionTree\\\",\\\"ExtremeRandomTrees\\\",\\\"MultinomialNaiveBayes\\\",\\\"XGBoostClassifier\\\",\\\"RandomForest\\\",\\\"GradientBoosting\\\",\\\"SGD\\\"],\\\"auto_blacklist\\\":true,\\\"blacklist_samples_reached\\\":false,\\\"exclude_nan_labels\\\":true,\\\"verbosity\\\":20,\\\"_debug_log\\\":\\\"lab2automl.log\\\",\\\"show_warnings\\\":false,\\\"model_explainability\\\":true,\\\"service_url\\\":null,\\\"sdk_url\\\":null,\\\"sdk_packages\\\":null,\\\"enable_onnx_compatible_models\\\":false,\\\"enable_split_onnx_featurizer_estimator_models\\\":false,\\\"vm_type\\\":null,\\\"telemetry_verbosity\\\":20,\\\"send_telemetry\\\":true,\\\"enable_dnn\\\":false,\\\"scenario\\\":\\\"SDK-1.13.0\\\",\\\"environment_label\\\":null,\\\"force_text_dnn\\\":false,\\\"enable_feature_sweeping\\\":true,\\\"enable_early_stopping\\\":true,\\\"early_stopping_n_iters\\\":10,\\\"metrics\\\":null,\\\"enable_ensembling\\\":false,\\\"enable_stack_ensembling\\\":false,\\\"ensemble_iterations\\\":10,\\\"enable_tf\\\":false,\\\"enable_subsampling\\\":false,\\\"subsample_seed\\\":null,\\\"enable_nimbusml\\\":false,\\\"enable_streaming\\\":false,\\\"force_streaming\\\":false,\\\"track_child_runs\\\":true,\\\"allowed_private_models\\\":[],\\\"label_column_name\\\":null,\\\"weight_column_name\\\":null,\\\"cv_split_column_names\\\":null,\\\"enable_local_managed\\\":false,\\\"_local_managed_run_id\\\":null,\\\"cost_mode\\\":1,\\\"lag_length\\\":0,\\\"metric_operation\\\":\\\"maximize\\\",\\\"preprocess\\\":true}\", \"DataPrepJsonString\": null, \"EnableSubsampling\": \"False\", \"runTemplate\": \"AutoML\", \"azureml.runsource\": \"automl\", \"display_task_type\": \"classification\", \"dependencies_versions\": \"{\\\"azureml-widgets\\\": \\\"1.19.0\\\", \\\"azureml-train\\\": \\\"1.19.0\\\", \\\"azureml-train-restclients-hyperdrive\\\": \\\"1.19.0\\\", \\\"azureml-train-core\\\": \\\"1.19.0\\\", \\\"azureml-train-automl\\\": \\\"1.19.0\\\", \\\"azureml-train-automl-runtime\\\": \\\"1.19.0\\\", \\\"azureml-train-automl-client\\\": \\\"1.19.0\\\", \\\"azureml-tensorboard\\\": \\\"1.19.0\\\", \\\"azureml-telemetry\\\": \\\"1.19.0\\\", \\\"azureml-sdk\\\": \\\"1.19.0\\\", \\\"azureml-samples\\\": \\\"0+unknown\\\", \\\"azureml-pipeline\\\": \\\"1.19.0\\\", \\\"azureml-pipeline-steps\\\": \\\"1.19.0\\\", \\\"azureml-pipeline-core\\\": \\\"1.19.0\\\", \\\"azureml-opendatasets\\\": \\\"1.19.0\\\", \\\"azureml-model-management-sdk\\\": \\\"1.0.1b6.post1\\\", \\\"azureml-mlflow\\\": \\\"1.19.0\\\", \\\"azureml-interpret\\\": \\\"1.19.0\\\", \\\"azureml-explain-model\\\": \\\"1.19.0\\\", \\\"azureml-defaults\\\": \\\"1.19.0\\\", \\\"azureml-dataset-runtime\\\": \\\"1.19.0\\\", \\\"azureml-dataprep\\\": \\\"2.6.1\\\", \\\"azureml-dataprep-rslex\\\": \\\"1.4.0\\\", \\\"azureml-dataprep-native\\\": \\\"26.0.0\\\", \\\"azureml-datadrift\\\": \\\"1.19.0\\\", \\\"azureml-core\\\": \\\"1.19.0\\\", \\\"azureml-contrib-services\\\": \\\"1.19.0\\\", \\\"azureml-contrib-server\\\": \\\"1.19.0\\\", \\\"azureml-contrib-reinforcementlearning\\\": \\\"1.19.0\\\", \\\"azureml-contrib-pipeline-steps\\\": \\\"1.19.0\\\", \\\"azureml-contrib-notebook\\\": \\\"1.19.0\\\", \\\"azureml-contrib-interpret\\\": \\\"1.19.0\\\", \\\"azureml-contrib-gbdt\\\": \\\"1.19.0\\\", \\\"azureml-contrib-fairness\\\": \\\"1.19.0\\\", \\\"azureml-contrib-dataset\\\": \\\"1.19.0\\\", \\\"azureml-cli-common\\\": \\\"1.19.0\\\", \\\"azureml-automl-runtime\\\": \\\"1.19.0\\\", \\\"azureml-automl-core\\\": \\\"1.19.0\\\", \\\"azureml-accel-models\\\": \\\"1.19.0\\\"}\", \"_aml_system_scenario_identification\": \"Local.Parent\", \"ClientSdkVersion\": \"1.19.0\", \"ClientType\": \"SDK\", \"environment_cpu_name\": \"AzureML-AutoML\", \"environment_cpu_label\": \"prod\", \"environment_gpu_name\": \"AzureML-AutoML-GPU\", \"environment_gpu_label\": \"prod\", \"root_attribution\": \"automl\", \"attribution\": \"AutoML\", \"Orchestrator\": \"AutoML\", \"_azureml.ComputeTargetType\": \"local\", \"ProblemInfoJsonString\": \"{\\\"dataset_num_categorical\\\": 0, \\\"is_sparse\\\": false, \\\"subsampling\\\": false, \\\"dataset_classes\\\": 10, \\\"dataset_features\\\": 61, \\\"dataset_samples\\\": 1697, \\\"single_frequency_class_detected\\\": false}\", \"feature_skus\": \"automatedml_sdk_guardrails\"}, \"tags\": {\"model_explain_run\": \"best_run\", \"best_score\": \"0.9992232627057098\", \"best_pipeline\": \"LightGBM\", \"automl_best_child_run_id\": \"AutoML_bc759f61-36cf-48ec-9771-9cda172112fe_0\", \"model_explain_best_run_child_id\": \"AutoML_bc759f61-36cf-48ec-9771-9cda172112fe_0\"}, \"end_time_utc\": \"2021-01-08T11:03:06.104845Z\", \"status\": \"Completed\", \"log_files\": {}, \"log_groups\": [], \"run_duration\": \"0:05:37\"}, \"child_runs\": [{\"run_id\": \"AutoML_bc759f61-36cf-48ec-9771-9cda172112fe_0\", \"run_number\": 167, \"metric\": null, \"status\": \"Completed\", \"run_type\": null, \"training_percent\": \"100\", \"start_time\": \"2021-01-08T10:57:47.998299Z\", \"end_time\": \"2021-01-08T10:58:26.357551Z\", \"created_time\": \"2021-01-08T10:57:47.873144Z\", \"created_time_dt\": \"2021-01-08T10:57:47.873144Z\", \"duration\": \"0:00:38\", \"iteration\": \"0\", \"goal\": \"AUC_weighted_max\", \"run_name\": \"MaxAbsScaler, LightGBM\", \"run_properties\": \"copy=True\", \"primary_metric\": 0.99922326, \"best_metric\": 0.99922326}, {\"run_id\": \"AutoML_bc759f61-36cf-48ec-9771-9cda172112fe_1\", \"run_number\": 168, \"metric\": null, \"status\": \"Completed\", \"run_type\": null, \"training_percent\": \"100\", \"start_time\": \"2021-01-08T10:58:26.746617Z\", \"end_time\": \"2021-01-08T10:59:01.959892Z\", \"created_time\": \"2021-01-08T10:58:26.61598Z\", \"created_time_dt\": \"2021-01-08T10:58:26.61598Z\", \"duration\": \"0:00:35\", \"iteration\": \"1\", \"goal\": \"AUC_weighted_max\", \"run_name\": \"MaxAbsScaler, XGBoostClassifier\", \"run_properties\": \"copy=True\", \"primary_metric\": 0.9991182, \"best_metric\": 0.99922326}, {\"run_id\": \"AutoML_bc759f61-36cf-48ec-9771-9cda172112fe_2\", \"run_number\": 169, \"metric\": null, \"status\": \"Completed\", \"run_type\": null, \"training_percent\": \"100\", \"start_time\": \"2021-01-08T10:59:03.021268Z\", \"end_time\": \"2021-01-08T10:59:29.893928Z\", \"created_time\": \"2021-01-08T10:59:02.893167Z\", \"created_time_dt\": \"2021-01-08T10:59:02.893167Z\", \"duration\": \"0:00:27\", \"iteration\": \"2\", \"goal\": \"AUC_weighted_max\", \"run_name\": \"MinMaxScaler, RandomForest\", \"run_properties\": \"copy=True, feature_range=(0, 1\", \"primary_metric\": 0.98673773, \"best_metric\": 0.99922326}, {\"run_id\": \"AutoML_bc759f61-36cf-48ec-9771-9cda172112fe_3\", \"run_number\": 170, \"metric\": null, \"status\": \"Completed\", \"run_type\": null, \"training_percent\": \"100\", \"start_time\": \"2021-01-08T10:59:31.897143Z\", \"end_time\": \"2021-01-08T10:59:59.700333Z\", \"created_time\": \"2021-01-08T10:59:31.64851Z\", \"created_time_dt\": \"2021-01-08T10:59:31.64851Z\", \"duration\": \"0:00:28\", \"iteration\": \"3\", \"goal\": \"AUC_weighted_max\", \"run_name\": \"RobustScaler, ExtremeRandomTrees\", \"run_properties\": \"copy=True, quantile_range=[10, 90], with_centering=False,\\n             with_scaling=False\", \"primary_metric\": 0.99315917, \"best_metric\": 0.99922326}, {\"run_id\": \"AutoML_bc759f61-36cf-48ec-9771-9cda172112fe_4\", \"run_number\": 171, \"metric\": null, \"status\": \"Completed\", \"run_type\": null, \"training_percent\": \"100\", \"start_time\": \"2021-01-08T11:00:01.378243Z\", \"end_time\": \"2021-01-08T11:00:33.107981Z\", \"created_time\": \"2021-01-08T11:00:01.160878Z\", \"created_time_dt\": \"2021-01-08T11:00:01.160878Z\", \"duration\": \"0:00:31\", \"iteration\": \"4\", \"goal\": \"AUC_weighted_max\", \"run_name\": \"MinMaxScaler, RandomForest\", \"run_properties\": \"copy=True, feature_range=(0, 1\", \"primary_metric\": 0.99583687, \"best_metric\": 0.99922326}, {\"run_id\": \"AutoML_bc759f61-36cf-48ec-9771-9cda172112fe_5\", \"run_number\": 172, \"metric\": null, \"status\": \"Completed\", \"run_type\": null, \"training_percent\": \"100\", \"start_time\": \"2021-01-08T11:00:35.068993Z\", \"end_time\": \"2021-01-08T11:01:07.222112Z\", \"created_time\": \"2021-01-08T11:00:34.788248Z\", \"created_time_dt\": \"2021-01-08T11:00:34.788248Z\", \"duration\": \"0:00:32\", \"iteration\": \"5\", \"goal\": \"AUC_weighted_max\", \"run_name\": \"MinMaxScaler, RandomForest\", \"run_properties\": \"copy=True, feature_range=(0, 1\", \"primary_metric\": 0.97922047, \"best_metric\": 0.99922326}, {\"run_id\": \"AutoML_bc759f61-36cf-48ec-9771-9cda172112fe_6\", \"run_number\": 173, \"metric\": null, \"status\": \"Completed\", \"run_type\": null, \"training_percent\": \"100\", \"start_time\": \"2021-01-08T11:01:09.362156Z\", \"end_time\": \"2021-01-08T11:01:36.947034Z\", \"created_time\": \"2021-01-08T11:01:09.051884Z\", \"created_time_dt\": \"2021-01-08T11:01:09.051884Z\", \"duration\": \"0:00:27\", \"iteration\": \"6\", \"goal\": \"AUC_weighted_max\", \"run_name\": \"StandardScalerWrapper, RandomForest\", \"run_properties\": \"<azureml.automl.runtime.shared.model_wrappers.StandardScalerWrapper object at 0x7f57c66c2ef0\", \"primary_metric\": 0.99463038, \"best_metric\": 0.99922326}, {\"run_id\": \"AutoML_bc759f61-36cf-48ec-9771-9cda172112fe_7\", \"run_number\": 174, \"metric\": null, \"status\": \"Completed\", \"run_type\": null, \"training_percent\": \"100\", \"start_time\": \"2021-01-08T11:01:38.537613Z\", \"end_time\": \"2021-01-08T11:02:06.000137Z\", \"created_time\": \"2021-01-08T11:01:38.30573Z\", \"created_time_dt\": \"2021-01-08T11:01:38.30573Z\", \"duration\": \"0:00:27\", \"iteration\": \"7\", \"goal\": \"AUC_weighted_max\", \"run_name\": \"MinMaxScaler, ExtremeRandomTrees\", \"run_properties\": \"copy=True, feature_range=(0, 1\", \"primary_metric\": 0.96729113, \"best_metric\": 0.99922326}, {\"run_id\": \"AutoML_bc759f61-36cf-48ec-9771-9cda172112fe_8\", \"run_number\": 175, \"metric\": null, \"status\": \"Completed\", \"run_type\": null, \"training_percent\": \"100\", \"start_time\": \"2021-01-08T11:02:07.399824Z\", \"end_time\": \"2021-01-08T11:02:34.456268Z\", \"created_time\": \"2021-01-08T11:02:07.268043Z\", \"created_time_dt\": \"2021-01-08T11:02:07.268043Z\", \"duration\": \"0:00:27\", \"iteration\": \"8\", \"goal\": \"AUC_weighted_max\", \"run_name\": \"MinMaxScaler, ExtremeRandomTrees\", \"run_properties\": \"copy=True, feature_range=(0, 1\", \"primary_metric\": 0.99187502, \"best_metric\": 0.99922326}, {\"run_id\": \"AutoML_bc759f61-36cf-48ec-9771-9cda172112fe_9\", \"run_number\": 176, \"metric\": null, \"status\": \"Completed\", \"run_type\": null, \"training_percent\": \"100\", \"start_time\": \"2021-01-08T11:02:35.966837Z\", \"end_time\": \"2021-01-08T11:03:04.420103Z\", \"created_time\": \"2021-01-08T11:02:35.825423Z\", \"created_time_dt\": \"2021-01-08T11:02:35.825423Z\", \"duration\": \"0:00:28\", \"iteration\": \"9\", \"goal\": \"AUC_weighted_max\", \"run_name\": \"SparseNormalizer, KNN\", \"run_properties\": \"<azureml.automl.runtime.shared.model_wrappers.SparseNormalizer object at 0x7f57bfef7a90\", \"primary_metric\": 0.99878915, \"best_metric\": 0.99922326}], \"children_metrics\": {\"categories\": [0], \"series\": {\"f1_score_macro\": [{\"categories\": [\"0\", \"1\", \"2\", \"3\", \"4\", \"5\", \"6\", \"7\", \"8\", \"9\"], \"mode\": \"markers\", \"name\": \"f1_score_macro\", \"stepped\": false, \"type\": \"scatter\", \"data\": [0.9637713219500038, 0.9601237907470578, 0.8776440421841142, 0.9108196537740677, 0.9340140850883235, 0.8302867005120129, 0.9192410642460983, 0.7292904496814877, 0.9071961618478573, 0.9765113048184569]}, {\"categories\": [\"0\", \"1\", \"2\", \"3\", \"4\", \"5\", \"6\", \"7\", \"8\", \"9\"], \"mode\": \"lines\", \"name\": \"f1_score_macro_max\", \"stepped\": true, \"type\": \"scatter\", \"data\": [0.9637713219500038, 0.9637713219500038, 0.9637713219500038, 0.9637713219500038, 0.9637713219500038, 0.9637713219500038, 0.9637713219500038, 0.9637713219500038, 0.9637713219500038, 0.9765113048184569]}], \"recall_score_macro\": [{\"categories\": [\"0\", \"1\", \"2\", \"3\", \"4\", \"5\", \"6\", \"7\", \"8\", \"9\"], \"mode\": \"markers\", \"name\": \"recall_score_macro\", \"stepped\": false, \"type\": \"scatter\", \"data\": [0.9638945273842144, 0.9604471867525435, 0.8796135700620904, 0.913388087554171, 0.9332766259706897, 0.83419613200165, 0.9189992240290294, 0.7563558800399898, 0.9095748398125444, 0.9765318418479417]}, {\"categories\": [\"0\", \"1\", \"2\", \"3\", \"4\", \"5\", \"6\", \"7\", \"8\", \"9\"], \"mode\": \"lines\", \"name\": \"recall_score_macro_max\", \"stepped\": true, \"type\": \"scatter\", \"data\": [0.9638945273842144, 0.9638945273842144, 0.9638945273842144, 0.9638945273842144, 0.9638945273842144, 0.9638945273842144, 0.9638945273842144, 0.9638945273842144, 0.9638945273842144, 0.9765318418479417]}], \"log_loss\": [{\"categories\": [\"0\", \"1\", \"2\", \"3\", \"4\", \"5\", \"6\", \"7\", \"8\", \"9\"], \"mode\": \"markers\", \"name\": \"log_loss\", \"stepped\": false, \"type\": \"scatter\", \"data\": [0.1093035671548132, 0.13670245688169938, 0.8292770782840604, 1.0704018458997453, 0.6513452244431771, 0.9753959388463729, 0.5543222162288275, 1.1474341473482932, 0.8031697748471841, 0.13080955824101553]}, {\"categories\": [\"0\", \"1\", \"2\", \"3\", \"4\", \"5\", \"6\", \"7\", \"8\", \"9\"], \"mode\": \"lines\", \"name\": \"log_loss_min\", \"stepped\": true, \"type\": \"scatter\", \"data\": [0.1093035671548132, 0.1093035671548132, 0.1093035671548132, 0.1093035671548132, 0.1093035671548132, 0.1093035671548132, 0.1093035671548132, 0.1093035671548132, 0.1093035671548132, 0.1093035671548132]}], \"matthews_correlation\": [{\"categories\": [\"0\", \"1\", \"2\", \"3\", \"4\", \"5\", \"6\", \"7\", \"8\", \"9\"], \"mode\": \"markers\", \"name\": \"matthews_correlation\", \"stepped\": false, \"type\": \"scatter\", \"data\": [0.9595071235212332, 0.9555443548033541, 0.8654112171557236, 0.9028748601792681, 0.9267376225480056, 0.8153061753374504, 0.9103959784197674, 0.7281490837347709, 0.8983167406580231, 0.9738812207548334]}, {\"categories\": [\"0\", \"1\", \"2\", \"3\", \"4\", \"5\", \"6\", \"7\", \"8\", \"9\"], \"mode\": \"lines\", \"name\": \"matthews_correlation_max\", \"stepped\": true, \"type\": \"scatter\", \"data\": [0.9595071235212332, 0.9595071235212332, 0.9595071235212332, 0.9595071235212332, 0.9595071235212332, 0.9595071235212332, 0.9595071235212332, 0.9595071235212332, 0.9595071235212332, 0.9738812207548334]}], \"average_precision_score_macro\": [{\"categories\": [\"0\", \"1\", \"2\", \"3\", \"4\", \"5\", \"6\", \"7\", \"8\", \"9\"], \"mode\": \"markers\", \"name\": \"average_precision_score_macro\", \"stepped\": false, \"type\": \"scatter\", \"data\": [0.9951102111612494, 0.9937982425335946, 0.9329446926994746, 0.9637810115346603, 0.9749453022393398, 0.8991495071540507, 0.969103578160358, 0.8518251924586281, 0.9563770836200006, 0.995564069379688]}, {\"categories\": [\"0\", \"1\", \"2\", \"3\", \"4\", \"5\", \"6\", \"7\", \"8\", \"9\"], \"mode\": \"lines\", \"name\": \"average_precision_score_macro_max\", \"stepped\": true, \"type\": \"scatter\", \"data\": [0.9951102111612494, 0.9951102111612494, 0.9951102111612494, 0.9951102111612494, 0.9951102111612494, 0.9951102111612494, 0.9951102111612494, 0.9951102111612494, 0.9951102111612494, 0.995564069379688]}], \"balanced_accuracy\": [{\"categories\": [\"0\", \"1\", \"2\", \"3\", \"4\", \"5\", \"6\", \"7\", \"8\", \"9\"], \"mode\": \"markers\", \"name\": \"balanced_accuracy\", \"stepped\": false, \"type\": \"scatter\", \"data\": [0.9638945273842144, 0.9604471867525435, 0.8796135700620904, 0.913388087554171, 0.9332766259706897, 0.83419613200165, 0.9189992240290294, 0.7563558800399898, 0.9095748398125444, 0.9765318418479417]}, {\"categories\": [\"0\", \"1\", \"2\", \"3\", \"4\", \"5\", \"6\", \"7\", \"8\", \"9\"], \"mode\": \"lines\", \"name\": \"balanced_accuracy_max\", \"stepped\": true, \"type\": \"scatter\", \"data\": [0.9638945273842144, 0.9638945273842144, 0.9638945273842144, 0.9638945273842144, 0.9638945273842144, 0.9638945273842144, 0.9638945273842144, 0.9638945273842144, 0.9638945273842144, 0.9765318418479417]}], \"AUC_macro\": [{\"categories\": [\"0\", \"1\", \"2\", \"3\", \"4\", \"5\", \"6\", \"7\", \"8\", \"9\"], \"mode\": \"markers\", \"name\": \"AUC_macro\", \"stepped\": false, \"type\": \"scatter\", \"data\": [0.999257421548165, 0.9991388712394089, 0.9866644646240252, 0.9930827908437753, 0.9958326292059801, 0.9789948598218602, 0.9946391722871594, 0.9681899626566054, 0.9917962576081845, 0.9987800647434616]}, {\"categories\": [\"0\", \"1\", \"2\", \"3\", \"4\", \"5\", \"6\", \"7\", \"8\", \"9\"], \"mode\": \"lines\", \"name\": \"AUC_macro_max\", \"stepped\": true, \"type\": \"scatter\", \"data\": [0.999257421548165, 0.999257421548165, 0.999257421548165, 0.999257421548165, 0.999257421548165, 0.999257421548165, 0.999257421548165, 0.999257421548165, 0.999257421548165, 0.999257421548165]}], \"average_precision_score_weighted\": [{\"categories\": [\"0\", \"1\", \"2\", \"3\", \"4\", \"5\", \"6\", \"7\", \"8\", \"9\"], \"mode\": \"markers\", \"name\": \"average_precision_score_weighted\", \"stepped\": false, \"type\": \"scatter\", \"data\": [0.9950538625206349, 0.9938056358428021, 0.9331173822417371, 0.9645774312233004, 0.9749987567042421, 0.8997083092709014, 0.9693474758350744, 0.8506229970460435, 0.956851870957253, 0.9953844750890024]}, {\"categories\": [\"0\", \"1\", \"2\", \"3\", \"4\", \"5\", \"6\", \"7\", \"8\", \"9\"], \"mode\": \"lines\", \"name\": \"average_precision_score_weighted_max\", \"stepped\": true, \"type\": \"scatter\", \"data\": [0.9950538625206349, 0.9950538625206349, 0.9950538625206349, 0.9950538625206349, 0.9950538625206349, 0.9950538625206349, 0.9950538625206349, 0.9950538625206349, 0.9950538625206349, 0.9953844750890024]}], \"weighted_accuracy\": [{\"categories\": [\"0\", \"1\", \"2\", \"3\", \"4\", \"5\", \"6\", \"7\", \"8\", \"9\"], \"mode\": \"markers\", \"name\": \"weighted_accuracy\", \"stepped\": false, \"type\": \"scatter\", \"data\": [0.9630376609490333, 0.9593411933806587, 0.8775617178696122, 0.9108500036538048, 0.9345710040773142, 0.8318983867707789, 0.9195101645755986, 0.7447456743425277, 0.906426848372953, 0.9763056824264252]}, {\"categories\": [\"0\", \"1\", \"2\", \"3\", \"4\", \"5\", \"6\", \"7\", \"8\", \"9\"], \"mode\": \"lines\", \"name\": \"weighted_accuracy_max\", \"stepped\": true, \"type\": \"scatter\", \"data\": [0.9630376609490333, 0.9630376609490333, 0.9630376609490333, 0.9630376609490333, 0.9630376609490333, 0.9630376609490333, 0.9630376609490333, 0.9630376609490333, 0.9630376609490333, 0.9763056824264252]}], \"AUC_micro\": [{\"categories\": [\"0\", \"1\", \"2\", \"3\", \"4\", \"5\", \"6\", \"7\", \"8\", \"9\"], \"mode\": \"markers\", \"name\": \"AUC_micro\", \"stepped\": false, \"type\": \"scatter\", \"data\": [0.9991622813208654, 0.9990786193101999, 0.9876005650808639, 0.9930688267637834, 0.9964339027211176, 0.9805395978324346, 0.9951287010505744, 0.9659975094743366, 0.9926601982247613, 0.9988294627447435]}, {\"categories\": [\"0\", \"1\", \"2\", \"3\", \"4\", \"5\", \"6\", \"7\", \"8\", \"9\"], \"mode\": \"lines\", \"name\": \"AUC_micro_max\", \"stepped\": true, \"type\": \"scatter\", \"data\": [0.9991622813208654, 0.9991622813208654, 0.9991622813208654, 0.9991622813208654, 0.9991622813208654, 0.9991622813208654, 0.9991622813208654, 0.9991622813208654, 0.9991622813208654, 0.9991622813208654]}], \"average_precision_score_micro\": [{\"categories\": [\"0\", \"1\", \"2\", \"3\", \"4\", \"5\", \"6\", \"7\", \"8\", \"9\"], \"mode\": \"markers\", \"name\": \"average_precision_score_micro\", \"stepped\": false, \"type\": \"scatter\", \"data\": [0.9946247673749976, 0.9935518011063862, 0.9353966906169555, 0.9619529615740959, 0.9781516927042745, 0.904535366911055, 0.972536708375528, 0.8345663161620301, 0.9595459408910526, 0.9954036948214928]}, {\"categories\": [\"0\", \"1\", \"2\", \"3\", \"4\", \"5\", \"6\", \"7\", \"8\", \"9\"], \"mode\": \"lines\", \"name\": \"average_precision_score_micro_max\", \"stepped\": true, \"type\": \"scatter\", \"data\": [0.9946247673749976, 0.9946247673749976, 0.9946247673749976, 0.9946247673749976, 0.9946247673749976, 0.9946247673749976, 0.9946247673749976, 0.9946247673749976, 0.9946247673749976, 0.9954036948214928]}], \"precision_score_micro\": [{\"categories\": [\"0\", \"1\", \"2\", \"3\", \"4\", \"5\", \"6\", \"7\", \"8\", \"9\"], \"mode\": \"markers\", \"name\": \"precision_score_micro\", \"stepped\": false, \"type\": \"scatter\", \"data\": [0.9634729040933112, 0.9599362081365896, 0.8786067940419233, 0.9121913338962027, 0.9340004377872978, 0.8332280559116919, 0.9192761916674485, 0.7507520560367742, 0.9080823874000646, 0.9764272387087359]}, {\"categories\": [\"0\", \"1\", \"2\", \"3\", \"4\", \"5\", \"6\", \"7\", \"8\", \"9\"], \"mode\": \"lines\", \"name\": \"precision_score_micro_max\", \"stepped\": true, \"type\": \"scatter\", \"data\": [0.9634729040933112, 0.9634729040933112, 0.9634729040933112, 0.9634729040933112, 0.9634729040933112, 0.9634729040933112, 0.9634729040933112, 0.9634729040933112, 0.9634729040933112, 0.9764272387087359]}], \"AUC_weighted\": [{\"categories\": [\"0\", \"1\", \"2\", \"3\", \"4\", \"5\", \"6\", \"7\", \"8\", \"9\"], \"mode\": \"markers\", \"name\": \"AUC_weighted\", \"stepped\": false, \"type\": \"scatter\", \"data\": [0.9992232627057098, 0.9991182004498782, 0.986737731789979, 0.9931591723837432, 0.995836871697688, 0.9792204733810075, 0.9946303758340949, 0.9672911348963135, 0.991875016818265, 0.998789154707417]}, {\"categories\": [\"0\", \"1\", \"2\", \"3\", \"4\", \"5\", \"6\", \"7\", \"8\", \"9\"], \"mode\": \"lines\", \"name\": \"AUC_weighted_max\", \"stepped\": true, \"type\": \"scatter\", \"data\": [0.9992232627057098, 0.9992232627057098, 0.9992232627057098, 0.9992232627057098, 0.9992232627057098, 0.9992232627057098, 0.9992232627057098, 0.9992232627057098, 0.9992232627057098, 0.9992232627057098]}], \"recall_score_micro\": [{\"categories\": [\"0\", \"1\", \"2\", \"3\", \"4\", \"5\", \"6\", \"7\", \"8\", \"9\"], \"mode\": \"markers\", \"name\": \"recall_score_micro\", \"stepped\": false, \"type\": \"scatter\", \"data\": [0.9634729040933112, 0.9599362081365896, 0.8786067940419233, 0.9121913338962027, 0.9340004377872978, 0.8332280559116919, 0.9192761916674485, 0.7507520560367742, 0.9080823874000646, 0.9764272387087359]}, {\"categories\": [\"0\", \"1\", \"2\", \"3\", \"4\", \"5\", \"6\", \"7\", \"8\", \"9\"], \"mode\": \"lines\", \"name\": \"recall_score_micro_max\", \"stepped\": true, \"type\": \"scatter\", \"data\": [0.9634729040933112, 0.9634729040933112, 0.9634729040933112, 0.9634729040933112, 0.9634729040933112, 0.9634729040933112, 0.9634729040933112, 0.9634729040933112, 0.9634729040933112, 0.9764272387087359]}], \"precision_score_weighted\": [{\"categories\": [\"0\", \"1\", \"2\", \"3\", \"4\", \"5\", \"6\", \"7\", \"8\", \"9\"], \"mode\": \"markers\", \"name\": \"precision_score_weighted\", \"stepped\": false, \"type\": \"scatter\", \"data\": [0.9649433854625161, 0.9612874594459099, 0.879831999046106, 0.9149891634523687, 0.9356039620583854, 0.8360534756095684, 0.9214891488413038, 0.7364734064908371, 0.9101431460018491, 0.9770939284791004]}, {\"categories\": [\"0\", \"1\", \"2\", \"3\", \"4\", \"5\", \"6\", \"7\", \"8\", \"9\"], \"mode\": \"lines\", \"name\": \"precision_score_weighted_max\", \"stepped\": true, \"type\": \"scatter\", \"data\": [0.9649433854625161, 0.9649433854625161, 0.9649433854625161, 0.9649433854625161, 0.9649433854625161, 0.9649433854625161, 0.9649433854625161, 0.9649433854625161, 0.9649433854625161, 0.9770939284791004]}], \"recall_score_weighted\": [{\"categories\": [\"0\", \"1\", \"2\", \"3\", \"4\", \"5\", \"6\", \"7\", \"8\", \"9\"], \"mode\": \"markers\", \"name\": \"recall_score_weighted\", \"stepped\": false, \"type\": \"scatter\", \"data\": [0.9634729040933112, 0.9599362081365896, 0.8786067940419233, 0.9121913338962027, 0.9340004377872978, 0.8332280559116919, 0.9192761916674485, 0.7507520560367742, 0.9080823874000646, 0.9764272387087359]}, {\"categories\": [\"0\", \"1\", \"2\", \"3\", \"4\", \"5\", \"6\", \"7\", \"8\", \"9\"], \"mode\": \"lines\", \"name\": \"recall_score_weighted_max\", \"stepped\": true, \"type\": \"scatter\", \"data\": [0.9634729040933112, 0.9634729040933112, 0.9634729040933112, 0.9634729040933112, 0.9634729040933112, 0.9634729040933112, 0.9634729040933112, 0.9634729040933112, 0.9634729040933112, 0.9764272387087359]}], \"f1_score_micro\": [{\"categories\": [\"0\", \"1\", \"2\", \"3\", \"4\", \"5\", \"6\", \"7\", \"8\", \"9\"], \"mode\": \"markers\", \"name\": \"f1_score_micro\", \"stepped\": false, \"type\": \"scatter\", \"data\": [0.9634729040933112, 0.9599362081365896, 0.8786067940419233, 0.9121913338962028, 0.9340004377872978, 0.8332280559116921, 0.9192761916674485, 0.7507520560367742, 0.9080823874000646, 0.9764272387087359]}, {\"categories\": [\"0\", \"1\", \"2\", \"3\", \"4\", \"5\", \"6\", \"7\", \"8\", \"9\"], \"mode\": \"lines\", \"name\": \"f1_score_micro_max\", \"stepped\": true, \"type\": \"scatter\", \"data\": [0.9634729040933112, 0.9634729040933112, 0.9634729040933112, 0.9634729040933112, 0.9634729040933112, 0.9634729040933112, 0.9634729040933112, 0.9634729040933112, 0.9634729040933112, 0.9764272387087359]}], \"f1_score_weighted\": [{\"categories\": [\"0\", \"1\", \"2\", \"3\", \"4\", \"5\", \"6\", \"7\", \"8\", \"9\"], \"mode\": \"markers\", \"name\": \"f1_score_weighted\", \"stepped\": false, \"type\": \"scatter\", \"data\": [0.9635664378952847, 0.9601079055173886, 0.877290324887453, 0.911031463352983, 0.9340057456506607, 0.8308451397773355, 0.9194334502788933, 0.7271273922779519, 0.9064337541568862, 0.976304497644771]}, {\"categories\": [\"0\", \"1\", \"2\", \"3\", \"4\", \"5\", \"6\", \"7\", \"8\", \"9\"], \"mode\": \"lines\", \"name\": \"f1_score_weighted_max\", \"stepped\": true, \"type\": \"scatter\", \"data\": [0.9635664378952847, 0.9635664378952847, 0.9635664378952847, 0.9635664378952847, 0.9635664378952847, 0.9635664378952847, 0.9635664378952847, 0.9635664378952847, 0.9635664378952847, 0.976304497644771]}], \"accuracy\": [{\"categories\": [\"0\", \"1\", \"2\", \"3\", \"4\", \"5\", \"6\", \"7\", \"8\", \"9\"], \"mode\": \"markers\", \"name\": \"accuracy\", \"stepped\": false, \"type\": \"scatter\", \"data\": [0.9634729040933112, 0.9599362081365896, 0.8786067940419233, 0.9121913338962027, 0.9340004377872978, 0.8332280559116919, 0.9192761916674485, 0.7507520560367742, 0.9080823874000646, 0.9764272387087359]}, {\"categories\": [\"0\", \"1\", \"2\", \"3\", \"4\", \"5\", \"6\", \"7\", \"8\", \"9\"], \"mode\": \"lines\", \"name\": \"accuracy_max\", \"stepped\": true, \"type\": \"scatter\", \"data\": [0.9634729040933112, 0.9634729040933112, 0.9634729040933112, 0.9634729040933112, 0.9634729040933112, 0.9634729040933112, 0.9634729040933112, 0.9634729040933112, 0.9634729040933112, 0.9764272387087359]}], \"norm_macro_recall\": [{\"categories\": [\"0\", \"1\", \"2\", \"3\", \"4\", \"5\", \"6\", \"7\", \"8\", \"9\"], \"mode\": \"markers\", \"name\": \"norm_macro_recall\", \"stepped\": false, \"type\": \"scatter\", \"data\": [0.9598828082046827, 0.9560524297250482, 0.8662373000689892, 0.9037645417268568, 0.9258629177452106, 0.8157734800018334, 0.9099991378100327, 0.7292843111555442, 0.8995275997917158, 0.9739242687199353]}, {\"categories\": [\"0\", \"1\", \"2\", \"3\", \"4\", \"5\", \"6\", \"7\", \"8\", \"9\"], \"mode\": \"lines\", \"name\": \"norm_macro_recall_max\", \"stepped\": true, \"type\": \"scatter\", \"data\": [0.9598828082046827, 0.9598828082046827, 0.9598828082046827, 0.9598828082046827, 0.9598828082046827, 0.9598828082046827, 0.9598828082046827, 0.9598828082046827, 0.9598828082046827, 0.9739242687199353]}], \"precision_score_macro\": [{\"categories\": [\"0\", \"1\", \"2\", \"3\", \"4\", \"5\", \"6\", \"7\", \"8\", \"9\"], \"mode\": \"markers\", \"name\": \"precision_score_macro\", \"stepped\": false, \"type\": \"scatter\", \"data\": [0.9648948032024224, 0.9608145165552378, 0.8792968376449731, 0.9132557567757619, 0.9364140083426044, 0.833931250098613, 0.9214164882090458, 0.734627505960682, 0.9097352373590454, 0.9773800108534303]}, {\"categories\": [\"0\", \"1\", \"2\", \"3\", \"4\", \"5\", \"6\", \"7\", \"8\", \"9\"], \"mode\": \"lines\", \"name\": \"precision_score_macro_max\", \"stepped\": true, \"type\": \"scatter\", \"data\": [0.9648948032024224, 0.9648948032024224, 0.9648948032024224, 0.9648948032024224, 0.9648948032024224, 0.9648948032024224, 0.9648948032024224, 0.9648948032024224, 0.9648948032024224, 0.9773800108534303]}]}, \"metricName\": null, \"primaryMetricName\": \"AUC_weighted\", \"showLegend\": false}, \"run_metrics\": [{\"name\": \"precision_score_macro\", \"run_id\": \"AutoML_bc759f61-36cf-48ec-9771-9cda172112fe\", \"categories\": [0], \"series\": [{\"data\": [0.9648948032024224]}]}, {\"name\": \"f1_score_weighted\", \"run_id\": \"AutoML_bc759f61-36cf-48ec-9771-9cda172112fe\", \"categories\": [0], \"series\": [{\"data\": [0.9635664378952847]}]}, {\"name\": \"average_precision_score_macro\", \"run_id\": \"AutoML_bc759f61-36cf-48ec-9771-9cda172112fe\", \"categories\": [0], \"series\": [{\"data\": [0.9951102111612494]}]}, {\"name\": \"recall_score_micro\", \"run_id\": \"AutoML_bc759f61-36cf-48ec-9771-9cda172112fe\", \"categories\": [0], \"series\": [{\"data\": [0.9634729040933112]}]}, {\"name\": \"weighted_accuracy\", \"run_id\": \"AutoML_bc759f61-36cf-48ec-9771-9cda172112fe\", \"categories\": [0], \"series\": [{\"data\": [0.9630376609490333]}]}, {\"name\": \"f1_score_macro\", \"run_id\": \"AutoML_bc759f61-36cf-48ec-9771-9cda172112fe\", \"categories\": [0], \"series\": [{\"data\": [0.9637713219500038]}]}, {\"name\": \"recall_score_macro\", \"run_id\": \"AutoML_bc759f61-36cf-48ec-9771-9cda172112fe\", \"categories\": [0], \"series\": [{\"data\": [0.9638945273842144]}]}, {\"name\": \"matthews_correlation\", \"run_id\": \"AutoML_bc759f61-36cf-48ec-9771-9cda172112fe\", \"categories\": [0], \"series\": [{\"data\": [0.9595071235212332]}]}, {\"name\": \"precision_score_micro\", \"run_id\": \"AutoML_bc759f61-36cf-48ec-9771-9cda172112fe\", \"categories\": [0], \"series\": [{\"data\": [0.9634729040933112]}]}, {\"name\": \"norm_macro_recall\", \"run_id\": \"AutoML_bc759f61-36cf-48ec-9771-9cda172112fe\", \"categories\": [0], \"series\": [{\"data\": [0.9598828082046827]}]}, {\"name\": \"log_loss\", \"run_id\": \"AutoML_bc759f61-36cf-48ec-9771-9cda172112fe\", \"categories\": [0], \"series\": [{\"data\": [0.1093035671548132]}]}, {\"name\": \"average_precision_score_weighted\", \"run_id\": \"AutoML_bc759f61-36cf-48ec-9771-9cda172112fe\", \"categories\": [0], \"series\": [{\"data\": [0.9950538625206349]}]}, {\"name\": \"accuracy\", \"run_id\": \"AutoML_bc759f61-36cf-48ec-9771-9cda172112fe\", \"categories\": [0], \"series\": [{\"data\": [0.9634729040933112]}]}, {\"name\": \"recall_score_weighted\", \"run_id\": \"AutoML_bc759f61-36cf-48ec-9771-9cda172112fe\", \"categories\": [0], \"series\": [{\"data\": [0.9634729040933112]}]}, {\"name\": \"AUC_macro\", \"run_id\": \"AutoML_bc759f61-36cf-48ec-9771-9cda172112fe\", \"categories\": [0], \"series\": [{\"data\": [0.999257421548165]}]}, {\"name\": \"average_precision_score_micro\", \"run_id\": \"AutoML_bc759f61-36cf-48ec-9771-9cda172112fe\", \"categories\": [0], \"series\": [{\"data\": [0.9946247673749976]}]}, {\"name\": \"AUC_weighted\", \"run_id\": \"AutoML_bc759f61-36cf-48ec-9771-9cda172112fe\", \"categories\": [0], \"series\": [{\"data\": [0.9992232627057098]}]}, {\"name\": \"f1_score_micro\", \"run_id\": \"AutoML_bc759f61-36cf-48ec-9771-9cda172112fe\", \"categories\": [0], \"series\": [{\"data\": [0.9634729040933112]}]}, {\"name\": \"balanced_accuracy\", \"run_id\": \"AutoML_bc759f61-36cf-48ec-9771-9cda172112fe\", \"categories\": [0], \"series\": [{\"data\": [0.9638945273842144]}]}, {\"name\": \"precision_score_weighted\", \"run_id\": \"AutoML_bc759f61-36cf-48ec-9771-9cda172112fe\", \"categories\": [0], \"series\": [{\"data\": [0.9649433854625161]}]}, {\"name\": \"AUC_micro\", \"run_id\": \"AutoML_bc759f61-36cf-48ec-9771-9cda172112fe\", \"categories\": [0], \"series\": [{\"data\": [0.9991622813208654]}]}], \"run_logs\": \"\\nRun is completed.\", \"graph\": {}, \"widget_settings\": {\"childWidgetDisplay\": \"popup\", \"send_telemetry\": false, \"log_level\": \"INFO\", \"sdk_version\": \"1.19.0\"}, \"loading\": false}"
     },
     "metadata": {},
     "output_type": "display_data"
    }
   ],
   "source": [
    "from azureml.widgets import RunDetails\n",
    "RunDetails(local_run).show() "
   ]
  },
  {
   "cell_type": "markdown",
   "metadata": {},
   "source": [
    "### 6.3 Metrics for each iteration of the AutoML process"
   ]
  },
  {
   "cell_type": "code",
   "execution_count": 57,
   "metadata": {},
   "outputs": [
    {
     "data": {
      "text/html": [
       "<div>\n",
       "<style scoped>\n",
       "    .dataframe tbody tr th:only-of-type {\n",
       "        vertical-align: middle;\n",
       "    }\n",
       "\n",
       "    .dataframe tbody tr th {\n",
       "        vertical-align: top;\n",
       "    }\n",
       "\n",
       "    .dataframe thead th {\n",
       "        text-align: right;\n",
       "    }\n",
       "</style>\n",
       "<table border=\"1\" class=\"dataframe\">\n",
       "  <thead>\n",
       "    <tr style=\"text-align: right;\">\n",
       "      <th></th>\n",
       "      <th>0</th>\n",
       "      <th>1</th>\n",
       "      <th>2</th>\n",
       "      <th>3</th>\n",
       "      <th>4</th>\n",
       "      <th>5</th>\n",
       "      <th>6</th>\n",
       "      <th>7</th>\n",
       "      <th>8</th>\n",
       "      <th>9</th>\n",
       "    </tr>\n",
       "  </thead>\n",
       "  <tbody>\n",
       "    <tr>\n",
       "      <th>f1_score_macro</th>\n",
       "      <td>0.96</td>\n",
       "      <td>0.96</td>\n",
       "      <td>0.88</td>\n",
       "      <td>0.91</td>\n",
       "      <td>0.93</td>\n",
       "      <td>0.83</td>\n",
       "      <td>0.92</td>\n",
       "      <td>0.73</td>\n",
       "      <td>0.91</td>\n",
       "      <td>0.98</td>\n",
       "    </tr>\n",
       "    <tr>\n",
       "      <th>recall_score_macro</th>\n",
       "      <td>0.96</td>\n",
       "      <td>0.96</td>\n",
       "      <td>0.88</td>\n",
       "      <td>0.91</td>\n",
       "      <td>0.93</td>\n",
       "      <td>0.83</td>\n",
       "      <td>0.92</td>\n",
       "      <td>0.76</td>\n",
       "      <td>0.91</td>\n",
       "      <td>0.98</td>\n",
       "    </tr>\n",
       "    <tr>\n",
       "      <th>log_loss</th>\n",
       "      <td>0.11</td>\n",
       "      <td>0.14</td>\n",
       "      <td>0.83</td>\n",
       "      <td>1.07</td>\n",
       "      <td>0.65</td>\n",
       "      <td>0.98</td>\n",
       "      <td>0.55</td>\n",
       "      <td>1.15</td>\n",
       "      <td>0.80</td>\n",
       "      <td>0.13</td>\n",
       "    </tr>\n",
       "    <tr>\n",
       "      <th>matthews_correlation</th>\n",
       "      <td>0.96</td>\n",
       "      <td>0.96</td>\n",
       "      <td>0.87</td>\n",
       "      <td>0.90</td>\n",
       "      <td>0.93</td>\n",
       "      <td>0.82</td>\n",
       "      <td>0.91</td>\n",
       "      <td>0.73</td>\n",
       "      <td>0.90</td>\n",
       "      <td>0.97</td>\n",
       "    </tr>\n",
       "    <tr>\n",
       "      <th>average_precision_score_macro</th>\n",
       "      <td>1.00</td>\n",
       "      <td>0.99</td>\n",
       "      <td>0.93</td>\n",
       "      <td>0.96</td>\n",
       "      <td>0.97</td>\n",
       "      <td>0.90</td>\n",
       "      <td>0.97</td>\n",
       "      <td>0.85</td>\n",
       "      <td>0.96</td>\n",
       "      <td>1.00</td>\n",
       "    </tr>\n",
       "    <tr>\n",
       "      <th>balanced_accuracy</th>\n",
       "      <td>0.96</td>\n",
       "      <td>0.96</td>\n",
       "      <td>0.88</td>\n",
       "      <td>0.91</td>\n",
       "      <td>0.93</td>\n",
       "      <td>0.83</td>\n",
       "      <td>0.92</td>\n",
       "      <td>0.76</td>\n",
       "      <td>0.91</td>\n",
       "      <td>0.98</td>\n",
       "    </tr>\n",
       "    <tr>\n",
       "      <th>AUC_macro</th>\n",
       "      <td>1.00</td>\n",
       "      <td>1.00</td>\n",
       "      <td>0.99</td>\n",
       "      <td>0.99</td>\n",
       "      <td>1.00</td>\n",
       "      <td>0.98</td>\n",
       "      <td>0.99</td>\n",
       "      <td>0.97</td>\n",
       "      <td>0.99</td>\n",
       "      <td>1.00</td>\n",
       "    </tr>\n",
       "    <tr>\n",
       "      <th>average_precision_score_weighted</th>\n",
       "      <td>1.00</td>\n",
       "      <td>0.99</td>\n",
       "      <td>0.93</td>\n",
       "      <td>0.96</td>\n",
       "      <td>0.97</td>\n",
       "      <td>0.90</td>\n",
       "      <td>0.97</td>\n",
       "      <td>0.85</td>\n",
       "      <td>0.96</td>\n",
       "      <td>1.00</td>\n",
       "    </tr>\n",
       "    <tr>\n",
       "      <th>weighted_accuracy</th>\n",
       "      <td>0.96</td>\n",
       "      <td>0.96</td>\n",
       "      <td>0.88</td>\n",
       "      <td>0.91</td>\n",
       "      <td>0.93</td>\n",
       "      <td>0.83</td>\n",
       "      <td>0.92</td>\n",
       "      <td>0.74</td>\n",
       "      <td>0.91</td>\n",
       "      <td>0.98</td>\n",
       "    </tr>\n",
       "    <tr>\n",
       "      <th>AUC_micro</th>\n",
       "      <td>1.00</td>\n",
       "      <td>1.00</td>\n",
       "      <td>0.99</td>\n",
       "      <td>0.99</td>\n",
       "      <td>1.00</td>\n",
       "      <td>0.98</td>\n",
       "      <td>1.00</td>\n",
       "      <td>0.97</td>\n",
       "      <td>0.99</td>\n",
       "      <td>1.00</td>\n",
       "    </tr>\n",
       "    <tr>\n",
       "      <th>average_precision_score_micro</th>\n",
       "      <td>0.99</td>\n",
       "      <td>0.99</td>\n",
       "      <td>0.94</td>\n",
       "      <td>0.96</td>\n",
       "      <td>0.98</td>\n",
       "      <td>0.90</td>\n",
       "      <td>0.97</td>\n",
       "      <td>0.83</td>\n",
       "      <td>0.96</td>\n",
       "      <td>1.00</td>\n",
       "    </tr>\n",
       "    <tr>\n",
       "      <th>precision_score_micro</th>\n",
       "      <td>0.96</td>\n",
       "      <td>0.96</td>\n",
       "      <td>0.88</td>\n",
       "      <td>0.91</td>\n",
       "      <td>0.93</td>\n",
       "      <td>0.83</td>\n",
       "      <td>0.92</td>\n",
       "      <td>0.75</td>\n",
       "      <td>0.91</td>\n",
       "      <td>0.98</td>\n",
       "    </tr>\n",
       "    <tr>\n",
       "      <th>AUC_weighted</th>\n",
       "      <td>1.00</td>\n",
       "      <td>1.00</td>\n",
       "      <td>0.99</td>\n",
       "      <td>0.99</td>\n",
       "      <td>1.00</td>\n",
       "      <td>0.98</td>\n",
       "      <td>0.99</td>\n",
       "      <td>0.97</td>\n",
       "      <td>0.99</td>\n",
       "      <td>1.00</td>\n",
       "    </tr>\n",
       "    <tr>\n",
       "      <th>recall_score_micro</th>\n",
       "      <td>0.96</td>\n",
       "      <td>0.96</td>\n",
       "      <td>0.88</td>\n",
       "      <td>0.91</td>\n",
       "      <td>0.93</td>\n",
       "      <td>0.83</td>\n",
       "      <td>0.92</td>\n",
       "      <td>0.75</td>\n",
       "      <td>0.91</td>\n",
       "      <td>0.98</td>\n",
       "    </tr>\n",
       "    <tr>\n",
       "      <th>precision_score_weighted</th>\n",
       "      <td>0.96</td>\n",
       "      <td>0.96</td>\n",
       "      <td>0.88</td>\n",
       "      <td>0.91</td>\n",
       "      <td>0.94</td>\n",
       "      <td>0.84</td>\n",
       "      <td>0.92</td>\n",
       "      <td>0.74</td>\n",
       "      <td>0.91</td>\n",
       "      <td>0.98</td>\n",
       "    </tr>\n",
       "    <tr>\n",
       "      <th>recall_score_weighted</th>\n",
       "      <td>0.96</td>\n",
       "      <td>0.96</td>\n",
       "      <td>0.88</td>\n",
       "      <td>0.91</td>\n",
       "      <td>0.93</td>\n",
       "      <td>0.83</td>\n",
       "      <td>0.92</td>\n",
       "      <td>0.75</td>\n",
       "      <td>0.91</td>\n",
       "      <td>0.98</td>\n",
       "    </tr>\n",
       "    <tr>\n",
       "      <th>f1_score_micro</th>\n",
       "      <td>0.96</td>\n",
       "      <td>0.96</td>\n",
       "      <td>0.88</td>\n",
       "      <td>0.91</td>\n",
       "      <td>0.93</td>\n",
       "      <td>0.83</td>\n",
       "      <td>0.92</td>\n",
       "      <td>0.75</td>\n",
       "      <td>0.91</td>\n",
       "      <td>0.98</td>\n",
       "    </tr>\n",
       "    <tr>\n",
       "      <th>f1_score_weighted</th>\n",
       "      <td>0.96</td>\n",
       "      <td>0.96</td>\n",
       "      <td>0.88</td>\n",
       "      <td>0.91</td>\n",
       "      <td>0.93</td>\n",
       "      <td>0.83</td>\n",
       "      <td>0.92</td>\n",
       "      <td>0.73</td>\n",
       "      <td>0.91</td>\n",
       "      <td>0.98</td>\n",
       "    </tr>\n",
       "    <tr>\n",
       "      <th>accuracy</th>\n",
       "      <td>0.96</td>\n",
       "      <td>0.96</td>\n",
       "      <td>0.88</td>\n",
       "      <td>0.91</td>\n",
       "      <td>0.93</td>\n",
       "      <td>0.83</td>\n",
       "      <td>0.92</td>\n",
       "      <td>0.75</td>\n",
       "      <td>0.91</td>\n",
       "      <td>0.98</td>\n",
       "    </tr>\n",
       "    <tr>\n",
       "      <th>norm_macro_recall</th>\n",
       "      <td>0.96</td>\n",
       "      <td>0.96</td>\n",
       "      <td>0.87</td>\n",
       "      <td>0.90</td>\n",
       "      <td>0.93</td>\n",
       "      <td>0.82</td>\n",
       "      <td>0.91</td>\n",
       "      <td>0.73</td>\n",
       "      <td>0.90</td>\n",
       "      <td>0.97</td>\n",
       "    </tr>\n",
       "    <tr>\n",
       "      <th>precision_score_macro</th>\n",
       "      <td>0.96</td>\n",
       "      <td>0.96</td>\n",
       "      <td>0.88</td>\n",
       "      <td>0.91</td>\n",
       "      <td>0.94</td>\n",
       "      <td>0.83</td>\n",
       "      <td>0.92</td>\n",
       "      <td>0.73</td>\n",
       "      <td>0.91</td>\n",
       "      <td>0.98</td>\n",
       "    </tr>\n",
       "  </tbody>\n",
       "</table>\n",
       "</div>"
      ],
      "text/plain": [
       "                                    0    1    2    3    4    5    6    7    8  \\\n",
       "f1_score_macro                   0.96 0.96 0.88 0.91 0.93 0.83 0.92 0.73 0.91   \n",
       "recall_score_macro               0.96 0.96 0.88 0.91 0.93 0.83 0.92 0.76 0.91   \n",
       "log_loss                         0.11 0.14 0.83 1.07 0.65 0.98 0.55 1.15 0.80   \n",
       "matthews_correlation             0.96 0.96 0.87 0.90 0.93 0.82 0.91 0.73 0.90   \n",
       "average_precision_score_macro    1.00 0.99 0.93 0.96 0.97 0.90 0.97 0.85 0.96   \n",
       "balanced_accuracy                0.96 0.96 0.88 0.91 0.93 0.83 0.92 0.76 0.91   \n",
       "AUC_macro                        1.00 1.00 0.99 0.99 1.00 0.98 0.99 0.97 0.99   \n",
       "average_precision_score_weighted 1.00 0.99 0.93 0.96 0.97 0.90 0.97 0.85 0.96   \n",
       "weighted_accuracy                0.96 0.96 0.88 0.91 0.93 0.83 0.92 0.74 0.91   \n",
       "AUC_micro                        1.00 1.00 0.99 0.99 1.00 0.98 1.00 0.97 0.99   \n",
       "average_precision_score_micro    0.99 0.99 0.94 0.96 0.98 0.90 0.97 0.83 0.96   \n",
       "precision_score_micro            0.96 0.96 0.88 0.91 0.93 0.83 0.92 0.75 0.91   \n",
       "AUC_weighted                     1.00 1.00 0.99 0.99 1.00 0.98 0.99 0.97 0.99   \n",
       "recall_score_micro               0.96 0.96 0.88 0.91 0.93 0.83 0.92 0.75 0.91   \n",
       "precision_score_weighted         0.96 0.96 0.88 0.91 0.94 0.84 0.92 0.74 0.91   \n",
       "recall_score_weighted            0.96 0.96 0.88 0.91 0.93 0.83 0.92 0.75 0.91   \n",
       "f1_score_micro                   0.96 0.96 0.88 0.91 0.93 0.83 0.92 0.75 0.91   \n",
       "f1_score_weighted                0.96 0.96 0.88 0.91 0.93 0.83 0.92 0.73 0.91   \n",
       "accuracy                         0.96 0.96 0.88 0.91 0.93 0.83 0.92 0.75 0.91   \n",
       "norm_macro_recall                0.96 0.96 0.87 0.90 0.93 0.82 0.91 0.73 0.90   \n",
       "precision_score_macro            0.96 0.96 0.88 0.91 0.94 0.83 0.92 0.73 0.91   \n",
       "\n",
       "                                    9  \n",
       "f1_score_macro                   0.98  \n",
       "recall_score_macro               0.98  \n",
       "log_loss                         0.13  \n",
       "matthews_correlation             0.97  \n",
       "average_precision_score_macro    1.00  \n",
       "balanced_accuracy                0.98  \n",
       "AUC_macro                        1.00  \n",
       "average_precision_score_weighted 1.00  \n",
       "weighted_accuracy                0.98  \n",
       "AUC_micro                        1.00  \n",
       "average_precision_score_micro    1.00  \n",
       "precision_score_micro            0.98  \n",
       "AUC_weighted                     1.00  \n",
       "recall_score_micro               0.98  \n",
       "precision_score_weighted         0.98  \n",
       "recall_score_weighted            0.98  \n",
       "f1_score_micro                   0.98  \n",
       "f1_score_weighted                0.98  \n",
       "accuracy                         0.98  \n",
       "norm_macro_recall                0.97  \n",
       "precision_score_macro            0.98  "
      ]
     },
     "execution_count": 57,
     "metadata": {},
     "output_type": "execute_result"
    }
   ],
   "source": [
    "children = list(local_run.get_children())\n",
    "metricslist = {}\n",
    "for run in children:\n",
    "    properties = run.get_properties()\n",
    "    metrics = {k: v for k, v in run.get_metrics().items() if isinstance(v, float)}\n",
    "    metricslist[int(properties['iteration'])] = metrics\n",
    "\n",
    "rundata = pd.DataFrame(metricslist).sort_index(1)\n",
    "rundata"
   ]
  },
  {
   "cell_type": "markdown",
   "metadata": {},
   "source": [
    "## 7. We want to retrieve the best model"
   ]
  },
  {
   "cell_type": "code",
   "execution_count": 58,
   "metadata": {},
   "outputs": [
    {
     "name": "stdout",
     "output_type": "stream",
     "text": [
      "Best AutoML run = Run(Experiment: Lab2-AutoML,\n",
      "Id: AutoML_bc759f61-36cf-48ec-9771-9cda172112fe_0,\n",
      "Type: None,\n",
      "Status: Completed)\n"
     ]
    }
   ],
   "source": [
    "best_run, fitted_model = local_run.get_output()\n",
    "print(\"Best AutoML run =\", best_run)"
   ]
  },
  {
   "cell_type": "code",
   "execution_count": 59,
   "metadata": {},
   "outputs": [
    {
     "data": {
      "text/html": [
       "[('datatransformer', DataTransformer(enable_dnn=None, enable_feature_sweeping=None,\n",
       "                feature_sweeping_config=None, feature_sweeping_timeout=None,\n",
       "                featurization_config=None, force_text_dnn=None,\n",
       "                is_cross_validation=None, is_onnx_compatible=None, logger=None,\n",
       "                observer=None, task=None, working_dir=None)), ('MaxAbsScaler', MaxAbsScaler(copy=True)), ('LightGBMClassifier', LightGBMClassifier(boosting_type='gbdt', class_weight=None,\n",
       "                   colsample_bytree=1.0, importance_type='split',\n",
       "                   learning_rate=0.1, max_depth=-1, min_child_samples=20,\n",
       "                   min_child_weight=0.001, min_split_gain=0.0, n_estimators=100,\n",
       "                   n_jobs=1, num_leaves=31, objective=None, random_state=None,\n",
       "                   reg_alpha=0.0, reg_lambda=0.0, silent=True, subsample=1.0,\n",
       "                   subsample_for_bin=200000, subsample_freq=0, verbose=-10))]"
      ],
      "text/plain": [
       "[('datatransformer',\n",
       "  DataTransformer(enable_dnn=None, enable_feature_sweeping=None,\n",
       "                  feature_sweeping_config=None, feature_sweeping_timeout=None,\n",
       "                  featurization_config=None, force_text_dnn=None,\n",
       "                  is_cross_validation=None, is_onnx_compatible=None, logger=None,\n",
       "                  observer=None, task=None, working_dir=None)),\n",
       " ('MaxAbsScaler', MaxAbsScaler(copy=True)),\n",
       " ('LightGBMClassifier',\n",
       "  LightGBMClassifier(boosting_type='gbdt', class_weight=None,\n",
       "                     colsample_bytree=1.0, importance_type='split',\n",
       "                     learning_rate=0.1, max_depth=-1, min_child_samples=20,\n",
       "                     min_child_weight=0.001, min_split_gain=0.0, n_estimators=100,\n",
       "                     n_jobs=1, num_leaves=31, objective=None, random_state=None,\n",
       "                     reg_alpha=0.0, reg_lambda=0.0, silent=True, subsample=1.0,\n",
       "                     subsample_for_bin=200000, subsample_freq=0, verbose=-10))]"
      ]
     },
     "execution_count": 59,
     "metadata": {},
     "output_type": "execute_result"
    }
   ],
   "source": [
    "fitted_model.steps"
   ]
  },
  {
   "cell_type": "code",
   "execution_count": 60,
   "metadata": {},
   "outputs": [
    {
     "name": "stdout",
     "output_type": "stream",
     "text": [
      "Pipeline(memory=None,\n",
      "         steps=[('datatransformer',\n",
      "                 DataTransformer(enable_dnn=None, enable_feature_sweeping=None,\n",
      "                                 feature_sweeping_config=None,\n",
      "                                 feature_sweeping_timeout=None,\n",
      "                                 featurization_config=None, force_text_dnn=None,\n",
      "                                 is_cross_validation=None,\n",
      "                                 is_onnx_compatible=None, logger=None,\n",
      "                                 observer=None, task=None, working_dir=None)),\n",
      "                ('MaxAbsScaler', MaxAbsScaler(copy...\n",
      "                 LightGBMClassifier(boosting_type='gbdt', class_weight=None,\n",
      "                                    colsample_bytree=1.0,\n",
      "                                    importance_type='split', learning_rate=0.1,\n",
      "                                    max_depth=-1, min_child_samples=20,\n",
      "                                    min_child_weight=0.001, min_split_gain=0.0,\n",
      "                                    n_estimators=100, n_jobs=1, num_leaves=31,\n",
      "                                    objective=None, random_state=None,\n",
      "                                    reg_alpha=0.0, reg_lambda=0.0, silent=True,\n",
      "                                    subsample=1.0, subsample_for_bin=200000,\n",
      "                                    subsample_freq=0, verbose=-10))],\n",
      "         verbose=False)\n"
     ]
    }
   ],
   "source": [
    "print(fitted_model)"
   ]
  },
  {
   "cell_type": "code",
   "execution_count": 61,
   "metadata": {},
   "outputs": [
    {
     "data": {
      "text/plain": [
       "<bound method Pipeline.get_params of Pipeline(memory=None,\n",
       "         steps=[('datatransformer',\n",
       "                 DataTransformer(enable_dnn=None, enable_feature_sweeping=None,\n",
       "                                 feature_sweeping_config=None,\n",
       "                                 feature_sweeping_timeout=None,\n",
       "                                 featurization_config=None, force_text_dnn=None,\n",
       "                                 is_cross_validation=None,\n",
       "                                 is_onnx_compatible=None, logger=None,\n",
       "                                 observer=None, task=None, working_dir=None)),\n",
       "                ('MaxAbsScaler', MaxAbsScaler(copy...\n",
       "                 LightGBMClassifier(boosting_type='gbdt', class_weight=None,\n",
       "                                    colsample_bytree=1.0,\n",
       "                                    importance_type='split', learning_rate=0.1,\n",
       "                                    max_depth=-1, min_child_samples=20,\n",
       "                                    min_child_weight=0.001, min_split_gain=0.0,\n",
       "                                    n_estimators=100, n_jobs=1, num_leaves=31,\n",
       "                                    objective=None, random_state=None,\n",
       "                                    reg_alpha=0.0, reg_lambda=0.0, silent=True,\n",
       "                                    subsample=1.0, subsample_for_bin=200000,\n",
       "                                    subsample_freq=0, verbose=-10))],\n",
       "         verbose=False)>"
      ]
     },
     "execution_count": 61,
     "metadata": {},
     "output_type": "execute_result"
    }
   ],
   "source": [
    "fitted_model.get_params"
   ]
  },
  {
   "cell_type": "code",
   "execution_count": 62,
   "metadata": {},
   "outputs": [
    {
     "name": "stdout",
     "output_type": "stream",
     "text": [
      "Metrics of the best model:\n",
      "\n",
      "- f1_score_macro = 0.9637713219500038\n",
      "- recall_score_macro = 0.9638945273842144\n",
      "- log_loss = 0.1093035671548132\n",
      "- matthews_correlation = 0.9595071235212332\n",
      "- average_precision_score_macro = 0.9951102111612494\n",
      "- balanced_accuracy = 0.9638945273842144\n",
      "- AUC_macro = 0.999257421548165\n",
      "- average_precision_score_weighted = 0.9950538625206349\n",
      "- weighted_accuracy = 0.9630376609490333\n",
      "- AUC_micro = 0.9991622813208654\n",
      "- average_precision_score_micro = 0.9946247673749976\n",
      "- precision_score_micro = 0.9634729040933112\n",
      "- AUC_weighted = 0.9992232627057098\n",
      "- recall_score_micro = 0.9634729040933112\n",
      "- precision_score_weighted = 0.9649433854625161\n",
      "- recall_score_weighted = 0.9634729040933112\n",
      "- f1_score_micro = 0.9634729040933112\n",
      "- f1_score_weighted = 0.9635664378952847\n",
      "- accuracy = 0.9634729040933112\n",
      "- norm_macro_recall = 0.9598828082046827\n",
      "- precision_score_macro = 0.9648948032024224\n",
      "- accuracy_table = aml://artifactId/ExperimentRun/dcid.AutoML_bc759f61-36cf-48ec-9771-9cda172112fe_0/accuracy_table\n",
      "- confusion_matrix = aml://artifactId/ExperimentRun/dcid.AutoML_bc759f61-36cf-48ec-9771-9cda172112fe_0/confusion_matrix\n"
     ]
    }
   ],
   "source": [
    "print(\"Metrics of the best model:\")\n",
    "print()\n",
    "best_run_metrics = best_run.get_metrics()\n",
    "for metric_name in best_run_metrics:\n",
    "    metric = best_run_metrics[metric_name]\n",
    "    print('-', metric_name, '=', metric)"
   ]
  },
  {
   "cell_type": "markdown",
   "metadata": {},
   "source": [
    "### 7.1 You can change the metric. Let's use now the F1 Score for example."
   ]
  },
  {
   "cell_type": "code",
   "execution_count": 63,
   "metadata": {},
   "outputs": [
    {
     "name": "stdout",
     "output_type": "stream",
     "text": [
      "Best model :\n",
      "\n",
      "Best Run = Run(Experiment: Lab2-AutoML,\n",
      "Id: AutoML_bc759f61-36cf-48ec-9771-9cda172112fe_9,\n",
      "Type: None,\n",
      "Status: Completed)\n",
      "\n",
      "Pipeline(memory=None,\n",
      "         steps=[('datatransformer',\n",
      "                 DataTransformer(enable_dnn=None, enable_feature_sweeping=None,\n",
      "                                 feature_sweeping_config=None,\n",
      "                                 feature_sweeping_timeout=None,\n",
      "                                 featurization_config=None, force_text_dnn=None,\n",
      "                                 is_cross_validation=None,\n",
      "                                 is_onnx_compatible=None, logger=None,\n",
      "                                 observer=None, task=None, working_dir=None)),\n",
      "                ('SparseNormalizer',\n",
      "                 <azureml.automl.runtime.shared.model_wrappers.SparseNormalizer object at 0x7f57d86297b8>),\n",
      "                ('KNeighborsClassifier',\n",
      "                 KNeighborsClassifier(algorithm='auto', leaf_size=30,\n",
      "                                      metric='l1', metric_params=None, n_jobs=1,\n",
      "                                      n_neighbors=9, p=2,\n",
      "                                      weights='distance'))],\n",
      "         verbose=False)\n"
     ]
    }
   ],
   "source": [
    "lookup_metric = \"f1_score_weighted\"\n",
    "best_run, fitted_model = local_run.get_output(metric = lookup_metric)\n",
    "print(\"Best model :\")\n",
    "print()\n",
    "print('Best Run =', best_run)\n",
    "print()\n",
    "print(fitted_model)"
   ]
  },
  {
   "cell_type": "markdown",
   "metadata": {},
   "source": [
    "### We can take as well a specific iteration:"
   ]
  },
  {
   "cell_type": "code",
   "execution_count": 64,
   "metadata": {},
   "outputs": [
    {
     "name": "stdout",
     "output_type": "stream",
     "text": [
      "Model 3  iteration :\n",
      "Run(Experiment: Lab2-AutoML,\n",
      "Id: AutoML_bc759f61-36cf-48ec-9771-9cda172112fe_3,\n",
      "Type: None,\n",
      "Status: Completed)\n",
      "\n",
      "Pipeline(memory=None,\n",
      "         steps=[('datatransformer',\n",
      "                 DataTransformer(enable_dnn=None, enable_feature_sweeping=None,\n",
      "                                 feature_sweeping_config=None,\n",
      "                                 feature_sweeping_timeout=None,\n",
      "                                 featurization_config=None, force_text_dnn=None,\n",
      "                                 is_cross_validation=None,\n",
      "                                 is_onnx_compatible=None, logger=None,\n",
      "                                 observer=None, task=None, working_dir=None)),\n",
      "                ('RobustScaler',\n",
      "                 RobustScaler(copy...\n",
      "                                      class_weight=None, criterion='entropy',\n",
      "                                      max_depth=None, max_features='log2',\n",
      "                                      max_leaf_nodes=None, max_samples=None,\n",
      "                                      min_impurity_decrease=0.0,\n",
      "                                      min_impurity_split=None,\n",
      "                                      min_samples_leaf=0.01,\n",
      "                                      min_samples_split=0.10368421052631578,\n",
      "                                      min_weight_fraction_leaf=0.0,\n",
      "                                      n_estimators=50, n_jobs=1,\n",
      "                                      oob_score=False, random_state=None,\n",
      "                                      verbose=0, warm_start=False))],\n",
      "         verbose=False)\n"
     ]
    }
   ],
   "source": [
    "iteration = 3\n",
    "\n",
    "my_run, my_model = local_run.get_output(iteration = iteration)\n",
    "print(\"Model\",iteration,\" iteration :\")\n",
    "print(my_run)\n",
    "print()\n",
    "print(my_model)"
   ]
  },
  {
   "cell_type": "markdown",
   "metadata": {},
   "source": [
    "## 8. Testing the model\n",
    "\n",
    "### 8.1 Loading some test images"
   ]
  },
  {
   "cell_type": "code",
   "execution_count": 65,
   "metadata": {},
   "outputs": [],
   "source": [
    "digits = datasets.load_digits()\n",
    "X_test = digits.data[:10, :]\n",
    "y_test = digits.target[:10]\n",
    "images = digits.images[:10]"
   ]
  },
  {
   "cell_type": "markdown",
   "metadata": {},
   "source": [
    "### 8.2 Test\n",
    "We will try to predict 2 digits and see how our model works."
   ]
  },
  {
   "cell_type": "code",
   "execution_count": 66,
   "metadata": {},
   "outputs": [
    {
     "name": "stdout",
     "output_type": "stream",
     "text": [
      "4\n"
     ]
    },
    {
     "data": {
      "image/png": "[encoded data removed]",
      "text/plain": [
       "<Figure size 216x216 with 1 Axes>"
      ]
     },
     "metadata": {
      "needs_background": "light"
     },
     "output_type": "display_data"
    },
    {
     "name": "stdout",
     "output_type": "stream",
     "text": [
      "0\n"
     ]
    },
    {
     "data": {
      "image/png": "[encoded data removed]",
      "text/plain": [
       "<Figure size 216x216 with 1 Axes>"
      ]
     },
     "metadata": {
      "needs_background": "light"
     },
     "output_type": "display_data"
    }
   ],
   "source": [
    "# Randomly select digits and test.\n",
    "for index in np.random.choice(len(y_test), 2, replace = False):\n",
    "    print(index)\n",
    "    predicted = fitted_model.predict(X_test[index:index + 1])[0]\n",
    "    label = y_test[index]\n",
    "    title = \"Label = %d  Esimation = %d \" % (label, predicted)\n",
    "    fig = plt.figure(1, figsize = (3,3))\n",
    "    ax1 = fig.add_axes((0,0,.8,.8))\n",
    "    ax1.set_title(title)\n",
    "    plt.imshow(images[index], cmap = plt.cm.gray_r, interpolation = 'nearest')\n",
    "    plt.show()"
   ]
  },
  {
   "cell_type": "markdown",
   "metadata": {},
   "source": [
    "## 9. Let's save the best model into the Azure ML models repository"
   ]
  },
  {
   "cell_type": "code",
   "execution_count": 67,
   "metadata": {},
   "outputs": [
    {
     "name": "stdout",
     "output_type": "stream",
     "text": [
      "Run(Experiment: Lab2-AutoML,\n",
      "Id: AutoML_bc759f61-36cf-48ec-9771-9cda172112fe_0,\n",
      "Type: None,\n",
      "Status: Completed)\n",
      "\n",
      "Pipeline(memory=None,\n",
      "         steps=[('datatransformer',\n",
      "                 DataTransformer(enable_dnn=None, enable_feature_sweeping=None,\n",
      "                                 feature_sweeping_config=None,\n",
      "                                 feature_sweeping_timeout=None,\n",
      "                                 featurization_config=None, force_text_dnn=None,\n",
      "                                 is_cross_validation=None,\n",
      "                                 is_onnx_compatible=None, logger=None,\n",
      "                                 observer=None, task=None, working_dir=None)),\n",
      "                ('MaxAbsScaler', MaxAbsScaler(copy...\n",
      "                 LightGBMClassifier(boosting_type='gbdt', class_weight=None,\n",
      "                                    colsample_bytree=1.0,\n",
      "                                    importance_type='split', learning_rate=0.1,\n",
      "                                    max_depth=-1, min_child_samples=20,\n",
      "                                    min_child_weight=0.001, min_split_gain=0.0,\n",
      "                                    n_estimators=100, n_jobs=1, num_leaves=31,\n",
      "                                    objective=None, random_state=None,\n",
      "                                    reg_alpha=0.0, reg_lambda=0.0, silent=True,\n",
      "                                    subsample=1.0, subsample_for_bin=200000,\n",
      "                                    subsample_freq=0, verbose=-10))],\n",
      "         verbose=False)\n",
      "\n",
      "Metrics:\n",
      "f1_score_macro = 0.9637713219500038\n",
      "recall_score_macro = 0.9638945273842144\n",
      "log_loss = 0.1093035671548132\n",
      "matthews_correlation = 0.9595071235212332\n",
      "average_precision_score_macro = 0.9951102111612494\n",
      "balanced_accuracy = 0.9638945273842144\n",
      "AUC_macro = 0.999257421548165\n",
      "average_precision_score_weighted = 0.9950538625206349\n",
      "weighted_accuracy = 0.9630376609490333\n",
      "AUC_micro = 0.9991622813208654\n",
      "average_precision_score_micro = 0.9946247673749976\n",
      "precision_score_micro = 0.9634729040933112\n",
      "AUC_weighted = 0.9992232627057098\n",
      "recall_score_micro = 0.9634729040933112\n",
      "precision_score_weighted = 0.9649433854625161\n",
      "recall_score_weighted = 0.9634729040933112\n",
      "f1_score_micro = 0.9634729040933112\n",
      "f1_score_weighted = 0.9635664378952847\n",
      "accuracy = 0.9634729040933112\n",
      "norm_macro_recall = 0.9598828082046827\n",
      "precision_score_macro = 0.9648948032024224\n",
      "accuracy_table = aml://artifactId/ExperimentRun/dcid.AutoML_bc759f61-36cf-48ec-9771-9cda172112fe_0/accuracy_table\n",
      "confusion_matrix = aml://artifactId/ExperimentRun/dcid.AutoML_bc759f61-36cf-48ec-9771-9cda172112fe_0/confusion_matrix\n"
     ]
    }
   ],
   "source": [
    "best_run, fitted_model = local_run.get_output()\n",
    "print(best_run)\n",
    "print()\n",
    "print(fitted_model)\n",
    "print()\n",
    "print(\"Metrics:\")\n",
    "best_run_metrics = best_run.get_metrics()\n",
    "for metric_name in best_run_metrics:\n",
    "    metric = best_run_metrics[metric_name]\n",
    "    print(metric_name, '=', metric)"
   ]
  },
  {
   "cell_type": "code",
   "execution_count": 68,
   "metadata": {},
   "outputs": [
    {
     "name": "stdout",
     "output_type": "stream",
     "text": [
      "datatransformer\n",
      "MaxAbsScaler\n",
      "LightGBMClassifier\n"
     ]
    }
   ],
   "source": [
    "for step in fitted_model.named_steps:\n",
    "    print(step)"
   ]
  },
  {
   "cell_type": "code",
   "execution_count": 69,
   "metadata": {},
   "outputs": [
    {
     "data": {
      "text/plain": [
       "Model(workspace=Workspace.create(name='AMLworkshop', subscription_id='70b8f39e-8863-49f7-b6ba-34a80799550c', resource_group='AMLworkshop-rg'), name=Lab2AutoMLmodel, id=Lab2AutoMLmodel:4, version=4, tags={'Training context': 'Azure Auto ML'}, properties={'AUC': '0.9992232627057098', 'Accuracy': '0.9634729040933112'})"
      ]
     },
     "execution_count": 69,
     "metadata": {},
     "output_type": "execute_result"
    }
   ],
   "source": [
    "from azureml.core import Model\n",
    "\n",
    "best_run.register_model(model_path='outputs/model.pkl', model_name='Lab2AutoMLmodel',\n",
    "                        tags={'Training context':'Azure Auto ML'},\n",
    "                        properties={'AUC': best_run_metrics['AUC_weighted'], \n",
    "                                    'Accuracy': best_run_metrics['accuracy']})"
   ]
  },
  {
   "cell_type": "markdown",
   "metadata": {},
   "source": [
    "> You can see the model in the **Model** section of Azure ML Studio"
   ]
  },
  {
   "cell_type": "code",
   "execution_count": 70,
   "metadata": {},
   "outputs": [
    {
     "data": {
      "text/html": [
       "<table style=\"width:100%\"><tr><th>Name</th><th>Workspace</th><th>Report Page</th><th>Docs Page</th></tr><tr><td>Lab2-AutoML</td><td>AMLworkshop</td><td><a href=\"https://ml.azure.com/experiments/Lab2-AutoML?wsid=/subscriptions/70b8f39e-8863-49f7-b6ba-34a80799550c/resourcegroups/AMLworkshop-rg/workspaces/AMLworkshop\" target=\"_blank\" rel=\"noopener\">Link to Azure Machine Learning studio</a></td><td><a href=\"https://docs.microsoft.com/en-us/python/api/azureml-core/azureml.core.experiment.Experiment?view=azure-ml-py\" target=\"_blank\" rel=\"noopener\">Link to Documentation</a></td></tr></table>"
      ],
      "text/plain": [
       "Experiment(Name: Lab2-AutoML,\n",
       "Workspace: AMLworkshop)"
      ]
     },
     "execution_count": 70,
     "metadata": {},
     "output_type": "execute_result"
    }
   ],
   "source": [
    "experiment"
   ]
  },
  {
   "cell_type": "markdown",
   "metadata": {},
   "source": [
    "### We can have a list of all the models:"
   ]
  },
  {
   "cell_type": "code",
   "execution_count": 71,
   "metadata": {},
   "outputs": [
    {
     "name": "stdout",
     "output_type": "stream",
     "text": [
      "Lab2AutoMLmodel - version = 4\n",
      "\t Training context : Azure Auto ML\n",
      "\t AUC : 0.9992232627057098\n",
      "\t Accuracy : 0.9634729040933112\n",
      "\n",
      "\n",
      "IBM_attrition_explainer - version = 18\n",
      "\n",
      "\n",
      "local_deploy_model - version = 18\n",
      "\n",
      "\n",
      "DiabetesRidge - version = 28\n",
      "\t dataset : Diabetes\n",
      "\t algorithm : Ridge\n",
      "\t k : 0.2\n",
      "\t MSE : 3026.6677\n",
      "\t R2 : 0.4067\n",
      "\t RMSE : 55.0152\n",
      "\t Framework : Azure ML SDK\n",
      "\n",
      "\n",
      "DiabetesRidge - version = 27\n",
      "\t dataset : Diabetes\n",
      "\t algorithm : Ridge\n",
      "\t k : 0.2\n",
      "\t MSE : 3026.6677\n",
      "\t R2 : 0.4067\n",
      "\t RMSE : 55.0152\n",
      "\t Framework : Azure ML SDK\n",
      "\n",
      "\n",
      "TenYearCHD-model - version = 1\n",
      "\t Type : ML Classification\n",
      "\t Framework : Scikit-Learn\n",
      "\t IDE : Jupyter Notebook\n",
      "\t Description : ML model to predict Ten Year CHD\n",
      "\t Run ID : Demo-AzureMachineLearning_1610101689_c166c469\n",
      "\n",
      "\n",
      "monmodeleazure - version = 1\n",
      "\t Type : ML Classification\n",
      "\t Framework : Scikit-Learn\n",
      "\t IDE : Jupyter Notebook\n",
      "\t Description : Azure ML model\n",
      "\t Run ID : Demo-AzureMachineLearning_1610099642_d9824fd1\n",
      "\n",
      "\n",
      "monmodeleaml - version = 5\n",
      "\t Type : ML Classification\n",
      "\t Framework : Scikit-Learn\n",
      "\t IDE : Jupyter Notebook\n",
      "\t Description : Démonstration\n",
      "\t Run ID : Demo-AzureML_1610098450_923262f1\n",
      "\n",
      "\n",
      "diabeteprediction - version = 3\n",
      "\t area : Diabetes\n",
      "\t type : Ridge\n",
      "\t k : 0.2\n",
      "\t MSE : 3026.6677\n",
      "\t R2 : 0.4067\n",
      "\t RMSE : 55.0152\n",
      "\t Framework : Azure ML\n",
      "\n",
      "\n",
      "diabeteprediction - version = 2\n",
      "\t area : Diabetes\n",
      "\t type : Ridge\n",
      "\t k : 0.2\n",
      "\t MSE : 3026.6677\n",
      "\t R2 : 0.4067\n",
      "\t RMSE : 55.0152\n",
      "\t Framework : Azure ML\n",
      "\n",
      "\n",
      "monmodeleaml - version = 4\n",
      "\t type : classification\n",
      "\t framework : scikit\n",
      "\t description : démonstration\n",
      "\t run_id : demoaml_1610016090_f7fa6921\n",
      "\n",
      "\n",
      "TensorFlow-Lab5 - version = 4\n",
      "\t Framework : TensorFlow\n",
      "\t Hyperdrive : Yes\n",
      "\t GPU : Yes\n",
      "\n",
      "\n",
      "Lab2AutoMLmodel - version = 3\n",
      "\t Training context : Azure Auto ML\n",
      "\t AUC : 0.9992232627057098\n",
      "\t Accuracy : 0.9634729040933112\n",
      "\n",
      "\n",
      "mnist-prs - version = 7\n",
      "\t pretrained : mnist\n",
      "\n",
      "\n",
      "sklearn_mnist - version = 22\n",
      "\t data : Mnist\n",
      "\t model : Classification\n",
      "\t source : PKL file\n",
      "\n",
      "\n",
      "DiabetesRidge - version = 26\n",
      "\t dataset : Diabetes\n",
      "\t algorithm : Ridge\n",
      "\t k : 0.2\n",
      "\t MSE : 3026.6677\n",
      "\t R2 : 0.4067\n",
      "\t RMSE : 55.0152\n",
      "\t Framework : Azure ML SDK\n",
      "\n",
      "\n",
      "IBM_attrition_explainer - version = 17\n",
      "\n",
      "\n",
      "local_deploy_model - version = 17\n",
      "\n",
      "\n",
      "diabeteprediction - version = 1\n",
      "\t area : Diabetes\n",
      "\t type : Ridge\n",
      "\t k : 0.2\n",
      "\t MSE : 3026.6677\n",
      "\t R2 : 0.4067\n",
      "\t RMSE : 55.0152\n",
      "\t Framework : Azure ML\n",
      "\n",
      "\n",
      "amlstudio-pricepredictionmodel - version = 1\n",
      "\t CreatedByAMLStudio : true\n",
      "\n",
      "\n",
      "monmodeleaml - version = 3\n",
      "\t type : classification\n",
      "\t framework : scikit\n",
      "\t description : démonstration\n",
      "\t run_id : demoaml_1608632329_150253f0\n",
      "\n",
      "\n",
      "TensorFlow-Lab5 - version = 3\n",
      "\t Framework : TensorFlow\n",
      "\t Hyperdrive : Yes\n",
      "\t GPU : Yes\n",
      "\n",
      "\n",
      "Lab2AutoMLmodel - version = 2\n",
      "\t Training context : Azure Auto ML\n",
      "\t AUC : 0.9992232627057098\n",
      "\t Accuracy : 0.9634729040933112\n",
      "\n",
      "\n",
      "mnist-prs - version = 6\n",
      "\t pretrained : mnist\n",
      "\n",
      "\n",
      "sklearn_mnist - version = 21\n",
      "\t data : Mnist\n",
      "\t model : Classification\n",
      "\t source : PKL file\n",
      "\n",
      "\n",
      "IBM_attrition_explainer - version = 16\n",
      "\n",
      "\n",
      "local_deploy_model - version = 16\n",
      "\n",
      "\n",
      "DiabetesRidge - version = 25\n",
      "\t dataset : Diabetes\n",
      "\t algorithm : Ridge\n",
      "\t k : 0.2\n",
      "\t MSE : 3026.6677\n",
      "\t R2 : 0.4067\n",
      "\t RMSE : 55.0152\n",
      "\t Framework : Azure ML SDK\n",
      "\n",
      "\n",
      "sklearn_regression_model.pkl - version = 3\n",
      "\t area : diabetes\n",
      "\t type : regression\n",
      "\t run_id : devops-ai-demo_1608198790_c918ebdd\n",
      "\n",
      "\n",
      "sklearn_regression_model.pkl - version = 2\n",
      "\t area : diabetes\n",
      "\t type : regression\n",
      "\t run_id : devops-ai-demo_1608197546_b4a2422a\n",
      "\n",
      "\n",
      "sklearn_mnist - version = 20\n",
      "\t data : Mnist\n",
      "\t model : Classification\n",
      "\t source : PKL file\n",
      "\n",
      "\n",
      "sklearn_regression_model.pkl - version = 1\n",
      "\t area : diabetes\n",
      "\t type : regression\n",
      "\t run_id : devops-ai-demo_1608195476_f5a1a2fa\n",
      "\n",
      "\n",
      "TensorFlow-Lab5 - version = 2\n",
      "\t Framework : TensorFlow\n",
      "\t Hyperdrive : Yes\n",
      "\t GPU : Yes\n",
      "\n",
      "\n",
      "DiabetesRidge - version = 24\n",
      "\t dataset : Diabetes\n",
      "\t algorithm : Ridge\n",
      "\t k : 0.2\n",
      "\t MSE : 3026.6677\n",
      "\t R2 : 0.4067\n",
      "\t RMSE : 55.0152\n",
      "\t Framework : Azure ML SDK\n",
      "\n",
      "\n",
      "DiabetesRidge - version = 23\n",
      "\t dataset : Diabetes\n",
      "\t algorithm : Ridge\n",
      "\t k : 0.2\n",
      "\t MSE : 3026.6677\n",
      "\t R2 : 0.4067\n",
      "\t RMSE : 55.0152\n",
      "\t Framework : Azure ML SDK\n",
      "\n",
      "\n",
      "DiabetesRidge - version = 22\n",
      "\t area : Diabetes\n",
      "\t type : Ridge\n",
      "\t k : 0.2\n",
      "\t MSE : 3026.6677\n",
      "\t R2 : 0.4067\n",
      "\t RMSE : 55.0152\n",
      "\t Framework : Azure ML SDK\n",
      "\n",
      "\n",
      "IBM_attrition_explainer - version = 15\n",
      "\n",
      "\n",
      "local_deploy_model - version = 15\n",
      "\n",
      "\n",
      "hrmodel - version = 1\n",
      "\n",
      "\n",
      "Lab2AutoMLmodel - version = 1\n",
      "\t Training context : Azure Auto ML\n",
      "\t AUC : 0.9991940367053402\n",
      "\t Accuracy : 0.9628839759425456\n",
      "\n",
      "\n",
      "TensorFlow-Lab5 - version = 1\n",
      "\t Framework : TensorFlow\n",
      "\t Hyperdrive : Yes\n",
      "\t GPU : Yes\n",
      "\n",
      "\n",
      "TensorFlow - version = 14\n",
      "\t Framework : TensorFlow\n",
      "\t Hyperdrive : Yes\n",
      "\t GPU : Yes\n",
      "\n",
      "\n",
      "IBM_attrition_explainer - version = 14\n",
      "\n",
      "\n",
      "local_deploy_model - version = 14\n",
      "\n",
      "\n",
      "sklearn_mnist - version = 19\n",
      "\t data : Mnist\n",
      "\t model : Classification\n",
      "\t source : PKL file\n",
      "\n",
      "\n",
      "DiabetesRidge - version = 21\n",
      "\t area : Diabetes\n",
      "\t type : Ridge\n",
      "\t k : 0.2\n",
      "\t MSE : 3026.6677\n",
      "\t R2 : 0.4067\n",
      "\t RMSE : 55.0152\n",
      "\t Framework : Azure ML SDK\n",
      "\t context : modiface\n",
      "\n",
      "\n",
      "TensorFlow - version = 13\n",
      "\t Framework : TensorFlow\n",
      "\t Hyperdrive : Yes\n",
      "\t GPU : Yes\n",
      "\n",
      "\n",
      "mybestmodel - version = 12\n",
      "\t Training context : Azure Auto ML\n",
      "\t AUC : 0.9992651620611631\n",
      "\t Accuracy : 0.9640618322440768\n",
      "\n",
      "\n",
      "mnist-prs - version = 5\n",
      "\t pretrained : mnist\n",
      "\n",
      "\n",
      "sklearn_mnist - version = 18\n",
      "\t data : Mnist\n",
      "\t model : Classification\n",
      "\t source : PKL file\n",
      "\n",
      "\n",
      "IBM_attrition_explainer - version = 13\n",
      "\n",
      "\n",
      "local_deploy_model - version = 13\n",
      "\n",
      "\n",
      "DiabetesRidge - version = 20\n",
      "\t area : Diabetes\n",
      "\t type : Ridge\n",
      "\t k : 0.2\n",
      "\t MSE : 3026.6677\n",
      "\t R2 : 0.4067\n",
      "\t RMSE : 55.0152\n",
      "\t Framework : Azure ML SDK\n",
      "\n",
      "\n",
      "TensorFlow - version = 12\n",
      "\t Framework : TensorFlow\n",
      "\t Hyperdrive : Yes\n",
      "\t GPU : Yes\n",
      "\n",
      "\n",
      "mybestmodel - version = 11\n",
      "\t Training context : Azure Auto ML\n",
      "\t AUC : 0.9992595123176834\n",
      "\t Accuracy : 0.9652386461948987\n",
      "\n",
      "\n",
      "mnist-prs - version = 4\n",
      "\t pretrained : mnist\n",
      "\n",
      "\n",
      "sklearn_mnist - version = 17\n",
      "\t data : Mnist\n",
      "\t model : Classification\n",
      "\t source : PKL file\n",
      "\n",
      "\n",
      "DiabetesRidge - version = 19\n",
      "\t area : Diabetes\n",
      "\t type : Ridge\n",
      "\t k : 0.2\n",
      "\t MSE : 3026.6677\n",
      "\t R2 : 0.4067\n",
      "\t RMSE : 55.0152\n",
      "\t Framework : Azure ML SDK\n",
      "\n",
      "\n",
      "IBM_attrition_explainer - version = 12\n",
      "\n",
      "\n",
      "local_deploy_model - version = 12\n",
      "\n",
      "\n",
      "ModeleLCL - version = 1\n",
      "\t area : Diabetes\n",
      "\t type : Ridge\n",
      "\t k : 0.2\n",
      "\t MSE : 3026.6677\n",
      "\t R2 : 0.4067\n",
      "\t RMSE : 55.0152\n",
      "\t Framework : Azure ML SDK\n",
      "\n",
      "\n",
      "DiabetesRidge - version = 18\n",
      "\t area : Diabetes\n",
      "\t type : Ridge\n",
      "\t k : 0.2\n",
      "\t MSE : 3026.6677\n",
      "\t R2 : 0.4067\n",
      "\t RMSE : 55.0152\n",
      "\t Framework : Azure ML SDK\n",
      "\n",
      "\n",
      "TensorFlow - version = 11\n",
      "\t Framework : TensorFlow\n",
      "\t Hyperdrive : Yes\n",
      "\t GPU : Yes\n",
      "\n",
      "\n",
      "mybestmodel - version = 10\n",
      "\t Training context : Azure Auto ML\n",
      "\t AUC : 0.9992812274755843\n",
      "\t Accuracy : 0.9652386461948987\n",
      "\n",
      "\n",
      "monmodeleaml - version = 2\n",
      "\t type : classification\n",
      "\t framework : scikit\n",
      "\t description : démonstration\n",
      "\t run_id : demoaml_1607501759_750e2085\n",
      "\n",
      "\n",
      "sklearn_mnist - version = 16\n",
      "\t data : Mnist\n",
      "\t model : Classification\n",
      "\t source : PKL file\n",
      "\n",
      "\n",
      "DiabetesRidge - version = 17\n",
      "\t area : Diabetes\n",
      "\t type : Ridge\n",
      "\t k : 0.2\n",
      "\t MSE : 3026.6677\n",
      "\t R2 : 0.4067\n",
      "\t RMSE : 55.0152\n",
      "\t Framework : Azure ML SDK\n",
      "\n",
      "\n",
      "IBM_attrition_explainer - version = 11\n",
      "\n",
      "\n",
      "local_deploy_model - version = 11\n",
      "\n",
      "\n",
      "sklearn_mnist - version = 15\n",
      "\t data : Mnist\n",
      "\t model : Classification\n",
      "\t source : PKL file\n",
      "\n",
      "\n",
      "TensorFlow - version = 10\n",
      "\t Framework : TensorFlow\n",
      "\t Hyperdrive : Yes\n",
      "\t GPU : Yes\n",
      "\n",
      "\n",
      "monmodeleaml - version = 1\n",
      "\t type : classification\n",
      "\t framework : scikit\n",
      "\t description : démonstration\n",
      "\t run_id : demoaml_1607426471_534b14b1\n",
      "\n",
      "\n",
      "DiabetesRidge - version = 16\n",
      "\t area : Diabetes\n",
      "\t type : Ridge\n",
      "\t k : 0.2\n",
      "\t MSE : 3026.6677\n",
      "\t R2 : 0.4067\n",
      "\t RMSE : 55.0152\n",
      "\t Framework : Azure ML SDK\n",
      "\n",
      "\n",
      "DiabetesRidge - version = 15\n",
      "\t area : Diabetes\n",
      "\t type : Ridge\n",
      "\t k : 0.2\n",
      "\t MSE : 3026.6677\n",
      "\t R2 : 0.4067\n",
      "\t RMSE : 55.0152\n",
      "\t Framework : Azure ML SDK\n",
      "\n",
      "\n",
      "mnist-prs - version = 3\n",
      "\t pretrained : mnist\n",
      "\n",
      "\n",
      "TensorFlow - version = 9\n",
      "\t Framework : TensorFlow\n",
      "\t Hyperdrive : Yes\n",
      "\t GPU : Yes\n",
      "\n",
      "\n",
      "mybestmodel - version = 9\n",
      "\t Training context : Azure Auto ML\n",
      "\t AUC : 0.9997378926654571\n",
      "\t Accuracy : 0.9799660193668762\n",
      "\n",
      "\n",
      "sklearn_mnist - version = 14\n",
      "\t data : Mnist\n",
      "\t model : Classification\n",
      "\t source : PKL file\n",
      "\n",
      "\n",
      "DiabetesRidge - version = 14\n",
      "\t area : Diabetes\n",
      "\t type : Ridge\n",
      "\t k : 0.2\n",
      "\t MSE : 3026.6677\n",
      "\t R2 : 0.4067\n",
      "\t RMSE : 55.0152\n",
      "\t Framework : Azure ML SDK\n",
      "\n",
      "\n",
      "IBM_attrition_explainer - version = 10\n",
      "\n",
      "\n",
      "local_deploy_model - version = 10\n",
      "\n",
      "\n",
      "sklearn_mnist - version = 13\n",
      "\t data : Mnist\n",
      "\t model : Classification\n",
      "\t source : PKL file\n",
      "\n",
      "\n",
      "sklearn_mnist - version = 12\n",
      "\t data : Mnist\n",
      "\t model : Classification\n",
      "\t source : PKL file\n",
      "\n",
      "\n",
      "amlstudio-priceprediction - version = 1\n",
      "\t CreatedByAMLStudio : true\n",
      "\n",
      "\n",
      "AutoML0f03795b68 - version = 1\n",
      "\n",
      "\n",
      "DiabetesRidge - version = 13\n",
      "\t area : Diabetes\n",
      "\t type : Ridge\n",
      "\t k : 0.2\n",
      "\t MSE : 3026.6677\n",
      "\t R2 : 0.4067\n",
      "\t RMSE : 55.0152\n",
      "\t Databricks : Yes\n",
      "\t Framework : Azure ML SDK from Azure Databricks\n",
      "\n",
      "\n",
      "diabetes - version = 5\n",
      "\t model_uri : runs:/d01620a367fa4301b46f77dbda5c120b/model\n",
      "\t python_version : 3.7.6\n",
      "\n",
      "\n",
      "diabetes - version = 4\n",
      "\t model_uri : runs:/d01620a367fa4301b46f77dbda5c120b/model\n",
      "\t python_version : 3.7.6\n",
      "\n",
      "\n",
      "AutoML6aa32d9468 - version = 1\n",
      "\n",
      "\n",
      "TensorFlow - version = 8\n",
      "\t Framework : TensorFlow\n",
      "\t Hyperdrive : Yes\n",
      "\t GPU : Yes\n",
      "\n",
      "\n",
      "mnist-prs - version = 2\n",
      "\t pretrained : mnist\n",
      "\n",
      "\n",
      "diabetes - version = 3\n",
      "\t model_uri : runs:/56e7033102d444da919dbe0e9d88a80a/model\n",
      "\t python_version : 3.7.6\n",
      "\n",
      "\n",
      "DiabetesRidge - version = 12\n",
      "\t area : Diabetes\n",
      "\t type : Ridge\n",
      "\t k : 0.2\n",
      "\t MSE : 3026.6677\n",
      "\t R2 : 0.4067\n",
      "\t RMSE : 55.0152\n",
      "\t Databricks : Yes\n",
      "\t Framework : Azure ML SDK from Azure Databricks\n",
      "\n",
      "\n",
      "mybestmodel - version = 8\n",
      "\t Training context : Azure Auto ML\n",
      "\t AUC : 0.9997309856594733\n",
      "\t Accuracy : 0.9799660193668762\n",
      "\n",
      "\n",
      "sklearn_mnist - version = 11\n",
      "\t data : Mnist\n",
      "\t model : Classification\n",
      "\t source : PKL file\n",
      "\n",
      "\n",
      "IBM_attrition_explainer - version = 9\n",
      "\n",
      "\n",
      "local_deploy_model - version = 9\n",
      "\n",
      "\n",
      "DiabetesRidge - version = 11\n",
      "\t area : Diabetes\n",
      "\t type : Ridge\n",
      "\t k : 0.2\n",
      "\t MSE : 3026.6677\n",
      "\t R2 : 0.4067\n",
      "\t RMSE : 55.0152\n",
      "\t Framework : Azure ML SDK\n",
      "\n",
      "\n",
      "amlstudio-diabetesdesignermode - version = 1\n",
      "\t CreatedByAMLStudio : true\n",
      "\n",
      "\n",
      "AutoML7851a7fe571 - version = 1\n",
      "\n",
      "\n",
      "mnist-prs - version = 1\n",
      "\t pretrained : mnist\n",
      "\n",
      "\n",
      "DiabetesRidge - version = 10\n",
      "\t area : Diabetes\n",
      "\t type : Ridge\n",
      "\t k : 0.2\n",
      "\t MSE : 3026.6677\n",
      "\t R2 : 0.4067\n",
      "\t RMSE : 55.0152\n",
      "\t Databricks : Yes\n",
      "\t Framework : Azure ML SDK from Azure Databricks\n",
      "\n",
      "\n",
      "DiabetesRidge - version = 9\n",
      "\t area : Diabetes\n",
      "\t type : Ridge\n",
      "\t k : 0.2\n",
      "\t MSE : 3026.6677\n",
      "\t R2 : 0.4067\n",
      "\t RMSE : 55.0152\n",
      "\t Framework : Azure ML SDK from Azure Databricks\n",
      "\n",
      "\n",
      "AutoML082de648913 - version = 2\n",
      "\n",
      "\n",
      "AutoML082de648913 - version = 1\n",
      "\n",
      "\n",
      "IBM_attrition_explainer - version = 8\n",
      "\n",
      "\n",
      "local_deploy_model - version = 8\n",
      "\n",
      "\n",
      "diabetes - version = 2\n",
      "\t model_uri : runs:/1d4995e9a7aa4989a2dea7a8b8a57c72/model\n",
      "\t python_version : 3.7.6\n",
      "\n",
      "\n",
      "diabetes - version = 1\n",
      "\t model_uri : runs:/1d4995e9a7aa4989a2dea7a8b8a57c72/model\n",
      "\t python_version : 3.7.6\n",
      "\n",
      "\n",
      "TensorFlow - version = 7\n",
      "\t Framework : TensorFlow\n",
      "\t Hyperdrive : Yes\n",
      "\t GPU : Yes\n",
      "\n",
      "\n",
      "sklearn_mnist - version = 10\n",
      "\t data : Mnist\n",
      "\t model : Classification\n",
      "\t source : PKL file\n",
      "\n",
      "\n",
      "mybestmodel - version = 7\n",
      "\t Training context : Azure Auto ML\n",
      "\t AUC : 0.9997239870692644\n",
      "\t Accuracy : 0.9805559898683511\n",
      "\n",
      "\n",
      "IBM_attrition_explainer - version = 7\n",
      "\n",
      "\n",
      "local_deploy_model - version = 7\n",
      "\n",
      "\n",
      "DiabetesRidge - version = 8\n",
      "\t area : Diabetes\n",
      "\t type : Ridge\n",
      "\t k : 0.2\n",
      "\t MSE : 3026.6677\n",
      "\t R2 : 0.4067\n",
      "\t RMSE : 55.0152\n",
      "\t Framework : Azure ML SDK\n",
      "\n",
      "\n",
      "TensorFlow - version = 6\n",
      "\t Framework : TensorFlow\n",
      "\t Hyperdrive : Yes\n",
      "\t GPU : Yes\n",
      "\n",
      "\n",
      "sklearn_mnist - version = 9\n",
      "\t data : mnist\n",
      "\t model : classification\n",
      "\t source : pkl file\n",
      "\n",
      "\n",
      "mybestmodel - version = 6\n",
      "\t Training context : Azure Auto ML\n",
      "\t AUC : 0.9997118074788833\n",
      "\t Accuracy : 0.9805580745697697\n",
      "\n",
      "\n",
      "IBM_attrition_explainer - version = 6\n",
      "\n",
      "\n",
      "local_deploy_model - version = 6\n",
      "\n",
      "\n",
      "DiabetesRidge - version = 7\n",
      "\t area : Diabetes\n",
      "\t type : Ridge\n",
      "\t k : 0.2\n",
      "\t MSE : 3026.667734128127\n",
      "\t R2 : 0.4067092393506434\n",
      "\t RMSE : 55.015159130262695\n",
      "\t Framework : Azure ML SDK\n",
      "\n",
      "\n",
      "TensorFlow - version = 5\n",
      "\t Framework : TensorFlow\n",
      "\t Hyperdrive : Yes\n",
      "\t GPU : Yes\n",
      "\n",
      "\n",
      "sklearn_mnist - version = 8\n",
      "\t data : mnist\n",
      "\t model : classification\n",
      "\t source : pkl file\n",
      "\n",
      "\n",
      "IBM_attrition_explainer - version = 5\n",
      "\n",
      "\n",
      "local_deploy_model - version = 5\n",
      "\n",
      "\n",
      "mybestmodel - version = 5\n",
      "\t Training context : Azure Auto ML\n",
      "\t AUC : 0.9997252693782249\n",
      "\t Accuracy : 0.9799660193668762\n",
      "\n",
      "\n",
      "DiabetesRidge - version = 6\n",
      "\t area : Diabetes\n",
      "\t type : Ridge\n",
      "\t k : 0.2\n",
      "\t MSE : 3026.667734128127\n",
      "\t R2 : 0.4067092393506434\n",
      "\t RMSE : 55.015159130262695\n",
      "\t Framework : Azure ML SDK\n",
      "\n",
      "\n",
      "TensorFlow - version = 4\n",
      "\t Framework : TensorFlow\n",
      "\t Hyperdrive : Yes\n",
      "\t GPU : Yes\n",
      "\n",
      "\n",
      "sklearn_mnist - version = 7\n",
      "\t data : mnist\n",
      "\t model : classification\n",
      "\t source : pkl file\n",
      "\n",
      "\n",
      "sklearn_mnist - version = 6\n",
      "\t data : mnist\n",
      "\t model : classification\n",
      "\n",
      "\n",
      "IBM_attrition_explainer - version = 4\n",
      "\n",
      "\n",
      "local_deploy_model - version = 4\n",
      "\n",
      "\n",
      "mybestmodel - version = 4\n",
      "\t Training context : Azure Auto ML\n",
      "\t AUC : 0.9997215892949766\n",
      "\t Accuracy : 0.9793770912161106\n",
      "\n",
      "\n",
      "DiabetesRidge - version = 5\n",
      "\t area : Diabetes\n",
      "\t type : Ridge\n",
      "\t k : 0.2\n",
      "\t MSE : 3026.667734128127\n",
      "\t R2 : 0.4067092393506434\n",
      "\t RMSE : 55.015159130262695\n",
      "\t Framework : Azure ML SDK\n",
      "\n",
      "\n",
      "TensorFlow - version = 3\n",
      "\t Framework : TensorFlow\n",
      "\t Hyperdrive : Yes\n",
      "\t GPU : Yes\n",
      "\n",
      "\n",
      "sklearn_mnist - version = 5\n",
      "\t data : mnist\n",
      "\t model : classification\n",
      "\n",
      "\n",
      "sklearn_mnist - version = 4\n",
      "\t data : mnist\n",
      "\t model : classification\n",
      "\n",
      "\n",
      "mybestmodel - version = 3\n",
      "\t Training context : Azure Auto ML\n",
      "\t AUC : 0.9997274913300952\n",
      "\t Accuracy : 0.9793770912161106\n",
      "\n",
      "\n",
      "IBM_attrition_explainer - version = 3\n",
      "\n",
      "\n",
      "local_deploy_model - version = 3\n",
      "\n",
      "\n",
      "DiabetesRidge - version = 4\n",
      "\t area : Diabetes\n",
      "\t type : Ridge\n",
      "\t k : 0.2\n",
      "\t MSE : 3026.667734128127\n",
      "\t R2 : 0.4067092393506434\n",
      "\t RMSE : 55.015159130262695\n",
      "\t Framework : Azure ML SDK\n",
      "\n",
      "\n",
      "TensorFlow - version = 2\n",
      "\t Framework : TensorFlow\n",
      "\t Hyperdrive : Yes\n",
      "\t GPU : Yes\n",
      "\n",
      "\n",
      "sklearn_mnist - version = 3\n",
      "\t data : mnist\n",
      "\t model : classification\n",
      "\n",
      "\n",
      "mybestmodel - version = 2\n",
      "\t Training context : Azure Auto ML\n",
      "\t AUC : 0.9997274913194641\n",
      "\t Accuracy : 0.9793770912161106\n",
      "\n",
      "\n",
      "IBM_attrition_explainer - version = 2\n",
      "\n",
      "\n",
      "local_deploy_model - version = 2\n",
      "\n",
      "\n",
      "DiabetesRidge - version = 3\n",
      "\t area : Diabetes\n",
      "\t type : Ridge\n",
      "\t k : 0.2\n",
      "\t MSE : 3026.667734128127\n",
      "\t R2 : 0.4067092393506434\n",
      "\t RMSE : 55.015159130262695\n",
      "\t Framework : Azure ML SDK\n",
      "\n",
      "\n",
      "DiabetesRidge - version = 2\n",
      "\t area : Diabetes\n",
      "\t type : Ridge\n",
      "\t k : 0.2\n",
      "\t MSE : 3026.667734128127\n",
      "\t R2 : 0.4067092393506434\n",
      "\t RMSE : 55.015159130262695\n",
      "\t Framework : Azure ML SDK\n",
      "\n",
      "\n",
      "sklearn_mnist - version = 2\n",
      "\t data : mnist\n",
      "\t model : classification\n",
      "\n",
      "\n",
      "TensorFlow - version = 1\n",
      "\t Framework : TensorFlow\n",
      "\t Hyperdrive : Yes\n",
      "\t GPU : Yes\n",
      "\n",
      "\n",
      "mnistMLmodel - version = 1\n",
      "\t Source : ONNX\n",
      "\n",
      "\n",
      "IBM_attrition_explainer - version = 1\n",
      "\n",
      "\n",
      "local_deploy_model - version = 1\n",
      "\n",
      "\n",
      "mybestmodel - version = 1\n",
      "\t Training context : Azure Auto ML\n",
      "\t AUC : 0.9997251323905743\n",
      "\t Accuracy : 0.9799660193668762\n",
      "\n",
      "\n",
      "DiabetesRidge - version = 1\n",
      "\t area : Diabetes\n",
      "\t type : Ridge\n",
      "\t k : 0.2\n",
      "\t MSE : 3026.667734128127\n",
      "\t R2 : 0.4067092393506434\n",
      "\t RMSE : 55.015159130262695\n",
      "\t Framework : Azure ML SDK\n",
      "\n",
      "\n"
     ]
    }
   ],
   "source": [
    "# List of all the models from the Azure ML workspace\n",
    "for model in Model.list(ws):\n",
    "    print(model.name, '- version =', model.version)\n",
    "    for tag_name in model.tags:\n",
    "        tag = model.tags[tag_name]\n",
    "        print ('\\t',tag_name, ':', tag)\n",
    "    for prop_name in model.properties:\n",
    "        prop = model.properties[prop_name]\n",
    "        print ('\\t',prop_name, ':', prop)\n",
    "    print('\\n')"
   ]
  },
  {
   "cell_type": "markdown",
   "metadata": {},
   "source": [
    "> You can open now the **Lab3 notebook**."
   ]
  },
  {
   "cell_type": "markdown",
   "metadata": {},
   "source": [
    "<img src=\"https://github.com/retkowsky/images/blob/master/Powered-by-MS-Azure-logo-v2.png?raw=true\" height=\"300\" width=\"300\">"
   ]
  }
 ],
 "metadata": {
  "authors": [
   {
    "name": "savitam"
   }
  ],
  "kernelspec": {
   "display_name": "Python 3.6 - AzureML",
   "language": "python",
   "name": "python3-azureml"
  },
  "language_info": {
   "codemirror_mode": {
    "name": "ipython",
    "version": 3
   },
   "file_extension": ".py",
   "mimetype": "text/x-python",
   "name": "python",
   "nbconvert_exporter": "python",
   "pygments_lexer": "ipython3",
   "version": "3.6.9"
  }
 },
 "nbformat": 4,
 "nbformat_minor": 2
}
