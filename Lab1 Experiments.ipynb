{
 "cells": [
  {
   "cell_type": "markdown",
   "metadata": {},
   "source": [
    "# Lab1: Azure ML experiments\n",
    "<br>\n",
    "\n",
    "<img src='https://github.com/retkowsky/images/blob/master/AzureMLservicebanniere.png?raw=true'>\n",
    "\n",
    "\n",
    "Documentation : https://docs.microsoft.com/en-us/azure/machine-learning/"
   ]
  },
  {
   "cell_type": "markdown",
   "metadata": {},
   "source": [
    "In this tutorial, you complete the end-to-end steps to get started with the Azure Machine Learning Python SDK running \n",
    "in Jupyter notebooks. \n",
    "\n",
    "In this tutorial, you:\n",
    "- Run some Python code\n",
    "- Log results into an Azure ML experiment\n",
    "- Save a ML model"
   ]
  },
  {
   "cell_type": "markdown",
   "metadata": {},
   "source": [
    "> https://docs.microsoft.com/en-us/azure/machine-learning/concept-azure-machine-learning-architecture"
   ]
  },
  {
   "cell_type": "markdown",
   "metadata": {},
   "source": [
    "<img src=\"https://github.com/retkowsky/images/blob/master/AzureML%20Archi.jpg?raw=true\">"
   ]
  },
  {
   "cell_type": "markdown",
   "metadata": {},
   "source": [
    "> Azure architectures: https://docs.microsoft.com/en-us/azure/architecture/browse/"
   ]
  },
  {
   "cell_type": "markdown",
   "metadata": {},
   "source": [
    "## 0. Settings"
   ]
  },
  {
   "cell_type": "code",
   "execution_count": 29,
   "metadata": {
    "gather": {
     "logged": 1604047479622
    }
   },
   "outputs": [
    {
     "name": "stdout",
     "output_type": "stream",
     "text": [
      "Today is 2020-12-07 15:52:05.533338\n"
     ]
    }
   ],
   "source": [
    "import datetime\n",
    "today = datetime.datetime.now()\n",
    "print(\"Today is\", today)"
   ]
  },
  {
   "cell_type": "code",
   "execution_count": 30,
   "metadata": {},
   "outputs": [],
   "source": [
    "import scipy, matplotlib, pandas, sklearn\n",
    "import numpy as np\n",
    "import azureml.core\n",
    "from azureml.core.experiment import Experiment\n",
    "from azureml.core.workspace import Workspace\n",
    "from azureml.train.automl import AutoMLConfig\n",
    "from azureml.train.automl.run import AutoMLRun"
   ]
  },
  {
   "cell_type": "code",
   "execution_count": 31,
   "metadata": {},
   "outputs": [
    {
     "name": "stdout",
     "output_type": "stream",
     "text": [
      "You are using Python 3.6.9 |Anaconda, Inc.| (default, Jul 30 2019, 19:07:31) \n",
      "[GCC 7.3.0]\n"
     ]
    }
   ],
   "source": [
    "import sys\n",
    "print(\"You are using Python\", sys.version)"
   ]
  },
  {
   "cell_type": "code",
   "execution_count": 32,
   "metadata": {},
   "outputs": [
    {
     "name": "stdout",
     "output_type": "stream",
     "text": [
      "Releases:\n",
      "- scipy = 1.5.2\n",
      "- numpy = 1.18.5\n",
      "- matplotlib = 3.2.1\n",
      "- pandas = 0.25.3\n",
      "- sklearn = 0.22.2.post1\n",
      "- Azure ML = 1.18.0\n"
     ]
    }
   ],
   "source": [
    "print(\"Releases:\")\n",
    "print('- scipy = {}'.format(scipy.__version__))\n",
    "print('- numpy = {}'.format(np.__version__))\n",
    "print('- matplotlib = {}'.format(matplotlib.__version__))\n",
    "print('- pandas = {}'.format(pandas.__version__))\n",
    "print('- sklearn = {}'.format(sklearn.__version__))\n",
    "print(\"- Azure ML =\",azureml.core.VERSION)"
   ]
  },
  {
   "cell_type": "markdown",
   "metadata": {},
   "source": [
    "> Azure ML Release notes: https://docs.microsoft.com/en-us/azure/machine-learning/azure-machine-learning-release-notes"
   ]
  },
  {
   "cell_type": "markdown",
   "metadata": {},
   "source": [
    "## Let's connect to the Azure ML workspace"
   ]
  },
  {
   "cell_type": "code",
   "execution_count": 33,
   "metadata": {},
   "outputs": [
    {
     "name": "stdout",
     "output_type": "stream",
     "text": [
      "Azure ML Workspace name: AMLworkshop\n",
      "Azure region: westeurope\n",
      "Resource group: AMLworkshop-rg\n"
     ]
    }
   ],
   "source": [
    "from azureml.core import Workspace\n",
    "\n",
    "ws = Workspace.from_config()\n",
    "print('Azure ML Workspace name: ' + ws.name, \n",
    "      'Azure region: ' + ws.location, \n",
    "      'Resource group: ' + ws.resource_group, sep='\\n')"
   ]
  },
  {
   "cell_type": "markdown",
   "metadata": {},
   "source": [
    "## 1. Data"
   ]
  },
  {
   "cell_type": "code",
   "execution_count": 34,
   "metadata": {},
   "outputs": [],
   "source": [
    "from sklearn.datasets import load_diabetes\n",
    "from sklearn.linear_model import Ridge\n",
    "from sklearn.metrics import mean_squared_error\n",
    "from sklearn.model_selection import train_test_split\n",
    "\n",
    "import joblib"
   ]
  },
  {
   "cell_type": "code",
   "execution_count": 35,
   "metadata": {},
   "outputs": [
    {
     "name": "stdout",
     "output_type": "stream",
     "text": [
      "You are using scikit-learn 0.22.2.post1\n"
     ]
    }
   ],
   "source": [
    "# scikit-learn version\n",
    "import sklearn\n",
    "print(\"You are using scikit-learn\", sklearn.__version__)"
   ]
  },
  {
   "cell_type": "markdown",
   "metadata": {},
   "source": [
    "> https://scikit-learn.org/stable/index.html"
   ]
  },
  {
   "cell_type": "markdown",
   "metadata": {},
   "source": [
    "#### Data : DIABETES\n",
    "From Bradley Efron, Trevor Hastie, Iain Johnstone and Robert Tibshirani (2004) \"Least Angle Regression,\" Annals of Statistics (with discussion), 407-499, we have\n",
    "\n",
    "\"Ten baseline variables, age, sex, body mass index, average blood pressure, and six blood serum measurements were obtained for each of n = 442 diabetes patients, as well as the response of interest, a quantitative measure of disease progression one year after baseline.\"\n",
    "> https://www4.stat.ncsu.edu/~boos/var.select/diabetes.html"
   ]
  },
  {
   "cell_type": "code",
   "execution_count": 36,
   "metadata": {},
   "outputs": [],
   "source": [
    "X, y = load_diabetes(return_X_y = True)\n",
    "columns = ['age', 'gender', 'bmi', 'bp', 's1', 's2', 's3', 's4', 's5', 's6']"
   ]
  },
  {
   "cell_type": "code",
   "execution_count": 37,
   "metadata": {},
   "outputs": [],
   "source": [
    "# Test population in %\n",
    "testsizepct=0.30"
   ]
  },
  {
   "cell_type": "code",
   "execution_count": 38,
   "metadata": {},
   "outputs": [],
   "source": [
    "X_train, X_test, y_train, y_test = train_test_split(X, y, test_size=testsizepct, random_state=0)\n",
    "\n",
    "data = {\n",
    "    \"train\":{\"X\": X_train, \"y\": y_train},        \n",
    "    \"test\":{\"X\": X_test, \"y\": y_test}\n",
    "}"
   ]
  },
  {
   "cell_type": "code",
   "execution_count": 39,
   "metadata": {},
   "outputs": [
    {
     "name": "stdout",
     "output_type": "stream",
     "text": [
      "Training dataset = 309 observations - 69.91 %\n",
      "Test dataset = 133 observations - 30.09 %\n"
     ]
    }
   ],
   "source": [
    "nobstrain=len(data['train']['X'])\n",
    "nobstest=len(data['test']['X'])\n",
    "nobstotal=nobstrain+nobstest\n",
    "pcttrain=round(nobstrain/nobstotal*100,2)\n",
    "pcttest=round(nobstest/nobstotal*100,2)\n",
    "print (\"Training dataset =\", nobstrain, 'observations -', pcttrain, '%')\n",
    "print (\"Test dataset =\", nobstest, 'observations -', pcttest,'%')"
   ]
  },
  {
   "cell_type": "markdown",
   "metadata": {},
   "source": [
    "## 2. Let's build a model to predict Diabetes level"
   ]
  },
  {
   "cell_type": "markdown",
   "metadata": {},
   "source": [
    "We will use a **Ridge** regression.<br> \n",
    "<img src='https://github.com/retkowsky/images/blob/master/ridge.png?raw=true'>\n",
    "<br>\n",
    "\n",
    "\n"
   ]
  },
  {
   "cell_type": "markdown",
   "metadata": {},
   "source": [
    "> https://scikit-learn.org/stable/modules/generated/sklearn.linear_model.Ridge.html"
   ]
  },
  {
   "cell_type": "markdown",
   "metadata": {},
   "source": [
    "### Creation of an Azure ML experimentation"
   ]
  },
  {
   "cell_type": "code",
   "execution_count": 40,
   "metadata": {},
   "outputs": [],
   "source": [
    "from azureml.core import experiment\n",
    "experiment = Experiment(workspace=ws, name=\"lab071220\")"
   ]
  },
  {
   "cell_type": "code",
   "execution_count": 41,
   "metadata": {},
   "outputs": [],
   "source": [
    "def regridge(k):\n",
    "    \n",
    "    # 1. Starting\n",
    "    run = experiment.start_logging(snapshot_directory=None)\n",
    "    \n",
    "    print('k =', k)\n",
    "    print()    \n",
    "       \n",
    "    # 2. Logging\n",
    "    run.log('k', k) \n",
    "    run.log('Test Size', testsizepct)\n",
    "    run.log('Nobs Training', nobstrain)\n",
    "    run.log('Nobs Test', nobstest)\n",
    "    \n",
    "    print('Test Size =', testsizepct)\n",
    "    print('Numbers of obs for the Training dataset =', nobstrain)\n",
    "    print('Number of obs for the Testing dataset =', nobstest)    \n",
    "    print()\n",
    "    \n",
    "    # 3. ML model\n",
    "    regression_model = Ridge(alpha=k)\n",
    "    regression_model.fit(data['train']['X'], data['train']['y'])\n",
    "    preds = regression_model.predict(data['test']['X'])\n",
    "\n",
    "    # 4. Logging ML metrics\n",
    "    from sklearn.metrics import r2_score\n",
    "    import math\n",
    "    \n",
    "    mse = round(mean_squared_error(data['test']['y'], preds), 4)\n",
    "    rmse = round(math.sqrt(mse), 4)\n",
    "    R2 = round(r2_score(data['test']['y'], preds), 4)\n",
    "    \n",
    "    print('- RMSE =', rmse)\n",
    "    print('- MSE =', mse)\n",
    "    print('- R2 =', R2)\n",
    "    \n",
    "    run.log(\"rmse\", rmse)\n",
    "    run.log('mse', mse)\n",
    "    run.log('R2', R2)\n",
    "\n",
    "    # 5. Saving the model\n",
    "    \n",
    "    model_name = \"RegRidgeModele-k-\" + str(k) + \".pkl\"\n",
    "    filename = \"outputs/\" + model_name\n",
    "    joblib.dump(value=regression_model, filename=filename)\n",
    "    run.upload_file(name=model_name, path_or_stream=filename)\n",
    "    \n",
    "    # 6. Tags\n",
    "    run.tag(\"Langage\", \"Python\")\n",
    "    run.tag(\"Version_Python\", \"3.6.9\")\n",
    "    run.tag(\"Version_AzureML\", \"1.1.18\")\n",
    "    run.tag(\"Team\", \"DataScience France\")\n",
    "    run.tag(\"Pays\", \"France\") \n",
    "    run.tag(\"Auteur\", \"Serge\") \n",
    "    \n",
    "    # 7. Graph generation\n",
    "    %matplotlib inline\n",
    "    import matplotlib.pyplot as plt\n",
    "\n",
    "    fig = plt.figure(1)\n",
    "    idx = np.argsort(data['test']['y'])\n",
    "    plt.plot(data['test']['y'][idx],preds[idx])\n",
    "    \n",
    "    fig.savefig(\"RegRidgeGraphique-k-\"+str(k)+\".png\")\n",
    "    plt.title('Ridge', fontsize=10)\n",
    "    \n",
    "    run.log_image(name='My Graph', plot=plt) # Logging the graph into the experiment\n",
    "    \n",
    "    # 6. End\n",
    "    run.complete()"
   ]
  },
  {
   "cell_type": "markdown",
   "metadata": {},
   "source": [
    "### Let's call the Python function with different k values"
   ]
  },
  {
   "cell_type": "code",
   "execution_count": 42,
   "metadata": {},
   "outputs": [
    {
     "name": "stdout",
     "output_type": "stream",
     "text": [
      "k = 0\n",
      "\n",
      "Test Size = 0.3\n",
      "Numbers of obs for the Training dataset = 309\n",
      "Number of obs for the Testing dataset = 133\n",
      "\n",
      "- RMSE = 55.652\n",
      "- MSE = 3097.1461\n",
      "- R2 = 0.3929\n"
     ]
    },
    {
     "data": {
      "image/png": "[encoded data removed]",
      "text/plain": [
       "<Figure size 432x288 with 1 Axes>"
      ]
     },
     "metadata": {
      "needs_background": "light"
     },
     "output_type": "display_data"
    }
   ],
   "source": [
    "regridge(0)"
   ]
  },
  {
   "cell_type": "code",
   "execution_count": 43,
   "metadata": {},
   "outputs": [
    {
     "name": "stdout",
     "output_type": "stream",
     "text": [
      "k = 0.1\n",
      "\n",
      "Test Size = 0.3\n",
      "Numbers of obs for the Training dataset = 309\n",
      "Number of obs for the Testing dataset = 133\n",
      "\n",
      "- RMSE = 55.2271\n",
      "- MSE = 3050.0324\n",
      "- R2 = 0.4021\n"
     ]
    },
    {
     "data": {
      "image/png": "[encoded data removed]",
      "text/plain": [
       "<Figure size 432x288 with 1 Axes>"
      ]
     },
     "metadata": {
      "needs_background": "light"
     },
     "output_type": "display_data"
    }
   ],
   "source": [
    "regridge(0.1)"
   ]
  },
  {
   "cell_type": "code",
   "execution_count": 44,
   "metadata": {},
   "outputs": [
    {
     "name": "stdout",
     "output_type": "stream",
     "text": [
      "k = 0.2\n",
      "\n",
      "Test Size = 0.3\n",
      "Numbers of obs for the Training dataset = 309\n",
      "Number of obs for the Testing dataset = 133\n",
      "\n",
      "- RMSE = 55.0152\n",
      "- MSE = 3026.6677\n",
      "- R2 = 0.4067\n"
     ]
    },
    {
     "data": {
      "image/png": "[encoded data removed]",
      "text/plain": [
       "<Figure size 432x288 with 1 Axes>"
      ]
     },
     "metadata": {
      "needs_background": "light"
     },
     "output_type": "display_data"
    }
   ],
   "source": [
    "regridge(0.2)"
   ]
  },
  {
   "cell_type": "code",
   "execution_count": 45,
   "metadata": {},
   "outputs": [
    {
     "name": "stdout",
     "output_type": "stream",
     "text": [
      "k = 0.3\n",
      "\n",
      "Test Size = 0.3\n",
      "Numbers of obs for the Training dataset = 309\n",
      "Number of obs for the Testing dataset = 133\n",
      "\n",
      "- RMSE = 55.0521\n",
      "- MSE = 3030.7343\n",
      "- R2 = 0.4059\n"
     ]
    },
    {
     "data": {
      "image/png": "[encoded data removed]",
      "text/plain": [
       "<Figure size 432x288 with 1 Axes>"
      ]
     },
     "metadata": {
      "needs_background": "light"
     },
     "output_type": "display_data"
    }
   ],
   "source": [
    "regridge(0.3)"
   ]
  },
  {
   "cell_type": "code",
   "execution_count": 46,
   "metadata": {},
   "outputs": [
    {
     "name": "stdout",
     "output_type": "stream",
     "text": [
      "k = 0.4\n",
      "\n",
      "Test Size = 0.3\n",
      "Numbers of obs for the Training dataset = 309\n",
      "Number of obs for the Testing dataset = 133\n",
      "\n",
      "- RMSE = 55.2201\n",
      "- MSE = 3049.2625\n",
      "- R2 = 0.4023\n"
     ]
    },
    {
     "data": {
      "image/png": "[encoded data removed]",
      "text/plain": [
       "<Figure size 432x288 with 1 Axes>"
      ]
     },
     "metadata": {
      "needs_background": "light"
     },
     "output_type": "display_data"
    }
   ],
   "source": [
    "regridge(0.4)"
   ]
  },
  {
   "cell_type": "code",
   "execution_count": 47,
   "metadata": {},
   "outputs": [
    {
     "name": "stdout",
     "output_type": "stream",
     "text": [
      "k = 0.5\n",
      "\n",
      "Test Size = 0.3\n",
      "Numbers of obs for the Training dataset = 309\n",
      "Number of obs for the Testing dataset = 133\n",
      "\n",
      "- RMSE = 55.4578\n",
      "- MSE = 3075.5727\n",
      "- R2 = 0.3971\n"
     ]
    },
    {
     "data": {
      "image/png": "[encoded data removed]",
      "text/plain": [
       "<Figure size 432x288 with 1 Axes>"
      ]
     },
     "metadata": {
      "needs_background": "light"
     },
     "output_type": "display_data"
    }
   ],
   "source": [
    "regridge(0.5)"
   ]
  },
  {
   "cell_type": "code",
   "execution_count": 48,
   "metadata": {},
   "outputs": [
    {
     "name": "stdout",
     "output_type": "stream",
     "text": [
      "-rwxrwxrwx 1 root root 634 Dec  7 15:54 \u001b[0m\u001b[01;32moutputs/RegRidgeModele-k-0.1.pkl\u001b[0m*\r\n",
      "-rwxrwxrwx 1 root root 634 Dec  7 15:55 \u001b[01;32moutputs/RegRidgeModele-k-0.2.pkl\u001b[0m*\r\n",
      "-rwxrwxrwx 1 root root 634 Dec  7 15:55 \u001b[01;32moutputs/RegRidgeModele-k-0.3.pkl\u001b[0m*\r\n",
      "-rwxrwxrwx 1 root root 634 Dec  7 15:55 \u001b[01;32moutputs/RegRidgeModele-k-0.4.pkl\u001b[0m*\r\n",
      "-rwxrwxrwx 1 root root 634 Dec  7 15:55 \u001b[01;32moutputs/RegRidgeModele-k-0.5.pkl\u001b[0m*\r\n",
      "-rwxrwxrwx 1 root root 627 Dec  7 15:54 \u001b[01;32moutputs/RegRidgeModele-k-0.pkl\u001b[0m*\r\n"
     ]
    }
   ],
   "source": [
    "# Viewing the pkl files saved in your compute instance\n",
    "%ls outputs/RegRidgeModele*.pkl -l"
   ]
  },
  {
   "cell_type": "code",
   "execution_count": 49,
   "metadata": {},
   "outputs": [
    {
     "name": "stdout",
     "output_type": "stream",
     "text": [
      "-rwxrwxrwx 1 root root 24473 Dec  7 15:54 \u001b[0m\u001b[01;32mRegRidgeGraphique-k-0.1.png\u001b[0m*\r\n",
      "-rwxrwxrwx 1 root root 26533 Dec  7 15:55 \u001b[01;32mRegRidgeGraphique-k-0.2.png\u001b[0m*\r\n",
      "-rwxrwxrwx 1 root root 26879 Dec  7 15:55 \u001b[01;32mRegRidgeGraphique-k-0.3.png\u001b[0m*\r\n",
      "-rwxrwxrwx 1 root root 27227 Dec  7 15:55 \u001b[01;32mRegRidgeGraphique-k-0.4.png\u001b[0m*\r\n",
      "-rwxrwxrwx 1 root root 27143 Dec  7 15:56 \u001b[01;32mRegRidgeGraphique-k-0.5.png\u001b[0m*\r\n",
      "-rwxrwxrwx 1 root root 24998 Dec  7 15:54 \u001b[01;32mRegRidgeGraphique-k-0.png\u001b[0m*\r\n"
     ]
    }
   ],
   "source": [
    "# List of the graphs outputs saved in your compute instance\n",
    "%ls RegRidgeGraphique*.png -l"
   ]
  },
  {
   "cell_type": "markdown",
   "metadata": {},
   "source": [
    "## Let's save the best model into the model repository. All models are versioned."
   ]
  },
  {
   "cell_type": "markdown",
   "metadata": {},
   "source": [
    "Best model is for k=0.2"
   ]
  },
  {
   "cell_type": "code",
   "execution_count": 50,
   "metadata": {},
   "outputs": [],
   "source": [
    "mymodel='RegRidgeModele-k-0.2.pkl'\n",
    "k=0.2\n",
    "\n",
    "RMSE = 55.0152\n",
    "MSE = 3026.6677\n",
    "R2 = 0.4067"
   ]
  },
  {
   "cell_type": "code",
   "execution_count": 51,
   "metadata": {},
   "outputs": [
    {
     "name": "stdout",
     "output_type": "stream",
     "text": [
      "Registering model DiabetesRidge\n"
     ]
    }
   ],
   "source": [
    "from azureml.core.model import Model\n",
    "\n",
    "model = Model.register(model_path=\"outputs/\"+mymodel, \n",
    "                       model_name=\"DiabetesRidge\", \n",
    "                       model_framework=Model.Framework.SCIKITLEARN, \n",
    "                       model_framework_version='0.22.2',            \n",
    "                       tags={'area': 'Diabetes', \n",
    "                             'type': 'Ridge', \n",
    "                             'k':k, \n",
    "                             'MSE' : MSE, \n",
    "                             'R2' : R2,\n",
    "                             'RMSE' : RMSE,\n",
    "                             'Framework' : 'Azure ML SDK'},\n",
    "                       description=\"My regression model\",\n",
    "                       workspace=ws) "
   ]
  },
  {
   "cell_type": "markdown",
   "metadata": {},
   "source": [
    "## Saved model informations:"
   ]
  },
  {
   "cell_type": "code",
   "execution_count": 52,
   "metadata": {},
   "outputs": [
    {
     "name": "stdout",
     "output_type": "stream",
     "text": [
      "Name : DiabetesRidge\n",
      "Description : My regression model\n",
      "ID = DiabetesRidge:15\n",
      "Version = 15\n"
     ]
    }
   ],
   "source": [
    "print('Name :', model.name)\n",
    "print('Description :', model.description)\n",
    "print('ID =', model.id)\n",
    "print('Version =', model.version)"
   ]
  },
  {
   "cell_type": "markdown",
   "metadata": {},
   "source": [
    "Now we can see the model into the **Models** section in the Azure ML Studio interface:"
   ]
  },
  {
   "cell_type": "code",
   "execution_count": 28,
   "metadata": {},
   "outputs": [
    {
     "data": {
      "text/html": [
       "<table style=\"width:100%\"><tr><th>Name</th><th>Workspace</th><th>Report Page</th><th>Docs Page</th></tr><tr><td>Lab1-AzureML-experiment</td><td>AMLworkshop</td><td><a href=\"https://ml.azure.com/experiments/Lab1-AzureML-experiment?wsid=/subscriptions/70b8f39e-8863-49f7-b6ba-34a80799550c/resourcegroups/AMLworkshop-rg/workspaces/AMLworkshop\" target=\"_blank\" rel=\"noopener\">Link to Azure Machine Learning studio</a></td><td><a href=\"https://docs.microsoft.com/en-us/python/api/azureml-core/azureml.core.experiment.Experiment?view=azure-ml-py\" target=\"_blank\" rel=\"noopener\">Link to Documentation</a></td></tr></table>"
      ],
      "text/plain": [
       "Experiment(Name: Lab1-AzureML-experiment,\n",
       "Workspace: AMLworkshop)"
      ]
     },
     "execution_count": 28,
     "metadata": {},
     "output_type": "execute_result"
    }
   ],
   "source": [
    "experiment"
   ]
  },
  {
   "cell_type": "markdown",
   "metadata": {},
   "source": [
    "### Let's download the model and apply it to the test dataset"
   ]
  },
  {
   "cell_type": "code",
   "execution_count": 86,
   "metadata": {},
   "outputs": [],
   "source": [
    "from azureml.core.model import Model\n",
    "mymodel = Model(ws, 'DiabetesRidge')\n",
    "#mymodel = Model(ws, 'DiabetesRidge', version=5)"
   ]
  },
  {
   "cell_type": "code",
   "execution_count": 87,
   "metadata": {},
   "outputs": [
    {
     "data": {
      "text/plain": [
       "Model(workspace=Workspace.create(name='AMLworkshop', subscription_id='70b8f39e-8863-49f7-b6ba-34a80799550c', resource_group='AMLworkshop-rg'), name=DiabetesRidge, id=DiabetesRidge:15, version=15, tags={'area': 'Diabetes', 'type': 'Ridge', 'k': '0.2', 'MSE': '3026.6677', 'R2': '0.4067', 'RMSE': '55.0152', 'Framework': 'Azure ML SDK'}, properties={})"
      ]
     },
     "execution_count": 87,
     "metadata": {},
     "output_type": "execute_result"
    }
   ],
   "source": [
    "mymodel"
   ]
  },
  {
   "cell_type": "code",
   "execution_count": 88,
   "metadata": {},
   "outputs": [
    {
     "data": {
      "text/plain": [
       "'RegRidgeModele-k-0.2.pkl'"
      ]
     },
     "execution_count": 88,
     "metadata": {},
     "output_type": "execute_result"
    }
   ],
   "source": [
    "# Download the pkl file\n",
    "mymodel.download(exist_ok=\"True\")"
   ]
  },
  {
   "cell_type": "code",
   "execution_count": 89,
   "metadata": {},
   "outputs": [
    {
     "name": "stdout",
     "output_type": "stream",
     "text": [
      "-rwxrwxrwx 1 root root 634 Dec  7 16:18 RegRidgeModele-k-0.2.pkl\r\n"
     ]
    }
   ],
   "source": [
    "!ls RegRidgeModele-k-0.2.pkl -l"
   ]
  },
  {
   "cell_type": "code",
   "execution_count": 90,
   "metadata": {},
   "outputs": [],
   "source": [
    "import joblib\n",
    "localmodel=joblib.load(\"RegRidgeModele-k-0.2.pkl\")"
   ]
  },
  {
   "cell_type": "code",
   "execution_count": 91,
   "metadata": {},
   "outputs": [
    {
     "data": {
      "text/plain": [
       "array([225.38288663, 234.75672822, 164.00312819, 123.46281612,\n",
       "       173.32012984, 240.20150018, 114.66510657, 186.84673729,\n",
       "       147.81327349, 215.15222333, 157.67496598, 181.29031163,\n",
       "       114.71860965,  96.35335408, 235.73733821, 102.20957815,\n",
       "       147.67209551,  75.49004969, 101.20511519, 210.58415103,\n",
       "       185.33186517, 152.02131114, 160.30359928, 149.58478296,\n",
       "       197.65520638, 165.07380997, 115.98983757,  91.39581934,\n",
       "       177.25882651, 164.34061936, 174.33452649,  92.46591384,\n",
       "       140.53306243, 146.69112715, 149.45576607, 185.73324938,\n",
       "       163.12555341, 183.86975076, 133.42400217, 196.74441606,\n",
       "        93.43580034, 169.18689622, 147.92192731, 172.85033475,\n",
       "       179.93858885,  83.07219651, 136.61675205, 140.33734763,\n",
       "       132.6680819 , 220.56622016, 157.48518116,  90.73063296,\n",
       "       154.13365588, 159.89740219, 219.54872002, 177.72397388,\n",
       "       187.711351  , 115.43236395, 141.66560526, 172.65842486,\n",
       "       198.06726423, 160.8900295 , 160.64145986, 124.01127688,\n",
       "       244.34470657, 149.60634672,  90.42159674, 224.63904842,\n",
       "       199.85477162,  59.20789166,  88.52638222, 140.11495514,\n",
       "       112.67526953, 138.96342469, 136.62220219, 186.61801293,\n",
       "       118.95093032, 200.85197325, 217.84292082, 183.99047216,\n",
       "       150.39882822, 203.64538473,  70.37984832, 205.45148204,\n",
       "        88.04143737, 101.9174092 , 140.95167005, 189.06917737,\n",
       "       135.20453291, 152.56028415,  98.53228015, 128.66021699,\n",
       "        89.82689066, 154.2560757 , 127.11669304, 110.0321479 ,\n",
       "       223.00746531, 211.10276793, 136.59658398, 164.75253829,\n",
       "       184.38063805, 105.70493325, 208.35109466, 100.37493879,\n",
       "       208.98481298, 129.62065864, 219.10971746, 254.25872603,\n",
       "       121.00493611, 121.2977913 , 188.84821054, 120.33297775,\n",
       "       181.13423349, 106.6486232 , 102.46295664, 209.54413186,\n",
       "       225.45398709, 119.71357979, 263.4182524 , 127.43079763,\n",
       "       134.62888892, 119.33823733,  81.10941054, 227.77198116,\n",
       "       110.9800821 , 130.63053718, 199.82326789, 179.80540794,\n",
       "       183.12242861, 172.57443238, 191.90778094, 120.24955576,\n",
       "       169.72991723])"
      ]
     },
     "execution_count": 91,
     "metadata": {},
     "output_type": "execute_result"
    }
   ],
   "source": [
    "localmodel.predict(X_test)"
   ]
  },
  {
   "cell_type": "markdown",
   "metadata": {},
   "source": [
    "### Let's apply the model to the X_test"
   ]
  },
  {
   "cell_type": "code",
   "execution_count": 97,
   "metadata": {},
   "outputs": [],
   "source": [
    "import pandas as pd\n",
    "modelpredictions=pd.DataFrame(localmodel.predict(X_test))"
   ]
  },
  {
   "cell_type": "code",
   "execution_count": 98,
   "metadata": {},
   "outputs": [
    {
     "data": {
      "text/html": [
       "<div>\n",
       "<style scoped>\n",
       "    .dataframe tbody tr th:only-of-type {\n",
       "        vertical-align: middle;\n",
       "    }\n",
       "\n",
       "    .dataframe tbody tr th {\n",
       "        vertical-align: top;\n",
       "    }\n",
       "\n",
       "    .dataframe thead th {\n",
       "        text-align: right;\n",
       "    }\n",
       "</style>\n",
       "<table border=\"1\" class=\"dataframe\">\n",
       "  <thead>\n",
       "    <tr style=\"text-align: right;\">\n",
       "      <th></th>\n",
       "      <th>0</th>\n",
       "    </tr>\n",
       "  </thead>\n",
       "  <tbody>\n",
       "    <tr>\n",
       "      <th>0</th>\n",
       "      <td>225.382887</td>\n",
       "    </tr>\n",
       "    <tr>\n",
       "      <th>1</th>\n",
       "      <td>234.756728</td>\n",
       "    </tr>\n",
       "    <tr>\n",
       "      <th>2</th>\n",
       "      <td>164.003128</td>\n",
       "    </tr>\n",
       "    <tr>\n",
       "      <th>3</th>\n",
       "      <td>123.462816</td>\n",
       "    </tr>\n",
       "    <tr>\n",
       "      <th>4</th>\n",
       "      <td>173.320130</td>\n",
       "    </tr>\n",
       "    <tr>\n",
       "      <th>...</th>\n",
       "      <td>...</td>\n",
       "    </tr>\n",
       "    <tr>\n",
       "      <th>128</th>\n",
       "      <td>183.122429</td>\n",
       "    </tr>\n",
       "    <tr>\n",
       "      <th>129</th>\n",
       "      <td>172.574432</td>\n",
       "    </tr>\n",
       "    <tr>\n",
       "      <th>130</th>\n",
       "      <td>191.907781</td>\n",
       "    </tr>\n",
       "    <tr>\n",
       "      <th>131</th>\n",
       "      <td>120.249556</td>\n",
       "    </tr>\n",
       "    <tr>\n",
       "      <th>132</th>\n",
       "      <td>169.729917</td>\n",
       "    </tr>\n",
       "  </tbody>\n",
       "</table>\n",
       "<p>133 rows × 1 columns</p>\n",
       "</div>"
      ],
      "text/plain": [
       "              0\n",
       "0    225.382887\n",
       "1    234.756728\n",
       "2    164.003128\n",
       "3    123.462816\n",
       "4    173.320130\n",
       "..          ...\n",
       "128  183.122429\n",
       "129  172.574432\n",
       "130  191.907781\n",
       "131  120.249556\n",
       "132  169.729917\n",
       "\n",
       "[133 rows x 1 columns]"
      ]
     },
     "execution_count": 98,
     "metadata": {},
     "output_type": "execute_result"
    }
   ],
   "source": [
    "modelpredictions.head(150)"
   ]
  },
  {
   "cell_type": "markdown",
   "metadata": {},
   "source": [
    "### We can export into a csv file..."
   ]
  },
  {
   "cell_type": "code",
   "execution_count": 99,
   "metadata": {},
   "outputs": [],
   "source": [
    "modelpredictions.to_csv(r'ModelPredictions.csv', index = False)"
   ]
  },
  {
   "cell_type": "code",
   "execution_count": 100,
   "metadata": {},
   "outputs": [
    {
     "name": "stdout",
     "output_type": "stream",
     "text": [
      "-rwxrwxrwx 1 root root 2478 Dec  7 16:19 ModelPredictions.csv\r\n"
     ]
    }
   ],
   "source": [
    "!ls ModelPredictions.csv -l"
   ]
  },
  {
   "cell_type": "markdown",
   "metadata": {},
   "source": [
    "> You can open now the **Lab2 notebook**."
   ]
  },
  {
   "cell_type": "markdown",
   "metadata": {},
   "source": [
    "<img src=\"https://github.com/retkowsky/images/blob/master/Powered-by-MS-Azure-logo-v2.png?raw=true\" height=\"300\" width=\"300\">"
   ]
  }
 ],
 "metadata": {
  "kernel_info": {
   "name": "python3-azureml"
  },
  "kernelspec": {
   "display_name": "Python 3.6 - AzureML",
   "language": "python",
   "name": "python3-azureml"
  },
  "language_info": {
   "codemirror_mode": {
    "name": "ipython",
    "version": 3
   },
   "file_extension": ".py",
   "mimetype": "text/x-python",
   "name": "python",
   "nbconvert_exporter": "python",
   "pygments_lexer": "ipython3",
   "version": "3.6.9"
  },
  "nteract": {
   "version": "nteract-front-end@1.0.0"
  }
 },
 "nbformat": 4,
 "nbformat_minor": 2
}
